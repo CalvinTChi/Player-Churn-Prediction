{
 "cells": [
  {
   "cell_type": "markdown",
   "metadata": {},
   "source": [
    "# Modeling\n",
    "##### _Author: Calvin Chi_\n",
    "\n",
    "---"
   ]
  },
  {
   "cell_type": "markdown",
   "metadata": {},
   "source": [
    "# Introduction\n",
    "In the modeling stage, we are going to run the following machine learning algorithms to predict the probability of player churn:\n",
    "\n",
    "1. K-Nearest Neighbors\n",
    "2. Support Vector Machine (SVM)\n",
    "3. Logistic Regression\n",
    "4. Random Forest\n",
    "5. Quadratic Discriminant Analysis (QDA)\n",
    "6. Neural Network\n",
    "\n",
    "Our dataset will come from the dataset created during [exploratory data analysis](https://github.com/CalvinTChi/Player-Churn-Prediction/blob/master/Calvin/Exploratory_Data_Analysis.ipynb), where poor features were removed and new useful features were created. Then, we will select a subset of total features determined to be the most useful for classification from our exploratory data anaylsis stage. \n",
    "\n",
    "Since there is a class imbalance in our dataset, certain algorithms such as QDA may benefit from a boostrapped dataset. Hence, we will also create a boostrapped dataset such that we have each class represented by roughly 50% of the dataset.\n",
    "\n",
    "Our positive class is non-churn players and our negative class is churn players. We are much more interested in correctly identifying positive classes. However, having a lower true negative rate will not hinder our goal of encouraging players unlikely to churn to pay. Thus, we would like to maximize recall. However, because we can arbitrarily adjust our classification threshold to meet desired recall, our optimization objective cannot be purely recall. In classification tasks, there is a tradeoff between precision and recall, so our optimization objective is to maximize the area under the precision-recall curve."
   ]
  },
  {
   "cell_type": "markdown",
   "metadata": {},
   "source": [
    "# Data Preparation\n",
    "We will first start by loading packages and defining the locations of our data and output directories."
   ]
  },
  {
   "cell_type": "code",
   "execution_count": 7,
   "metadata": {
    "collapsed": false
   },
   "outputs": [],
   "source": [
    "import warnings\n",
    "import pandas as pd\n",
    "import numpy as np\n",
    "import pickle\n",
    "from sklearn import grid_search\n",
    "import sklearn.preprocessing as pp\n",
    "import matplotlib.pyplot as plt\n",
    "import time\n",
    "import random\n",
    "from sklearn.metrics import average_precision_score\n",
    "from sklearn.metrics import precision_recall_curve\n",
    "from sklearn.cross_validation import train_test_split\n",
    "import copy\n",
    "\n",
    "dataDir = \"data/\"\n",
    "fileDir = \"../data/payerChurnData.csv\"\n",
    "outputDir = \"output/\"\n",
    "warnings.filterwarnings('ignore')"
   ]
  },
  {
   "cell_type": "markdown",
   "metadata": {},
   "source": [
    "Load the data"
   ]
  },
  {
   "cell_type": "code",
   "execution_count": 216,
   "metadata": {
    "collapsed": false
   },
   "outputs": [],
   "source": [
    "Xtrain = pickle.load(open(dataDir + \"Xtrain.p\", \"rb\"))\n",
    "ytrain = pickle.load(open(dataDir + \"ytrain.p\", \"rb\"))\n",
    "Xtest = pickle.load(open(dataDir + \"Xtest.p\", \"rb\"))\n",
    "ytest = pickle.load(open(dataDir + \"ytest.p\", \"rb\"))"
   ]
  },
  {
   "cell_type": "markdown",
   "metadata": {},
   "source": [
    "In our dataset we have 83.2% churn-players and 16.8% non-churn players, so we may need to bootstrap our non-churn playes so that we have roughly 50% samples from each class."
   ]
  },
  {
   "cell_type": "code",
   "execution_count": 152,
   "metadata": {
    "collapsed": false
   },
   "outputs": [
    {
     "name": "stdout",
     "output_type": "stream",
     "text": [
      "Bootstrapped training sample dimensions\n",
      "(97086, 270)\n",
      "Bootstrapped test sample dimensions\n",
      "(24280, 270)\n"
     ]
    }
   ],
   "source": [
    "# Bootstrap training dataset \n",
    "negIdx = np.where(ytrain == 0)[0]\n",
    "posIdx = np.where(ytrain == 1)[0]\n",
    "posTot = len(negIdx) - len(posIdx)\n",
    "\n",
    "# Sample with replacement \n",
    "BSidx = np.random.choice(posIdx, posTot)\n",
    "# Randomly shuffle our training samples\n",
    "idx = np.random.permutation(np.hstack((negIdx, posIdx, BSidx)))\n",
    "XtrainBS = Xtrain.iloc[idx, :]\n",
    "ytrainBS = ytrain.iloc[idx]\n",
    "print(\"Bootstrapped training sample dimensions\")\n",
    "print(XtrainBS.shape)\n",
    "\n",
    "# Bootstrap test dataset\n",
    "negIdx = np.where(ytest == 0)[0]\n",
    "posIdx = np.where(ytest == 1)[0]\n",
    "posTot = len(negIdx) - len(posIdx)\n",
    "\n",
    "# Sample with replacement\n",
    "BSidx = np.random.choice(posIdx, posTot)\n",
    "# Randomly shuffle our training samples\n",
    "idx = np.random.permutation(np.hstack((negIdx, posIdx, BSidx)))\n",
    "XtestBS = Xtest.iloc[idx, :]\n",
    "ytestBS = ytest.iloc[idx]\n",
    "print(\"Bootstrapped test sample dimensions\")\n",
    "print(XtestBS.shape)"
   ]
  },
  {
   "cell_type": "markdown",
   "metadata": {},
   "source": [
    "# K-Nearest Neighbors"
   ]
  },
  {
   "cell_type": "code",
   "execution_count": 5,
   "metadata": {
    "collapsed": true
   },
   "outputs": [],
   "source": [
    "from sklearn.neighbors import KNeighborsClassifier"
   ]
  },
  {
   "cell_type": "markdown",
   "metadata": {},
   "source": [
    "### Non-Bootstrap Dataset\n",
    "Subset our dataset based on selected attributes"
   ]
  },
  {
   "cell_type": "code",
   "execution_count": 8,
   "metadata": {
    "collapsed": false
   },
   "outputs": [
    {
     "name": "stdout",
     "output_type": "stream",
     "text": [
      "(58369, 29)\n",
      "(14593, 29)\n"
     ]
    }
   ],
   "source": [
    "attributes = pickle.load(open(outputDir + \"attributes.p\", \"rb\"))\n",
    "XtrainSub = copy.deepcopy(Xtrain.ix[:, attributes])\n",
    "XtestSub = copy.deepcopy(Xtest.ix[:, attributes])\n",
    "print(XtrainSub.shape)\n",
    "print(XtestSub.shape)"
   ]
  },
  {
   "cell_type": "markdown",
   "metadata": {},
   "source": [
    "Scale the data"
   ]
  },
  {
   "cell_type": "code",
   "execution_count": 9,
   "metadata": {
    "collapsed": false
   },
   "outputs": [],
   "source": [
    "Xtrain = pp.scale(XtrainSub)\n",
    "Xtest = pp.scale(XtestSub)"
   ]
  },
  {
   "cell_type": "markdown",
   "metadata": {},
   "source": [
    "kNN tuning for number of neighbors $n$"
   ]
  },
  {
   "cell_type": "code",
   "execution_count": 10,
   "metadata": {
    "collapsed": false
   },
   "outputs": [
    {
     "name": "stdout",
     "output_type": "stream",
     "text": [
      "Fitting 3 folds for each of 9 candidates, totalling 27 fits\n"
     ]
    },
    {
     "name": "stderr",
     "output_type": "stream",
     "text": [
      "[Parallel(n_jobs=1)]: Done  27 out of  27 | elapsed: 336.0min finished\n"
     ]
    },
    {
     "data": {
      "text/plain": [
       "GridSearchCV(cv=3, error_score='raise',\n",
       "       estimator=KNeighborsClassifier(algorithm='auto', leaf_size=30, metric='minkowski',\n",
       "           metric_params=None, n_jobs=1, n_neighbors=5, p=2,\n",
       "           weights='uniform'),\n",
       "       fit_params={}, iid=True, n_jobs=1,\n",
       "       param_grid={'n_neighbors': [4, 8, 16, 32, 64, 128, 256, 512, 1024]},\n",
       "       pre_dispatch='2*n_jobs', refit=True, scoring='average_precision',\n",
       "       verbose=True)"
      ]
     },
     "execution_count": 10,
     "metadata": {},
     "output_type": "execute_result"
    }
   ],
   "source": [
    "knn = KNeighborsClassifier()\n",
    "neighbors = [2**i for i in range(2, 11)]\n",
    "parameters = {'n_neighbors':neighbors}\n",
    "clf = grid_search.GridSearchCV(knn, parameters, scoring='average_precision', cv=3, verbose=True)\n",
    "clf.fit(Xtrain, ytrain)"
   ]
  },
  {
   "cell_type": "code",
   "execution_count": 11,
   "metadata": {
    "collapsed": false
   },
   "outputs": [
    {
     "data": {
      "text/plain": [
       "[mean: 0.57016, std: 0.01000, params: {'n_neighbors': 4},\n",
       " mean: 0.60055, std: 0.00987, params: {'n_neighbors': 8},\n",
       " mean: 0.61836, std: 0.01053, params: {'n_neighbors': 16},\n",
       " mean: 0.62715, std: 0.01019, params: {'n_neighbors': 32},\n",
       " mean: 0.62924, std: 0.00939, params: {'n_neighbors': 64},\n",
       " mean: 0.62762, std: 0.00983, params: {'n_neighbors': 128},\n",
       " mean: 0.62374, std: 0.00876, params: {'n_neighbors': 256},\n",
       " mean: 0.61626, std: 0.00992, params: {'n_neighbors': 512},\n",
       " mean: 0.60891, std: 0.01016, params: {'n_neighbors': 1024}]"
      ]
     },
     "execution_count": 11,
     "metadata": {},
     "output_type": "execute_result"
    }
   ],
   "source": [
    "gridScores = clf.grid_scores_\n",
    "clf.grid_scores_"
   ]
  },
  {
   "cell_type": "markdown",
   "metadata": {},
   "source": [
    "Gather all the mean area under the PR curve scores from hyperparameter tuning:"
   ]
  },
  {
   "cell_type": "code",
   "execution_count": 12,
   "metadata": {
    "collapsed": false
   },
   "outputs": [],
   "source": [
    "means = []\n",
    "for item in gridScores: \n",
    "    means.append(item[1])"
   ]
  },
  {
   "cell_type": "markdown",
   "metadata": {},
   "source": [
    "Now make a plot of the area under the PR curve score against the hyperparameters $n$:"
   ]
  },
  {
   "cell_type": "code",
   "execution_count": 13,
   "metadata": {
    "collapsed": false
   },
   "outputs": [
    {
     "data": {
      "image/png": "[encoded data removed]",
      "text/plain": [
       "<matplotlib.figure.Figure at 0x10dc485f8>"
      ]
     },
     "metadata": {},
     "output_type": "display_data"
    }
   ],
   "source": [
    "%matplotlib inline\n",
    "plt.figure(figsize=(5, 3))\n",
    "plt.title(\"Mean Crossfold Validation Area under PR Curve vs K\")\n",
    "plt.plot(neighbors, means)\n",
    "plt.show()"
   ]
  },
  {
   "cell_type": "markdown",
   "metadata": {},
   "source": [
    "So the best parameter is..."
   ]
  },
  {
   "cell_type": "code",
   "execution_count": 14,
   "metadata": {
    "collapsed": false
   },
   "outputs": [
    {
     "name": "stdout",
     "output_type": "stream",
     "text": [
      "Best parameter: \n",
      "{'n_neighbors': 64}\n"
     ]
    }
   ],
   "source": [
    "print(\"Best parameter: \")\n",
    "print(clf.best_params_)"
   ]
  },
  {
   "cell_type": "markdown",
   "metadata": {},
   "source": [
    "It looks like `k = 64` is the best parameter for k-NN. Let us evaluate its performance on the test set. First predict probability and output area under the ROC curve."
   ]
  },
  {
   "cell_type": "code",
   "execution_count": 15,
   "metadata": {
    "collapsed": true
   },
   "outputs": [],
   "source": [
    "knn = KNeighborsClassifier(n_neighbors=64)\n",
    "knn.fit(Xtrain, ytrain)\n",
    "prob = knn.predict_proba(Xtest)[:, 1]"
   ]
  },
  {
   "cell_type": "markdown",
   "metadata": {},
   "source": [
    "The area under the PR curve for the test set is:"
   ]
  },
  {
   "cell_type": "code",
   "execution_count": 16,
   "metadata": {
    "collapsed": false
   },
   "outputs": [
    {
     "name": "stdout",
     "output_type": "stream",
     "text": [
      "Area under PR Curve\n",
      "0.622584800895\n"
     ]
    }
   ],
   "source": [
    "area = average_precision_score(ytest, prob)\n",
    "print(\"Area under PR Curve\")\n",
    "print(area)"
   ]
  },
  {
   "cell_type": "markdown",
   "metadata": {},
   "source": [
    "Let us visualize the PR curve from our output probabilities:"
   ]
  },
  {
   "cell_type": "code",
   "execution_count": 17,
   "metadata": {
    "collapsed": false
   },
   "outputs": [
    {
     "data": {
      "image/png": "[encoded data removed]",
      "text/plain": [
       "<matplotlib.figure.Figure at 0x10b99a0b8>"
      ]
     },
     "metadata": {},
     "output_type": "display_data"
    }
   ],
   "source": [
    "precision, recall, thresholds = precision_recall_curve(ytest, prob)\n",
    "plt.plot(recall, precision, \"o-\", color=\"black\")\n",
    "plt.xlabel(\"Recall\")\n",
    "plt.ylabel(\"Precision\")\n",
    "plt.title(\"Lapse7\")\n",
    "plt.show()"
   ]
  },
  {
   "cell_type": "markdown",
   "metadata": {},
   "source": [
    "And also evaluate the accuracy"
   ]
  },
  {
   "cell_type": "code",
   "execution_count": 18,
   "metadata": {
    "collapsed": false
   },
   "outputs": [
    {
     "name": "stdout",
     "output_type": "stream",
     "text": [
      "Accuracy: \n",
      "0.867539231138\n"
     ]
    }
   ],
   "source": [
    "pred = knn.predict(Xtest)\n",
    "print(\"Accuracy: \")\n",
    "print(np.mean(pred == ytest))"
   ]
  },
  {
   "cell_type": "markdown",
   "metadata": {},
   "source": [
    "Finally, let us visualize the confusion matrix:"
   ]
  },
  {
   "cell_type": "code",
   "execution_count": 19,
   "metadata": {
    "collapsed": false
   },
   "outputs": [
    {
     "data": {
      "text/html": [
       "<div>\n",
       "<table border=\"1\" class=\"dataframe\">\n",
       "  <thead>\n",
       "    <tr style=\"text-align: right;\">\n",
       "      <th>Predicted</th>\n",
       "      <th>0</th>\n",
       "      <th>1</th>\n",
       "      <th>All</th>\n",
       "    </tr>\n",
       "    <tr>\n",
       "      <th>True</th>\n",
       "      <th></th>\n",
       "      <th></th>\n",
       "      <th></th>\n",
       "    </tr>\n",
       "  </thead>\n",
       "  <tbody>\n",
       "    <tr>\n",
       "      <th>0</th>\n",
       "      <td>11765</td>\n",
       "      <td>375</td>\n",
       "      <td>12140</td>\n",
       "    </tr>\n",
       "    <tr>\n",
       "      <th>1</th>\n",
       "      <td>1558</td>\n",
       "      <td>895</td>\n",
       "      <td>2453</td>\n",
       "    </tr>\n",
       "    <tr>\n",
       "      <th>All</th>\n",
       "      <td>13323</td>\n",
       "      <td>1270</td>\n",
       "      <td>14593</td>\n",
       "    </tr>\n",
       "  </tbody>\n",
       "</table>\n",
       "</div>"
      ],
      "text/plain": [
       "Predicted      0     1    All\n",
       "True                         \n",
       "0          11765   375  12140\n",
       "1           1558   895   2453\n",
       "All        13323  1270  14593"
      ]
     },
     "execution_count": 19,
     "metadata": {},
     "output_type": "execute_result"
    }
   ],
   "source": [
    "pd.crosstab(ytest, pred, rownames=['True'], colnames=['Predicted'], margins=True)"
   ]
  },
  {
   "cell_type": "markdown",
   "metadata": {},
   "source": [
    "According to the confusion matrix, at 50% classification threshold, we have a relatively low recall of 0.36, but high precision of 0.70. If we only had the kNN model trained on the non-bootstrap sample, then we will want to decrease the non-churn player classification threshold in order to obtain higher recall. However, this will inevitably cause a tradeoff with precision. From the PR curve plotted above, a 90% recall corresponds to roughly 30% precision. "
   ]
  },
  {
   "cell_type": "markdown",
   "metadata": {
    "collapsed": true
   },
   "source": [
    "### Bootstrap Dataset"
   ]
  },
  {
   "cell_type": "markdown",
   "metadata": {},
   "source": [
    "Subset our dataset based on selected attributes"
   ]
  },
  {
   "cell_type": "code",
   "execution_count": 24,
   "metadata": {
    "collapsed": false
   },
   "outputs": [
    {
     "name": "stdout",
     "output_type": "stream",
     "text": [
      "(97086, 29)\n",
      "(24280, 29)\n"
     ]
    }
   ],
   "source": [
    "attributes = pickle.load(open(outputDir + \"attributes.p\", \"rb\"))\n",
    "XtrainSub = copy.deepcopy(XtrainBS.ix[:, attributes])\n",
    "XtestSub = copy.deepcopy(XtestBS.ix[:, attributes])\n",
    "print(XtrainSub.shape)\n",
    "print(XtestSub.shape)"
   ]
  },
  {
   "cell_type": "markdown",
   "metadata": {},
   "source": [
    "First scale the data"
   ]
  },
  {
   "cell_type": "code",
   "execution_count": 26,
   "metadata": {
    "collapsed": false
   },
   "outputs": [],
   "source": [
    "Xtrain = pp.scale(XtrainSub)\n",
    "Xtest = pp.scale(XtestSub)"
   ]
  },
  {
   "cell_type": "markdown",
   "metadata": {},
   "source": [
    "Do a hyperparameter search"
   ]
  },
  {
   "cell_type": "code",
   "execution_count": 27,
   "metadata": {
    "collapsed": false
   },
   "outputs": [
    {
     "name": "stdout",
     "output_type": "stream",
     "text": [
      "Fitting 3 folds for each of 6 candidates, totalling 18 fits\n"
     ]
    },
    {
     "name": "stderr",
     "output_type": "stream",
     "text": [
      "[Parallel(n_jobs=1)]: Done  18 out of  18 | elapsed: 49.5min finished\n"
     ]
    },
    {
     "data": {
      "text/plain": [
       "GridSearchCV(cv=3, error_score='raise',\n",
       "       estimator=KNeighborsClassifier(algorithm='auto', leaf_size=30, metric='minkowski',\n",
       "           metric_params=None, n_jobs=1, n_neighbors=5, p=2,\n",
       "           weights='uniform'),\n",
       "       fit_params={}, iid=True, n_jobs=1,\n",
       "       param_grid={'n_neighbors': [32, 64, 128, 256, 512, 1024]},\n",
       "       pre_dispatch='2*n_jobs', refit=True, scoring='average_precision',\n",
       "       verbose=True)"
      ]
     },
     "execution_count": 27,
     "metadata": {},
     "output_type": "execute_result"
    }
   ],
   "source": [
    "knn = KNeighborsClassifier()\n",
    "neighbors = [2**i for i in range(5, 11)]\n",
    "parameters = {'n_neighbors':neighbors}\n",
    "clf = grid_search.GridSearchCV(knn, parameters, scoring='average_precision', cv=3, verbose=True)\n",
    "clf.fit(Xtrain, ytrainBS)"
   ]
  },
  {
   "cell_type": "markdown",
   "metadata": {},
   "source": [
    "Print out the scores from hyperparameter search"
   ]
  },
  {
   "cell_type": "code",
   "execution_count": 28,
   "metadata": {
    "collapsed": false
   },
   "outputs": [
    {
     "data": {
      "text/plain": [
       "[mean: 0.53218, std: 0.00183, params: {'n_neighbors': 32},\n",
       " mean: 0.53216, std: 0.00060, params: {'n_neighbors': 64},\n",
       " mean: 0.53024, std: 0.00103, params: {'n_neighbors': 128},\n",
       " mean: 0.52542, std: 0.00139, params: {'n_neighbors': 256},\n",
       " mean: 0.51979, std: 0.00131, params: {'n_neighbors': 512},\n",
       " mean: 0.51265, std: 0.00273, params: {'n_neighbors': 1024}]"
      ]
     },
     "execution_count": 28,
     "metadata": {},
     "output_type": "execute_result"
    }
   ],
   "source": [
    "clf.grid_scores_"
   ]
  },
  {
   "cell_type": "markdown",
   "metadata": {},
   "source": [
    "It looks like 32 neighbors is best for the bootstrap sample. Let us evaluate the model on the test set."
   ]
  },
  {
   "cell_type": "code",
   "execution_count": 31,
   "metadata": {
    "collapsed": false
   },
   "outputs": [],
   "source": [
    "knn = KNeighborsClassifier(n_neighbors=32)\n",
    "knn.fit(Xtrain, ytrainBS)\n",
    "predProb = knn.predict_proba(Xtest)[:, 1]"
   ]
  },
  {
   "cell_type": "markdown",
   "metadata": {},
   "source": [
    "The area under the PR curve for the test set is:"
   ]
  },
  {
   "cell_type": "code",
   "execution_count": 32,
   "metadata": {
    "collapsed": false
   },
   "outputs": [
    {
     "name": "stdout",
     "output_type": "stream",
     "text": [
      "Area under PR Curve\n",
      "0.521314525594\n"
     ]
    }
   ],
   "source": [
    "area = average_precision_score(ytestBS, predProb)\n",
    "print(\"Area under PR Curve\")\n",
    "print(area)"
   ]
  },
  {
   "cell_type": "markdown",
   "metadata": {},
   "source": [
    "Let us visualize the PR curve from our output probabilities:"
   ]
  },
  {
   "cell_type": "code",
   "execution_count": 34,
   "metadata": {
    "collapsed": false
   },
   "outputs": [
    {
     "data": {
      "image/png": "[encoded data removed]",
      "text/plain": [
       "<matplotlib.figure.Figure at 0x10bc27a20>"
      ]
     },
     "metadata": {},
     "output_type": "display_data"
    }
   ],
   "source": [
    "precision, recall, thresholds = precision_recall_curve(ytestBS, predProb)\n",
    "plt.plot(recall, precision, \"o-\", color=\"black\")\n",
    "plt.xlabel(\"Recall\")\n",
    "plt.ylabel(\"Precision\")\n",
    "plt.title(\"Lapse7\")\n",
    "plt.show()"
   ]
  },
  {
   "cell_type": "markdown",
   "metadata": {},
   "source": [
    "And also evaluate the accuracy:"
   ]
  },
  {
   "cell_type": "code",
   "execution_count": 36,
   "metadata": {
    "collapsed": false
   },
   "outputs": [
    {
     "name": "stdout",
     "output_type": "stream",
     "text": [
      "Accuracy: \n",
      "0.917257001647\n"
     ]
    }
   ],
   "source": [
    "pred = knn.predict(Xtest)\n",
    "print(\"Accuracy: \")\n",
    "print(np.mean(pred == ytestBS))"
   ]
  },
  {
   "cell_type": "markdown",
   "metadata": {},
   "source": [
    "Confusion matrix"
   ]
  },
  {
   "cell_type": "code",
   "execution_count": 38,
   "metadata": {
    "collapsed": false
   },
   "outputs": [
    {
     "data": {
      "text/html": [
       "<div>\n",
       "<table border=\"1\" class=\"dataframe\">\n",
       "  <thead>\n",
       "    <tr style=\"text-align: right;\">\n",
       "      <th>Predicted</th>\n",
       "      <th>0</th>\n",
       "      <th>1</th>\n",
       "      <th>All</th>\n",
       "    </tr>\n",
       "    <tr>\n",
       "      <th>True</th>\n",
       "      <th></th>\n",
       "      <th></th>\n",
       "      <th></th>\n",
       "    </tr>\n",
       "  </thead>\n",
       "  <tbody>\n",
       "    <tr>\n",
       "      <th>0</th>\n",
       "      <td>21611</td>\n",
       "      <td>216</td>\n",
       "      <td>21827</td>\n",
       "    </tr>\n",
       "    <tr>\n",
       "      <th>1</th>\n",
       "      <td>1793</td>\n",
       "      <td>660</td>\n",
       "      <td>2453</td>\n",
       "    </tr>\n",
       "    <tr>\n",
       "      <th>All</th>\n",
       "      <td>23404</td>\n",
       "      <td>876</td>\n",
       "      <td>24280</td>\n",
       "    </tr>\n",
       "  </tbody>\n",
       "</table>\n",
       "</div>"
      ],
      "text/plain": [
       "Predicted      0    1    All\n",
       "True                        \n",
       "0          21611  216  21827\n",
       "1           1793  660   2453\n",
       "All        23404  876  24280"
      ]
     },
     "execution_count": 38,
     "metadata": {},
     "output_type": "execute_result"
    }
   ],
   "source": [
    "pd.crosstab(ytestBS, pred, rownames=['True'], colnames=['Predicted'], margins=True)"
   ]
  },
  {
   "cell_type": "markdown",
   "metadata": {},
   "source": [
    "k-NN performs worse for the bootstrapped dataset compared to the original dataset. If we were to incorporate our k-NN model to our final results, we would choose the one trained on the original dataset."
   ]
  },
  {
   "cell_type": "markdown",
   "metadata": {},
   "source": [
    "# SVM"
   ]
  },
  {
   "cell_type": "markdown",
   "metadata": {},
   "source": [
    "Import the SVM package"
   ]
  },
  {
   "cell_type": "code",
   "execution_count": 62,
   "metadata": {
    "collapsed": true
   },
   "outputs": [],
   "source": [
    "from sklearn.svm import SVC"
   ]
  },
  {
   "cell_type": "markdown",
   "metadata": {},
   "source": [
    "Scale the data:"
   ]
  },
  {
   "cell_type": "code",
   "execution_count": 217,
   "metadata": {
    "collapsed": false
   },
   "outputs": [],
   "source": [
    "features = Xtrain.columns.values\n",
    "Xtrain = pd.DataFrame(pp.scale(Xtrain))\n",
    "Xtrain.columns = features\n",
    "Xtest = pd.DataFrame(pp.scale(Xtest))\n",
    "Xtest.columns = features"
   ]
  },
  {
   "cell_type": "markdown",
   "metadata": {},
   "source": [
    "Subset the data based on selected attributes from decision tree"
   ]
  },
  {
   "cell_type": "code",
   "execution_count": 218,
   "metadata": {
    "collapsed": false
   },
   "outputs": [
    {
     "name": "stdout",
     "output_type": "stream",
     "text": [
      "(58369, 29)\n",
      "(14593, 29)\n"
     ]
    }
   ],
   "source": [
    "attributes = pickle.load(open(outputDir + \"attributes.p\", \"rb\"))\n",
    "XtrainSub = Xtrain.ix[:, attributes]\n",
    "XtestSub = Xtest.ix[:, attributes]\n",
    "print(XtrainSub.shape)\n",
    "print(XtestSub.shape)"
   ]
  },
  {
   "cell_type": "markdown",
   "metadata": {},
   "source": [
    "Below is sample code for hyperparameter tuning for SVM. Hyperparameter tuning is not run in Juypter Notebook to reduce runtime. We have prior knowledge that a `rbf` kernel works better than a `polynomial` kernel.\n",
    "```python\n",
    "svm = SVC(probability=True)\n",
    "Cs = [2**i for i in range(-3, 4)]\n",
    "kernels = ['poly', 'rbf']\n",
    "degrees = [2, 3]\n",
    "parameters = {'C':Cs, 'kernel':kernels, 'degree':degrees}\n",
    "clf = grid_search.GridSearchCV(svm, parameters, cv=3, n_jobs=2, \n",
    "\tscoring='average_precision', verbose=True)\n",
    "clf.fit(XtrainSub, ytrain)\n",
    "```"
   ]
  },
  {
   "cell_type": "markdown",
   "metadata": {},
   "source": [
    "Load scores after turning"
   ]
  },
  {
   "cell_type": "code",
   "execution_count": 109,
   "metadata": {
    "collapsed": true
   },
   "outputs": [],
   "source": [
    "clf2 = pickle.load(open(outputDir + \"svmTune.p\", \"rb\"))"
   ]
  },
  {
   "cell_type": "markdown",
   "metadata": {},
   "source": [
    "Print out the scores"
   ]
  },
  {
   "cell_type": "code",
   "execution_count": 110,
   "metadata": {
    "collapsed": false
   },
   "outputs": [
    {
     "data": {
      "text/plain": [
       "[mean: 0.51562, std: 0.01984, params: {'C': 0.25},\n",
       " mean: 0.51209, std: 0.01423, params: {'C': 0.5},\n",
       " mean: 0.50464, std: 0.00931, params: {'C': 1},\n",
       " mean: 0.49618, std: 0.00293, params: {'C': 2},\n",
       " mean: 0.48328, std: 0.00118, params: {'C': 4},\n",
       " mean: 0.46871, std: 0.00614, params: {'C': 8},\n",
       " mean: 0.45674, std: 0.00793, params: {'C': 16},\n",
       " mean: 0.44262, std: 0.00613, params: {'C': 32},\n",
       " mean: 0.43170, std: 0.00202, params: {'C': 64},\n",
       " mean: 0.42833, std: 0.00431, params: {'C': 128}]"
      ]
     },
     "execution_count": 110,
     "metadata": {},
     "output_type": "execute_result"
    }
   ],
   "source": [
    "clf2.grid_scores_"
   ]
  },
  {
   "cell_type": "markdown",
   "metadata": {},
   "source": [
    "It appears that C=0.25 is the best parameter."
   ]
  },
  {
   "cell_type": "markdown",
   "metadata": {},
   "source": [
    "Train\n",
    "```python \n",
    "svm = SVC(probability=True, kernel='rbf', C=0.25)\n",
    "svm.fit(XtrainSub, ytrain)\n",
    "```"
   ]
  },
  {
   "cell_type": "code",
   "execution_count": 222,
   "metadata": {
    "collapsed": false
   },
   "outputs": [],
   "source": [
    "svm = pickle.load(open(outputDir + \"svm.p\", \"rb\"))"
   ]
  },
  {
   "cell_type": "markdown",
   "metadata": {},
   "source": [
    "Predict on test set"
   ]
  },
  {
   "cell_type": "code",
   "execution_count": 223,
   "metadata": {
    "collapsed": false
   },
   "outputs": [
    {
     "name": "stdout",
     "output_type": "stream",
     "text": [
      "Accuracy: \n",
      "0.598026451038\n"
     ]
    }
   ],
   "source": [
    "pred = svm.predict(XtestSub)\n",
    "print(\"Accuracy: \")\n",
    "print(np.mean(pred == ytest))"
   ]
  },
  {
   "cell_type": "markdown",
   "metadata": {},
   "source": [
    "Evaluate area under the PR curve"
   ]
  },
  {
   "cell_type": "code",
   "execution_count": 224,
   "metadata": {
    "collapsed": false
   },
   "outputs": [
    {
     "name": "stdout",
     "output_type": "stream",
     "text": [
      "Area under PR Curve\n",
      "0.439737616813\n"
     ]
    }
   ],
   "source": [
    "prob = svm.predict_proba(XtestSub)[:, 1]\n",
    "area = average_precision_score(ytest, prob)\n",
    "print(\"Area under PR Curve\")\n",
    "print(area)"
   ]
  },
  {
   "cell_type": "markdown",
   "metadata": {},
   "source": [
    "Confusion matrix"
   ]
  },
  {
   "cell_type": "code",
   "execution_count": 225,
   "metadata": {
    "collapsed": false
   },
   "outputs": [
    {
     "data": {
      "text/html": [
       "<div>\n",
       "<table border=\"1\" class=\"dataframe\">\n",
       "  <thead>\n",
       "    <tr style=\"text-align: right;\">\n",
       "      <th>Predicted</th>\n",
       "      <th>0</th>\n",
       "      <th>1</th>\n",
       "      <th>All</th>\n",
       "    </tr>\n",
       "    <tr>\n",
       "      <th>True</th>\n",
       "      <th></th>\n",
       "      <th></th>\n",
       "      <th></th>\n",
       "    </tr>\n",
       "  </thead>\n",
       "  <tbody>\n",
       "    <tr>\n",
       "      <th>0</th>\n",
       "      <td>6460</td>\n",
       "      <td>5680</td>\n",
       "      <td>12140</td>\n",
       "    </tr>\n",
       "    <tr>\n",
       "      <th>1</th>\n",
       "      <td>186</td>\n",
       "      <td>2267</td>\n",
       "      <td>2453</td>\n",
       "    </tr>\n",
       "    <tr>\n",
       "      <th>All</th>\n",
       "      <td>6646</td>\n",
       "      <td>7947</td>\n",
       "      <td>14593</td>\n",
       "    </tr>\n",
       "  </tbody>\n",
       "</table>\n",
       "</div>"
      ],
      "text/plain": [
       "Predicted     0     1    All\n",
       "True                        \n",
       "0          6460  5680  12140\n",
       "1           186  2267   2453\n",
       "All        6646  7947  14593"
      ]
     },
     "execution_count": 225,
     "metadata": {},
     "output_type": "execute_result"
    }
   ],
   "source": [
    "pd.crosstab(ytest, pred, rownames=['True'], colnames=['Predicted'], margins=True)"
   ]
  },
  {
   "cell_type": "markdown",
   "metadata": {},
   "source": [
    "Plot the PR curve"
   ]
  },
  {
   "cell_type": "code",
   "execution_count": 226,
   "metadata": {
    "collapsed": false
   },
   "outputs": [
    {
     "data": {
      "image/png": "[encoded data removed]",
      "text/plain": [
       "<matplotlib.figure.Figure at 0x10ca28b00>"
      ]
     },
     "metadata": {},
     "output_type": "display_data"
    }
   ],
   "source": [
    "%matplotlib inline\n",
    "precision, recall, thresholds = precision_recall_curve(ytest, prob)\n",
    "plt.plot(recall, precision, \"o-\", color=\"black\")\n",
    "plt.xlabel(\"Recall\")\n",
    "plt.ylabel(\"Precision\")\n",
    "plt.title(\"Lapse7\")\n",
    "plt.show()"
   ]
  },
  {
   "cell_type": "markdown",
   "metadata": {},
   "source": [
    "Save the predictions"
   ]
  },
  {
   "cell_type": "code",
   "execution_count": 227,
   "metadata": {
    "collapsed": false
   },
   "outputs": [],
   "source": [
    "pickle.dump(prob, open(outputDir + \"svm.prediction.p\", 'wb'))"
   ]
  },
  {
   "cell_type": "markdown",
   "metadata": {},
   "source": [
    "If we were to reach 90% recall, we would have roughly 30% precision. SVM appears to be a viable algorithm for our problem."
   ]
  },
  {
   "cell_type": "markdown",
   "metadata": {},
   "source": [
    "# Logistic Regression"
   ]
  },
  {
   "cell_type": "code",
   "execution_count": 39,
   "metadata": {
    "collapsed": true
   },
   "outputs": [],
   "source": [
    "from sklearn.linear_model import LogisticRegression\n",
    "from sklearn.ensemble import AdaBoostClassifier"
   ]
  },
  {
   "cell_type": "markdown",
   "metadata": {},
   "source": [
    "Scale the data:"
   ]
  },
  {
   "cell_type": "code",
   "execution_count": 45,
   "metadata": {
    "collapsed": false
   },
   "outputs": [],
   "source": [
    "features = Xtrain.columns.values\n",
    "Xtrain = pd.DataFrame(pp.scale(Xtrain))\n",
    "Xtrain.columns = features\n",
    "Xtest = pd.DataFrame(pp.scale(Xtest))\n",
    "Xtest.columns = features"
   ]
  },
  {
   "cell_type": "markdown",
   "metadata": {},
   "source": [
    "Subset the data based on selected attributes from decision tree"
   ]
  },
  {
   "cell_type": "code",
   "execution_count": 46,
   "metadata": {
    "collapsed": true
   },
   "outputs": [],
   "source": [
    "attributes = pickle.load(open(outputDir + \"attributes.p\", \"rb\"))\n",
    "XtrainSub = Xtrain.ix[:, attributes]\n",
    "XtestSub = Xtest.ix[:, attributes]"
   ]
  },
  {
   "cell_type": "markdown",
   "metadata": {},
   "source": [
    "Tune the model"
   ]
  },
  {
   "cell_type": "code",
   "execution_count": 94,
   "metadata": {
    "collapsed": false
   },
   "outputs": [
    {
     "name": "stdout",
     "output_type": "stream",
     "text": [
      "Fitting 3 folds for each of 12 candidates, totalling 36 fits\n"
     ]
    },
    {
     "name": "stderr",
     "output_type": "stream",
     "text": [
      "[Parallel(n_jobs=1)]: Done  36 out of  36 | elapsed:  2.2min finished\n"
     ]
    },
    {
     "data": {
      "text/plain": [
       "GridSearchCV(cv=3, error_score='raise',\n",
       "       estimator=LogisticRegression(C=1.0, class_weight={0: 0.1, 1: 0.9}, dual=False,\n",
       "          fit_intercept=True, intercept_scaling=1, max_iter=100,\n",
       "          multi_class='ovr', n_jobs=1, penalty='l2', random_state=None,\n",
       "          solver='liblinear', tol=0.0001, verbose=0, warm_start=False),\n",
       "       fit_params={}, iid=True, n_jobs=1,\n",
       "       param_grid={'C': [0.0625, 0.125, 0.25, 0.5, 1, 2, 4, 8, 16, 32, 64, 128]},\n",
       "       pre_dispatch='2*n_jobs', refit=True, scoring='average_precision',\n",
       "       verbose=True)"
      ]
     },
     "execution_count": 94,
     "metadata": {},
     "output_type": "execute_result"
    }
   ],
   "source": [
    "Cs = [2**i for i in range(-4, 8)]\n",
    "lr = LogisticRegression(class_weight={0:0.1, 1:0.9})\n",
    "parameters = {'C':Cs}\n",
    "clf = grid_search.GridSearchCV(lr, parameters, cv=3, scoring='average_precision', \n",
    "                               verbose=True)\n",
    "clf.fit(Xtrain, ytrain)"
   ]
  },
  {
   "cell_type": "markdown",
   "metadata": {},
   "source": [
    "Print out the scores"
   ]
  },
  {
   "cell_type": "code",
   "execution_count": 99,
   "metadata": {
    "collapsed": false
   },
   "outputs": [
    {
     "data": {
      "text/plain": [
       "[mean: 0.51020, std: 0.00847, params: {'C': 0.0625},\n",
       " mean: 0.51007, std: 0.00832, params: {'C': 0.125},\n",
       " mean: 0.50986, std: 0.00811, params: {'C': 0.25},\n",
       " mean: 0.50971, std: 0.00799, params: {'C': 0.5},\n",
       " mean: 0.50952, std: 0.00796, params: {'C': 1},\n",
       " mean: 0.50938, std: 0.00796, params: {'C': 2},\n",
       " mean: 0.50931, std: 0.00795, params: {'C': 4},\n",
       " mean: 0.50926, std: 0.00795, params: {'C': 8},\n",
       " mean: 0.50924, std: 0.00795, params: {'C': 16},\n",
       " mean: 0.50924, std: 0.00795, params: {'C': 32},\n",
       " mean: 0.50923, std: 0.00795, params: {'C': 64},\n",
       " mean: 0.50923, std: 0.00795, params: {'C': 128}]"
      ]
     },
     "execution_count": 99,
     "metadata": {},
     "output_type": "execute_result"
    }
   ],
   "source": [
    "gridScores = clf.grid_scores_\n",
    "gridScores"
   ]
  },
  {
   "cell_type": "markdown",
   "metadata": {},
   "source": [
    "It looks like the best regularization parameter `C` is 0.0625. Instead of training one logistic regression model, let us perform adaboost with multiple logistic regression models. In adaboost, models are trained successively, and misclassified samples from the previous model are weighted more heavily in subsequent models. The final classifier is a weighted sum of the multiple classifiers. "
   ]
  },
  {
   "cell_type": "code",
   "execution_count": 54,
   "metadata": {
    "collapsed": false
   },
   "outputs": [
    {
     "data": {
      "text/plain": [
       "AdaBoostClassifier(algorithm='SAMME.R',\n",
       "          base_estimator=LogisticRegression(C=0.0625, class_weight={0: 0.1, 1: 0.9}, dual=False,\n",
       "          fit_intercept=True, intercept_scaling=1, max_iter=100,\n",
       "          multi_class='ovr', n_jobs=1, penalty='l2', random_state=None,\n",
       "          solver='liblinear', tol=0.0001, verbose=0, warm_start=False),\n",
       "          learning_rate=1.0, n_estimators=50, random_state=None)"
      ]
     },
     "execution_count": 54,
     "metadata": {},
     "output_type": "execute_result"
    }
   ],
   "source": [
    "lr = LogisticRegression(C=0.0625, class_weight={0:0.1, 1:0.90})\n",
    "ada = AdaBoostClassifier(base_estimator=lr, n_estimators=50)\n",
    "ada.fit(XtrainSub, ytrain)"
   ]
  },
  {
   "cell_type": "markdown",
   "metadata": {},
   "source": [
    "Output the area under the PR curve"
   ]
  },
  {
   "cell_type": "code",
   "execution_count": 55,
   "metadata": {
    "collapsed": false
   },
   "outputs": [
    {
     "name": "stdout",
     "output_type": "stream",
     "text": [
      "Area under PR curve: \n",
      "0.480295887763\n"
     ]
    }
   ],
   "source": [
    "predProb = ada.predict_proba(XtestSub)[:, 1]\n",
    "pr = average_precision_score(ytest, predProb)\n",
    "print(\"Area under PR curve: \")\n",
    "print(pr)"
   ]
  },
  {
   "cell_type": "markdown",
   "metadata": {},
   "source": [
    "And plot the PR curve"
   ]
  },
  {
   "cell_type": "code",
   "execution_count": 59,
   "metadata": {
    "collapsed": false
   },
   "outputs": [
    {
     "data": {
      "image/png": "[encoded data removed]",
      "text/plain": [
       "<matplotlib.figure.Figure at 0x10b99deb8>"
      ]
     },
     "metadata": {},
     "output_type": "display_data"
    }
   ],
   "source": [
    "%matplotlib inline\n",
    "precision, recall, thresholds = precision_recall_curve(ytest, predProb)\n",
    "plt.plot(recall, precision, \"o-\", color=\"black\")\n",
    "plt.xlabel(\"Recall\")\n",
    "plt.ylabel(\"Precision\")\n",
    "plt.title(\"Lapse7\")\n",
    "plt.show()"
   ]
  },
  {
   "cell_type": "markdown",
   "metadata": {},
   "source": [
    "And evaluate the accuracy of the model"
   ]
  },
  {
   "cell_type": "code",
   "execution_count": 56,
   "metadata": {
    "collapsed": false
   },
   "outputs": [
    {
     "name": "stdout",
     "output_type": "stream",
     "text": [
      "Accuracy: \n",
      "0.507160967587\n"
     ]
    }
   ],
   "source": [
    "pred = ada.predict(XtestSub)\n",
    "print(\"Accuracy: \")\n",
    "print(np.mean(pred == ytest))"
   ]
  },
  {
   "cell_type": "markdown",
   "metadata": {},
   "source": [
    "Finally, output the confusion matrix"
   ]
  },
  {
   "cell_type": "code",
   "execution_count": 57,
   "metadata": {
    "collapsed": false
   },
   "outputs": [
    {
     "data": {
      "text/html": [
       "<div>\n",
       "<table border=\"1\" class=\"dataframe\">\n",
       "  <thead>\n",
       "    <tr style=\"text-align: right;\">\n",
       "      <th>Predicted</th>\n",
       "      <th>0</th>\n",
       "      <th>1</th>\n",
       "      <th>All</th>\n",
       "    </tr>\n",
       "    <tr>\n",
       "      <th>True</th>\n",
       "      <th></th>\n",
       "      <th></th>\n",
       "      <th></th>\n",
       "    </tr>\n",
       "  </thead>\n",
       "  <tbody>\n",
       "    <tr>\n",
       "      <th>0</th>\n",
       "      <td>5108</td>\n",
       "      <td>7032</td>\n",
       "      <td>12140</td>\n",
       "    </tr>\n",
       "    <tr>\n",
       "      <th>1</th>\n",
       "      <td>160</td>\n",
       "      <td>2293</td>\n",
       "      <td>2453</td>\n",
       "    </tr>\n",
       "    <tr>\n",
       "      <th>All</th>\n",
       "      <td>5268</td>\n",
       "      <td>9325</td>\n",
       "      <td>14593</td>\n",
       "    </tr>\n",
       "  </tbody>\n",
       "</table>\n",
       "</div>"
      ],
      "text/plain": [
       "Predicted     0     1    All\n",
       "True                        \n",
       "0          5108  7032  12140\n",
       "1           160  2293   2453\n",
       "All        5268  9325  14593"
      ]
     },
     "execution_count": 57,
     "metadata": {},
     "output_type": "execute_result"
    }
   ],
   "source": [
    "pd.crosstab(ytest, pred, rownames=['True'], colnames=['Predicted'], margins=True)"
   ]
  },
  {
   "cell_type": "markdown",
   "metadata": {},
   "source": [
    "Save the predictions"
   ]
  },
  {
   "cell_type": "code",
   "execution_count": 105,
   "metadata": {
    "collapsed": true
   },
   "outputs": [],
   "source": [
    "pickle.dump(predProb, open(outputDir + \"logistic.prediction.p\", 'wb'))"
   ]
  },
  {
   "cell_type": "markdown",
   "metadata": {},
   "source": [
    "# Random Forests"
   ]
  },
  {
   "cell_type": "markdown",
   "metadata": {},
   "source": [
    "Load the random forest package"
   ]
  },
  {
   "cell_type": "code",
   "execution_count": 174,
   "metadata": {
    "collapsed": true
   },
   "outputs": [],
   "source": [
    "from sklearn.ensemble import RandomForestClassifier"
   ]
  },
  {
   "cell_type": "markdown",
   "metadata": {},
   "source": [
    "Hyperparameter turning for number of trees and class weights. Actual code run in `code/RandomForest.py`"
   ]
  },
  {
   "cell_type": "markdown",
   "metadata": {
    "collapsed": false
   },
   "source": [
    "```python\n",
    "n_estimators = list(range(30, 110, 10))\n",
    "class_weights = [{0:0.2, 1:0.8}, {0:0.15, 1:0.85}, {0:0.1, 1:0.9}, {0:0.05,  1:0.95}]\n",
    "parameters = {'n_estimators':n_estimators, 'class_weight':class_weights}\n",
    "rf = RandomForestClassifier(max_depth=6)\n",
    "clf = grid_search.GridSearchCV(rf, parameters, cv=3, scoring='average_precision', \n",
    "                               verbose=True)\n",
    "clf.fit(Xtrain, ytrain)\n",
    "```"
   ]
  },
  {
   "cell_type": "code",
   "execution_count": 147,
   "metadata": {
    "collapsed": true
   },
   "outputs": [],
   "source": [
    "clf = pickle.load(open(outputDir + \"RandomForestTune.p\", 'rb'))"
   ]
  },
  {
   "cell_type": "markdown",
   "metadata": {},
   "source": [
    "What are the best parameters"
   ]
  },
  {
   "cell_type": "code",
   "execution_count": 148,
   "metadata": {
    "collapsed": false
   },
   "outputs": [
    {
     "data": {
      "text/plain": [
       "{'class_weight': {0: 0.05, 1: 0.95}, 'n_estimators': 50}"
      ]
     },
     "execution_count": 148,
     "metadata": {},
     "output_type": "execute_result"
    }
   ],
   "source": [
    "clf.best_params_"
   ]
  },
  {
   "cell_type": "markdown",
   "metadata": {},
   "source": [
    "Train and assess accuracy"
   ]
  },
  {
   "cell_type": "code",
   "execution_count": 71,
   "metadata": {
    "collapsed": false
   },
   "outputs": [
    {
     "data": {
      "text/plain": [
       "0.71308161447269236"
      ]
     },
     "execution_count": 71,
     "metadata": {},
     "output_type": "execute_result"
    }
   ],
   "source": [
    "clf = RandomForestClassifier(n_estimators=50, class_weight={0:0.1, 1:0.90}, max_depth=8)\n",
    "clf.fit(Xtrain, ytrain)\n",
    "pred = clf.predict(Xtest)\n",
    "np.mean(pred == ytest)"
   ]
  },
  {
   "cell_type": "markdown",
   "metadata": {},
   "source": [
    "Assess area under PR curve"
   ]
  },
  {
   "cell_type": "code",
   "execution_count": 72,
   "metadata": {
    "collapsed": false
   },
   "outputs": [
    {
     "name": "stdout",
     "output_type": "stream",
     "text": [
      "Area under PR curve: \n",
      "0.662034046921\n"
     ]
    }
   ],
   "source": [
    "prob = clf.predict_proba(Xtest)[:, 1]\n",
    "pr = average_precision_score(ytest, prob)\n",
    "print(\"Area under PR curve: \")\n",
    "print(pr)"
   ]
  },
  {
   "cell_type": "markdown",
   "metadata": {},
   "source": [
    "Plot the PR curve:"
   ]
  },
  {
   "cell_type": "code",
   "execution_count": 73,
   "metadata": {
    "collapsed": false
   },
   "outputs": [
    {
     "data": {
      "image/png": "[encoded data removed]",
      "text/plain": [
       "<matplotlib.figure.Figure at 0x10c146eb8>"
      ]
     },
     "metadata": {},
     "output_type": "display_data"
    }
   ],
   "source": [
    "%matplotlib inline\n",
    "precision, recall, thresholds = precision_recall_curve(ytest, prob)\n",
    "plt.plot(recall, precision, \"o-\", color=\"black\")\n",
    "plt.xlabel(\"Recall\")\n",
    "plt.ylabel(\"Precision\")\n",
    "plt.title(\"Lapse7\")\n",
    "plt.show()"
   ]
  },
  {
   "cell_type": "markdown",
   "metadata": {},
   "source": [
    "Confusion matrix"
   ]
  },
  {
   "cell_type": "code",
   "execution_count": 74,
   "metadata": {
    "collapsed": false
   },
   "outputs": [
    {
     "data": {
      "text/html": [
       "<div>\n",
       "<table border=\"1\" class=\"dataframe\">\n",
       "  <thead>\n",
       "    <tr style=\"text-align: right;\">\n",
       "      <th>Predicted</th>\n",
       "      <th>0</th>\n",
       "      <th>1</th>\n",
       "      <th>All</th>\n",
       "    </tr>\n",
       "    <tr>\n",
       "      <th>True</th>\n",
       "      <th></th>\n",
       "      <th></th>\n",
       "      <th></th>\n",
       "    </tr>\n",
       "  </thead>\n",
       "  <tbody>\n",
       "    <tr>\n",
       "      <th>0</th>\n",
       "      <td>8235</td>\n",
       "      <td>3905</td>\n",
       "      <td>12140</td>\n",
       "    </tr>\n",
       "    <tr>\n",
       "      <th>1</th>\n",
       "      <td>282</td>\n",
       "      <td>2171</td>\n",
       "      <td>2453</td>\n",
       "    </tr>\n",
       "    <tr>\n",
       "      <th>All</th>\n",
       "      <td>8517</td>\n",
       "      <td>6076</td>\n",
       "      <td>14593</td>\n",
       "    </tr>\n",
       "  </tbody>\n",
       "</table>\n",
       "</div>"
      ],
      "text/plain": [
       "Predicted     0     1    All\n",
       "True                        \n",
       "0          8235  3905  12140\n",
       "1           282  2171   2453\n",
       "All        8517  6076  14593"
      ]
     },
     "execution_count": 74,
     "metadata": {},
     "output_type": "execute_result"
    }
   ],
   "source": [
    "pd.crosstab(ytest, pred, rownames=['True'], colnames=['Predicted'], margins=True)"
   ]
  },
  {
   "cell_type": "markdown",
   "metadata": {},
   "source": [
    "Save the result"
   ]
  },
  {
   "cell_type": "code",
   "execution_count": 75,
   "metadata": {
    "collapsed": true
   },
   "outputs": [],
   "source": [
    "pickle.dump(prob, open(outputDir + \"RandomForest.prediction.p\", 'wb'))"
   ]
  },
  {
   "cell_type": "markdown",
   "metadata": {},
   "source": [
    "# Quadratic Discriminant Analysis"
   ]
  },
  {
   "cell_type": "code",
   "execution_count": 109,
   "metadata": {
    "collapsed": true
   },
   "outputs": [],
   "source": [
    "from sklearn.discriminant_analysis import QuadraticDiscriminantAnalysis"
   ]
  },
  {
   "cell_type": "markdown",
   "metadata": {},
   "source": [
    "For QDA, bootstrapping our positive class could help because it could make our Gaussian densities \"tigher\", so we will train using the bootsrapped dataset."
   ]
  },
  {
   "cell_type": "code",
   "execution_count": 205,
   "metadata": {
    "collapsed": false
   },
   "outputs": [],
   "source": [
    "attributes = pickle.load(open(outputDir + \"attributes.p\", \"rb\"))\n",
    "XtrainSub = copy.deepcopy(XtrainBS.ix[:, attributes])\n",
    "XtestSub = copy.deepcopy(Xtest.ix[:, attributes])"
   ]
  },
  {
   "cell_type": "markdown",
   "metadata": {},
   "source": [
    "Train and predict"
   ]
  },
  {
   "cell_type": "code",
   "execution_count": 206,
   "metadata": {
    "collapsed": false
   },
   "outputs": [
    {
     "name": "stdout",
     "output_type": "stream",
     "text": [
      "Accuracy: \n",
      "0.50023984102\n",
      "Area under recall curve: \n",
      "0.593968928251\n"
     ]
    }
   ],
   "source": [
    "qda = QuadraticDiscriminantAnalysis()\n",
    "qda.fit(XtrainSub, ytrainBS)\n",
    "pred = qda.predict(XtestSub)\n",
    "print(\"Accuracy: \")\n",
    "print(np.mean(pred == ytest))\n",
    "prob = qda.predict_proba(XtestSub)[:, 1]\n",
    "pr = average_precision_score(ytest, prob)\n",
    "print(\"Area under precision-recall curve: \")\n",
    "print(pr)"
   ]
  },
  {
   "cell_type": "markdown",
   "metadata": {},
   "source": [
    "Let us plot the PR curve"
   ]
  },
  {
   "cell_type": "code",
   "execution_count": 207,
   "metadata": {
    "collapsed": false
   },
   "outputs": [
    {
     "data": {
      "image/png": "[encoded data removed]",
      "text/plain": [
       "<matplotlib.figure.Figure at 0x10ca26630>"
      ]
     },
     "metadata": {},
     "output_type": "display_data"
    }
   ],
   "source": [
    "%matplotlib inline\n",
    "precision, recall, thresholds = precision_recall_curve(ytest, prob)\n",
    "plt.plot(recall, precision, \"o-\", color=\"black\")\n",
    "plt.xlabel(\"Recall\")\n",
    "plt.ylabel(\"Precision\")\n",
    "plt.title(\"Lapse7\")\n",
    "plt.show()"
   ]
  },
  {
   "cell_type": "markdown",
   "metadata": {},
   "source": [
    "Confusion matrix"
   ]
  },
  {
   "cell_type": "code",
   "execution_count": 208,
   "metadata": {
    "collapsed": false
   },
   "outputs": [
    {
     "data": {
      "text/html": [
       "<div>\n",
       "<table border=\"1\" class=\"dataframe\">\n",
       "  <thead>\n",
       "    <tr style=\"text-align: right;\">\n",
       "      <th>Predicted</th>\n",
       "      <th>0</th>\n",
       "      <th>1</th>\n",
       "      <th>All</th>\n",
       "    </tr>\n",
       "    <tr>\n",
       "      <th>True</th>\n",
       "      <th></th>\n",
       "      <th></th>\n",
       "      <th></th>\n",
       "    </tr>\n",
       "  </thead>\n",
       "  <tbody>\n",
       "    <tr>\n",
       "      <th>0</th>\n",
       "      <td>4996</td>\n",
       "      <td>7144</td>\n",
       "      <td>12140</td>\n",
       "    </tr>\n",
       "    <tr>\n",
       "      <th>1</th>\n",
       "      <td>149</td>\n",
       "      <td>2304</td>\n",
       "      <td>2453</td>\n",
       "    </tr>\n",
       "    <tr>\n",
       "      <th>All</th>\n",
       "      <td>5145</td>\n",
       "      <td>9448</td>\n",
       "      <td>14593</td>\n",
       "    </tr>\n",
       "  </tbody>\n",
       "</table>\n",
       "</div>"
      ],
      "text/plain": [
       "Predicted     0     1    All\n",
       "True                        \n",
       "0          4996  7144  12140\n",
       "1           149  2304   2453\n",
       "All        5145  9448  14593"
      ]
     },
     "execution_count": 208,
     "metadata": {},
     "output_type": "execute_result"
    }
   ],
   "source": [
    "pd.crosstab(ytest, pred, rownames=['True'], colnames=['Predicted'], margins=True)"
   ]
  },
  {
   "cell_type": "markdown",
   "metadata": {},
   "source": [
    "Save the predictions"
   ]
  },
  {
   "cell_type": "code",
   "execution_count": 209,
   "metadata": {
    "collapsed": true
   },
   "outputs": [],
   "source": [
    "pickle.dump(prob, open(outputDir + \"QDA.prediction.p\", 'wb'))"
   ]
  },
  {
   "cell_type": "markdown",
   "metadata": {},
   "source": [
    "# Neural Network"
   ]
  },
  {
   "cell_type": "code",
   "execution_count": 4,
   "metadata": {
    "collapsed": false
   },
   "outputs": [],
   "source": [
    "from sklearn.neural_network import MLPClassifier"
   ]
  },
  {
   "cell_type": "markdown",
   "metadata": {},
   "source": [
    "Assess the dimenions of our input:"
   ]
  },
  {
   "cell_type": "code",
   "execution_count": 5,
   "metadata": {
    "collapsed": false
   },
   "outputs": [
    {
     "data": {
      "text/plain": [
       "(58369, 153)"
      ]
     },
     "execution_count": 5,
     "metadata": {},
     "output_type": "execute_result"
    }
   ],
   "source": [
    "Xtrain.shape"
   ]
  },
  {
   "cell_type": "markdown",
   "metadata": {},
   "source": [
    "We are going to use a one layer neural network with number of neurons equal to the average betweent the input and output neurons, which is 78. "
   ]
  },
  {
   "cell_type": "markdown",
   "metadata": {},
   "source": [
    "```python\n",
    "nn = Classifier(\n",
    "    layers=[\n",
    "        Layer(\"Rectifier\", units=78),\n",
    "        Layer(\"Softmax\")],\n",
    "    learning_rate=0.001,\n",
    "    verbose=True,\n",
    "    n_iter=20)\n",
    "```"
   ]
  },
  {
   "cell_type": "markdown",
   "metadata": {},
   "source": [
    "Scale the data"
   ]
  },
  {
   "cell_type": "code",
   "execution_count": 144,
   "metadata": {
    "collapsed": true
   },
   "outputs": [],
   "source": [
    "Xtrain = pp.scale(Xtrain)\n",
    "Xtest = pp.scale(Xtest)"
   ]
  },
  {
   "cell_type": "markdown",
   "metadata": {},
   "source": [
    "Train"
   ]
  },
  {
   "cell_type": "markdown",
   "metadata": {},
   "source": [
    "```python\n",
    "nn.fit(Xtrain, ytrain)\n",
    "```"
   ]
  },
  {
   "cell_type": "markdown",
   "metadata": {},
   "source": [
    "Load the trained model"
   ]
  },
  {
   "cell_type": "code",
   "execution_count": 50,
   "metadata": {
    "collapsed": true
   },
   "outputs": [],
   "source": [
    "nn = pickle.load(open(outputDir + \"nn.p\", 'rb'))"
   ]
  },
  {
   "cell_type": "markdown",
   "metadata": {},
   "source": [
    "Predict and assess accuracy"
   ]
  },
  {
   "cell_type": "code",
   "execution_count": 51,
   "metadata": {
    "collapsed": false
   },
   "outputs": [
    {
     "data": {
      "text/plain": [
       "0.22757486466113891"
      ]
     },
     "execution_count": 51,
     "metadata": {},
     "output_type": "execute_result"
    }
   ],
   "source": [
    "pred = nn.predict(Xtest)\n",
    "np.mean(pred == ytest)"
   ]
  },
  {
   "cell_type": "markdown",
   "metadata": {},
   "source": [
    "Output area under the curve"
   ]
  },
  {
   "cell_type": "code",
   "execution_count": 52,
   "metadata": {
    "collapsed": false
   },
   "outputs": [
    {
     "name": "stdout",
     "output_type": "stream",
     "text": [
      "Area under recall curve: \n",
      "0.415208407798\n"
     ]
    }
   ],
   "source": [
    "prob = nn.predict_proba(Xtest)[:, 1]\n",
    "pr = average_precision_score(ytest, prob)\n",
    "print(\"Area under precision-recall curve: \")\n",
    "print(pr)"
   ]
  },
  {
   "cell_type": "markdown",
   "metadata": {},
   "source": [
    "Confusion matrix:"
   ]
  },
  {
   "cell_type": "code",
   "execution_count": 53,
   "metadata": {
    "collapsed": false
   },
   "outputs": [
    {
     "data": {
      "text/html": [
       "<div>\n",
       "<table border=\"1\" class=\"dataframe\">\n",
       "  <thead>\n",
       "    <tr style=\"text-align: right;\">\n",
       "      <th>Predicted</th>\n",
       "      <th>0</th>\n",
       "      <th>1</th>\n",
       "      <th>All</th>\n",
       "    </tr>\n",
       "    <tr>\n",
       "      <th>True</th>\n",
       "      <th></th>\n",
       "      <th></th>\n",
       "      <th></th>\n",
       "    </tr>\n",
       "  </thead>\n",
       "  <tbody>\n",
       "    <tr>\n",
       "      <th>0</th>\n",
       "      <td>1013</td>\n",
       "      <td>11164</td>\n",
       "      <td>12177</td>\n",
       "    </tr>\n",
       "    <tr>\n",
       "      <th>1</th>\n",
       "      <td>108</td>\n",
       "      <td>2308</td>\n",
       "      <td>2416</td>\n",
       "    </tr>\n",
       "    <tr>\n",
       "      <th>All</th>\n",
       "      <td>1121</td>\n",
       "      <td>13472</td>\n",
       "      <td>14593</td>\n",
       "    </tr>\n",
       "  </tbody>\n",
       "</table>\n",
       "</div>"
      ],
      "text/plain": [
       "Predicted     0      1    All\n",
       "True                         \n",
       "0          1013  11164  12177\n",
       "1           108   2308   2416\n",
       "All        1121  13472  14593"
      ]
     },
     "execution_count": 53,
     "metadata": {},
     "output_type": "execute_result"
    }
   ],
   "source": [
    "pd.crosstab(ytest, pred, rownames=['True'], colnames=['Predicted'], margins=True)"
   ]
  },
  {
   "cell_type": "markdown",
   "metadata": {},
   "source": [
    "Plot the PR curve"
   ]
  },
  {
   "cell_type": "code",
   "execution_count": 54,
   "metadata": {
    "collapsed": false
   },
   "outputs": [
    {
     "data": {
      "image/png": "[encoded data removed]",
      "text/plain": [
       "<matplotlib.figure.Figure at 0x1023c7320>"
      ]
     },
     "metadata": {},
     "output_type": "display_data"
    }
   ],
   "source": [
    "%matplotlib inline\n",
    "precision, recall, thresholds = precision_recall_curve(ytest, prob)\n",
    "plt.plot(recall, precision, \"o-\", color=\"black\")\n",
    "plt.xlabel(\"Recall\")\n",
    "plt.ylabel(\"Precision\")\n",
    "plt.title(\"Lapse7\")\n",
    "plt.show()"
   ]
  },
  {
   "cell_type": "markdown",
   "metadata": {
    "collapsed": true
   },
   "source": [
    "At stage, artificial neural network does not perform as well as other machine learning algorithms and will be omitted from the final result."
   ]
  },
  {
   "cell_type": "markdown",
   "metadata": {},
   "source": [
    "# Ensembling\n",
    "According to the wisdom of the crowd theory, the average of multiple weak classifiers outperforms a single strong classifier. Our best performing machine learning algorithms are:\n",
    "\n",
    "1. SVM\n",
    "2. Random Forest\n",
    "3. Logistic Regression\n",
    "4. QDA\n",
    "\n",
    "Of these algorithms, random forest performs the best. Let us average the predicted probabilities from these 4 models to see if performance improves over that achieved from random forest alone. First load the predictions."
   ]
  },
  {
   "cell_type": "code",
   "execution_count": 229,
   "metadata": {
    "collapsed": true
   },
   "outputs": [],
   "source": [
    "svm = pickle.load(open(outputDir + \"svm.prediction.p\", 'rb'))\n",
    "randomForest = pickle.load(open(outputDir + \"RandomForest.prediction.p\", 'rb'))\n",
    "logisticRegression = pickle.load(open(outputDir + \"logistic.prediction.p\", 'rb'))\n",
    "qda = pickle.load(open(outputDir + \"QDA.prediction.p\", 'rb'))"
   ]
  },
  {
   "cell_type": "markdown",
   "metadata": {},
   "source": [
    "And we simply average the probabilities"
   ]
  },
  {
   "cell_type": "code",
   "execution_count": 242,
   "metadata": {
    "collapsed": false
   },
   "outputs": [],
   "source": [
    "probs = (svm + randomForest + logisticRegression + qda) / 4"
   ]
  },
  {
   "cell_type": "markdown",
   "metadata": {},
   "source": [
    "Let us evaluate the area under the precision-recall curve"
   ]
  },
  {
   "cell_type": "code",
   "execution_count": 243,
   "metadata": {
    "collapsed": false
   },
   "outputs": [
    {
     "name": "stdout",
     "output_type": "stream",
     "text": [
      "Area under precision-recall curve: \n",
      "0.474979314871\n"
     ]
    }
   ],
   "source": [
    "pr = average_precision_score(ytest, probs)\n",
    "print(\"Area under precision-recall curve: \")\n",
    "print(pr)"
   ]
  },
  {
   "cell_type": "markdown",
   "metadata": {},
   "source": [
    "As well as plot the precision-recall curve"
   ]
  },
  {
   "cell_type": "code",
   "execution_count": 244,
   "metadata": {
    "collapsed": false
   },
   "outputs": [
    {
     "data": {
      "image/png": "[encoded data removed]",
      "text/plain": [
       "<matplotlib.figure.Figure at 0x10c96c630>"
      ]
     },
     "metadata": {},
     "output_type": "display_data"
    }
   ],
   "source": [
    "%matplotlib inline\n",
    "precision, recall, thresholds = precision_recall_curve(ytest, probs)\n",
    "plt.plot(recall, precision, \"o-\", color=\"black\")\n",
    "plt.xlabel(\"Recall\")\n",
    "plt.ylabel(\"Precision\")\n",
    "plt.title(\"Lapse7\")\n",
    "plt.show()"
   ]
  },
  {
   "cell_type": "markdown",
   "metadata": {},
   "source": [
    "It looks like ensembling does not outperform random forests, which has an area under the curve of 66%. Based on our modeling result, random forest alone is the best classifier for player churn."
   ]
  }
 ],
 "metadata": {
  "kernelspec": {
   "display_name": "Python 3",
   "language": "python",
   "name": "python3"
  },
  "language_info": {
   "codemirror_mode": {
    "name": "ipython",
    "version": 3
   },
   "file_extension": ".py",
   "mimetype": "text/x-python",
   "name": "python",
   "nbconvert_exporter": "python",
   "pygments_lexer": "ipython3",
   "version": "3.5.2"
  }
 },
 "nbformat": 4,
 "nbformat_minor": 0
}
