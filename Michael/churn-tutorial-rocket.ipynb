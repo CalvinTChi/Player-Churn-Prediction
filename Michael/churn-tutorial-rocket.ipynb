{
 "cells": [
  {
   "cell_type": "markdown",
   "metadata": {},
   "source": [
    "# Forecasting customer churn \n",
    "\n",
    "Churn prediction is the task of identifying users that are likely to stop using a service, product or website. In this notebook, you will learn how to:\n",
    "\n",
    "#### Train & consume a model to forecast user churn\n",
    "* Define the boundary at which churn happens.\n",
    "* Define a churn period.\n",
    "* Train a model using data from the past.\n",
    "* Make predictions for probability of churn for each user."
   ]
  },
  {
   "cell_type": "markdown",
   "metadata": {},
   "source": [
    "### Let's get started!"
   ]
  },
  {
   "cell_type": "code",
   "execution_count": 44,
   "metadata": {
    "collapsed": false
   },
   "outputs": [],
   "source": [
    "import graphlab as gl\n",
    "import datetime\n",
    "gl.canvas.set_target('ipynb') # make sure plots appear inline"
   ]
  },
  {
   "cell_type": "markdown",
   "metadata": {
    "collapsed": true
   },
   "source": [
    "###  Load previously saved data\n",
    "\n",
    "In the previous notebook, we had saved the data in a binary format. Let us try and load the data back."
   ]
  },
  {
   "cell_type": "code",
   "execution_count": 45,
   "metadata": {
    "collapsed": false
   },
   "outputs": [],
   "source": [
    "interactions_ts = gl.TimeSeries(\"data/user_activity_data_rocket_2.ts/\")\n",
    "users = gl.SFrame(\"data/users_rocket_2.sf/\")"
   ]
  },
  {
   "cell_type": "markdown",
   "metadata": {},
   "source": [
    "## Training a churn predictor\n",
    "\n",
    "We define churn to be **no activity** within a period of time (called the `churn_period`). Hence,\n",
    "a user/customer is said to have churned if periods of activity is followed\n",
    "by no activity for a `churn_period` (for example, 30 days). \n",
    "\n",
    "<img src=\"https://dato.com/learn/userguide/churn_prediction/images/churn-illustration.png\", align=\"left\">"
   ]
  },
  {
   "cell_type": "code",
   "execution_count": 46,
   "metadata": {
    "collapsed": false
   },
   "outputs": [],
   "source": [
    "churn_period_apr =  datetime.datetime(year = 2016, month = 4, day = 1)\n"
   ]
  },
  {
   "cell_type": "markdown",
   "metadata": {},
   "source": [
    "### Making a train-validation split\n",
    "\n",
    "Next, we perform a **train-validation** split where we randomly split the data such that one split contains data for a `fraction` of the users while the second split contains all data for the rest of the users."
   ]
  },
  {
   "cell_type": "code",
   "execution_count": 47,
   "metadata": {
    "collapsed": false
   },
   "outputs": [],
   "source": [
    "(train, valid) = gl.churn_predictor.random_split(interactions_ts, user_id = 'user_id', fraction = 0.9, seed = 12)"
   ]
  },
  {
   "cell_type": "code",
   "execution_count": 48,
   "metadata": {
    "collapsed": false
   },
   "outputs": [
    {
     "name": "stdout",
     "output_type": "stream",
     "text": [
      "Users in the training dataset   : 15512\n",
      "Users in the validation dataset : 1722\n"
     ]
    }
   ],
   "source": [
    "print \"Users in the training dataset   : %s\" % len(train['user_id'].unique())\n",
    "print \"Users in the validation dataset : %s\" % len(valid['user_id'].unique())"
   ]
  },
  {
   "cell_type": "markdown",
   "metadata": {},
   "source": [
    "### Training a churn predictor model"
   ]
  },
  {
   "cell_type": "code",
   "execution_count": 65,
   "metadata": {
    "collapsed": false
   },
   "outputs": [
    {
     "name": "stdout",
     "output_type": "stream",
     "text": [
      "PROGRESS: Grouping observation_data by user.\n",
      "PROGRESS: Resampling grouped observation_data by time-period 1 day, 0:00:00.\n"
     ]
    },
    {
     "data": {
      "text/html": [
       "<pre>next_event_time is a categorical variable with too many different values (204030) and will be ignored.</pre>"
      ],
      "text/plain": [
       "next_event_time is a categorical variable with too many different values (204030) and will be ignored."
      ]
     },
     "metadata": {},
     "output_type": "display_data"
    },
    {
     "data": {
      "text/html": [
       "<pre>previous_event_time is a categorical variable with too many different values (198209) and will be ignored.</pre>"
      ],
      "text/plain": [
       "previous_event_time is a categorical variable with too many different values (198209) and will be ignored."
      ]
     },
     "metadata": {},
     "output_type": "display_data"
    },
    {
     "data": {
      "text/html": [
       "<pre>last_event_time is a categorical variable with too many different values (15490) and will be ignored.</pre>"
      ],
      "text/plain": [
       "last_event_time is a categorical variable with too many different values (15490) and will be ignored."
      ]
     },
     "metadata": {},
     "output_type": "display_data"
    },
    {
     "data": {
      "text/html": [
       "<pre>first_event_time is a categorical variable with too many different values (15497) and will be ignored.</pre>"
      ],
      "text/plain": [
       "first_event_time is a categorical variable with too many different values (15497) and will be ignored."
      ]
     },
     "metadata": {},
     "output_type": "display_data"
    },
    {
     "name": "stdout",
     "output_type": "stream",
     "text": [
      "PROGRESS: Generating features at time-boundaries.\n",
      "PROGRESS: --------------------------------------------------\n",
      "PROGRESS: Features for 2016-03-31 17:00:00\n",
      "PROGRESS: Joining user_data with aggregated features.\n",
      "PROGRESS: --------------------------------------------------\n",
      "PROGRESS: Training a classifier model.\n"
     ]
    },
    {
     "data": {
      "text/html": [
       "<pre>Boosted trees classifier:</pre>"
      ],
      "text/plain": [
       "Boosted trees classifier:"
      ]
     },
     "metadata": {},
     "output_type": "display_data"
    },
    {
     "data": {
      "text/html": [
       "<pre>--------------------------------------------------------</pre>"
      ],
      "text/plain": [
       "--------------------------------------------------------"
      ]
     },
     "metadata": {},
     "output_type": "display_data"
    },
    {
     "data": {
      "text/html": [
       "<pre>Number of examples          : 10842</pre>"
      ],
      "text/plain": [
       "Number of examples          : 10842"
      ]
     },
     "metadata": {},
     "output_type": "display_data"
    },
    {
     "data": {
      "text/html": [
       "<pre>Number of classes           : 2</pre>"
      ],
      "text/plain": [
       "Number of classes           : 2"
      ]
     },
     "metadata": {},
     "output_type": "display_data"
    },
    {
     "data": {
      "text/html": [
       "<pre>Number of feature columns   : 118</pre>"
      ],
      "text/plain": [
       "Number of feature columns   : 118"
      ]
     },
     "metadata": {},
     "output_type": "display_data"
    },
    {
     "data": {
      "text/html": [
       "<pre>Number of unpacked features : 5302</pre>"
      ],
      "text/plain": [
       "Number of unpacked features : 5302"
      ]
     },
     "metadata": {},
     "output_type": "display_data"
    },
    {
     "data": {
      "text/html": [
       "<pre>+-----------+--------------+-------------------+-------------------+</pre>"
      ],
      "text/plain": [
       "+-----------+--------------+-------------------+-------------------+"
      ]
     },
     "metadata": {},
     "output_type": "display_data"
    },
    {
     "data": {
      "text/html": [
       "<pre>| Iteration | Elapsed Time | Training-accuracy | Training-log_loss |</pre>"
      ],
      "text/plain": [
       "| Iteration | Elapsed Time | Training-accuracy | Training-log_loss |"
      ]
     },
     "metadata": {},
     "output_type": "display_data"
    },
    {
     "data": {
      "text/html": [
       "<pre>+-----------+--------------+-------------------+-------------------+</pre>"
      ],
      "text/plain": [
       "+-----------+--------------+-------------------+-------------------+"
      ]
     },
     "metadata": {},
     "output_type": "display_data"
    },
    {
     "data": {
      "text/html": [
       "<pre>| 1         | 0.384559     | 0.858052          | 0.539964          |</pre>"
      ],
      "text/plain": [
       "| 1         | 0.384559     | 0.858052          | 0.539964          |"
      ]
     },
     "metadata": {},
     "output_type": "display_data"
    },
    {
     "data": {
      "text/html": [
       "<pre>| 2         | 0.754405     | 0.865339          | 0.453201          |</pre>"
      ],
      "text/plain": [
       "| 2         | 0.754405     | 0.865339          | 0.453201          |"
      ]
     },
     "metadata": {},
     "output_type": "display_data"
    },
    {
     "data": {
      "text/html": [
       "<pre>| 3         | 1.106471     | 0.867829          | 0.398817          |</pre>"
      ],
      "text/plain": [
       "| 3         | 1.106471     | 0.867829          | 0.398817          |"
      ]
     },
     "metadata": {},
     "output_type": "display_data"
    },
    {
     "data": {
      "text/html": [
       "<pre>| 4         | 1.457150     | 0.869212          | 0.360563          |</pre>"
      ],
      "text/plain": [
       "| 4         | 1.457150     | 0.869212          | 0.360563          |"
      ]
     },
     "metadata": {},
     "output_type": "display_data"
    },
    {
     "data": {
      "text/html": [
       "<pre>| 5         | 1.782708     | 0.874008          | 0.331789          |</pre>"
      ],
      "text/plain": [
       "| 5         | 1.782708     | 0.874008          | 0.331789          |"
      ]
     },
     "metadata": {},
     "output_type": "display_data"
    },
    {
     "data": {
      "text/html": [
       "<pre>| 6         | 2.102770     | 0.875761          | 0.313579          |</pre>"
      ],
      "text/plain": [
       "| 6         | 2.102770     | 0.875761          | 0.313579          |"
      ]
     },
     "metadata": {},
     "output_type": "display_data"
    },
    {
     "data": {
      "text/html": [
       "<pre>| 10        | 3.366445     | 0.883416          | 0.270181          |</pre>"
      ],
      "text/plain": [
       "| 10        | 3.366445     | 0.883416          | 0.270181          |"
      ]
     },
     "metadata": {},
     "output_type": "display_data"
    },
    {
     "data": {
      "text/html": [
       "<pre>+-----------+--------------+-------------------+-------------------+</pre>"
      ],
      "text/plain": [
       "+-----------+--------------+-------------------+-------------------+"
      ]
     },
     "metadata": {},
     "output_type": "display_data"
    },
    {
     "data": {
      "text/html": [
       "<pre>Decision tree regression:</pre>"
      ],
      "text/plain": [
       "Decision tree regression:"
      ]
     },
     "metadata": {},
     "output_type": "display_data"
    },
    {
     "data": {
      "text/html": [
       "<pre>--------------------------------------------------------</pre>"
      ],
      "text/plain": [
       "--------------------------------------------------------"
      ]
     },
     "metadata": {},
     "output_type": "display_data"
    },
    {
     "data": {
      "text/html": [
       "<pre>Number of examples          : 10842</pre>"
      ],
      "text/plain": [
       "Number of examples          : 10842"
      ]
     },
     "metadata": {},
     "output_type": "display_data"
    },
    {
     "data": {
      "text/html": [
       "<pre>Number of features          : 118</pre>"
      ],
      "text/plain": [
       "Number of features          : 118"
      ]
     },
     "metadata": {},
     "output_type": "display_data"
    },
    {
     "data": {
      "text/html": [
       "<pre>Number of unpacked features : 5302</pre>"
      ],
      "text/plain": [
       "Number of unpacked features : 5302"
      ]
     },
     "metadata": {},
     "output_type": "display_data"
    },
    {
     "data": {
      "text/html": [
       "<pre>+-----------+--------------+--------------------+---------------+</pre>"
      ],
      "text/plain": [
       "+-----------+--------------+--------------------+---------------+"
      ]
     },
     "metadata": {},
     "output_type": "display_data"
    },
    {
     "data": {
      "text/html": [
       "<pre>| Iteration | Elapsed Time | Training-max_error | Training-rmse |</pre>"
      ],
      "text/plain": [
       "| Iteration | Elapsed Time | Training-max_error | Training-rmse |"
      ]
     },
     "metadata": {},
     "output_type": "display_data"
    },
    {
     "data": {
      "text/html": [
       "<pre>+-----------+--------------+--------------------+---------------+</pre>"
      ],
      "text/plain": [
       "+-----------+--------------+--------------------+---------------+"
      ]
     },
     "metadata": {},
     "output_type": "display_data"
    },
    {
     "data": {
      "text/html": [
       "<pre>| 1         | 0.541742     | 0.397732           | 0.264997      |</pre>"
      ],
      "text/plain": [
       "| 1         | 0.541742     | 0.397732           | 0.264997      |"
      ]
     },
     "metadata": {},
     "output_type": "display_data"
    },
    {
     "data": {
      "text/html": [
       "<pre>+-----------+--------------+--------------------+---------------+</pre>"
      ],
      "text/plain": [
       "+-----------+--------------+--------------------+---------------+"
      ]
     },
     "metadata": {},
     "output_type": "display_data"
    },
    {
     "name": "stdout",
     "output_type": "stream",
     "text": [
      "PROGRESS: --------------------------------------------------\n",
      "PROGRESS: Model training complete: Next steps\n",
      "PROGRESS: --------------------------------------------------\n",
      "PROGRESS: (1) Evaluate the model at various timestamps in the past:\n",
      "PROGRESS:       metrics = model.evaluate(data, time_in_past)\n",
      "PROGRESS: (2) Make a churn forecast for a timestamp in the future:\n",
      "PROGRESS:       predictions = model.predict(data, time_in_future)\n"
     ]
    }
   ],
   "source": [
    "model = gl.churn_predictor.create(train, user_id='user_id', user_data = users, churn_period= datetime.timedelta(days=7), time_boundaries = [churn_period_apr])"
   ]
  },
  {
   "cell_type": "code",
   "execution_count": 66,
   "metadata": {
    "collapsed": false
   },
   "outputs": [
    {
     "data": {
      "text/plain": [
       "Class                          : ChurnPredictor\n",
       "\n",
       "Schema\n",
       "------\n",
       "Number of observations         : 216357\n",
       "Number of users                : 15512\n",
       "Number of feature columns      : 26\n",
       "Features used                  : ['date', 'rev', 'e_purchaseamount', 'e_purchaseprice', 'hasemail', 'e_viptier', 'xrate', 'e_source', 'e_vip_boost', 'e_vip_points', 'e_creditsbeforepurchase', 'e_level', 'e_machine', 'u_playertenure', 'u_fbstatus', 'u_totalcredits', 'credits', 'rn', 'rank', 'txns', 'txns_on_day', 'rank_desc', 'next_event_time', 'previous_event_time', 'last_event_time', 'first_event_time']\n",
       "\n",
       "Parameters\n",
       "----------\n",
       "Lookback periods               : [7, 14, 21, 60, 90]\n",
       "Number of time boundaries      : 1\n",
       "Time period                    : 1 day, 0:00:00\n",
       "Churn period                   : 7 days, 0:00:00"
      ]
     },
     "execution_count": 66,
     "metadata": {},
     "output_type": "execute_result"
    }
   ],
   "source": [
    "model"
   ]
  },
  {
   "cell_type": "markdown",
   "metadata": {},
   "source": [
    "## Consuming predictions made by the model"
   ]
  },
  {
   "cell_type": "markdown",
   "metadata": {},
   "source": [
    "Here the question to ask is will they churn after a certain period of time. To validate we can see if they user has used us after that evaluation period. Voila! I was confusing it with expiration time (customer churn not usage churn)"
   ]
  },
  {
   "cell_type": "code",
   "execution_count": 67,
   "metadata": {
    "collapsed": false
   },
   "outputs": [
    {
     "name": "stdout",
     "output_type": "stream",
     "text": [
      "PROGRESS: Making a churn forecast for the time window:\n",
      "PROGRESS: --------------------------------------------------\n",
      "PROGRESS:  Start : 2016-04-30 23:54:56\n",
      "PROGRESS:  End   : 2016-05-07 23:54:56\n",
      "PROGRESS: --------------------------------------------------\n",
      "PROGRESS: Grouping dataset by user.\n",
      "PROGRESS: Resampling grouped observation_data by time-period 1 day, 0:00:00.\n"
     ]
    },
    {
     "data": {
      "text/html": [
       "<pre>next_event_time is a categorical variable with too many different values (204030) and will be ignored.</pre>"
      ],
      "text/plain": [
       "next_event_time is a categorical variable with too many different values (204030) and will be ignored."
      ]
     },
     "metadata": {},
     "output_type": "display_data"
    },
    {
     "data": {
      "text/html": [
       "<pre>previous_event_time is a categorical variable with too many different values (198209) and will be ignored.</pre>"
      ],
      "text/plain": [
       "previous_event_time is a categorical variable with too many different values (198209) and will be ignored."
      ]
     },
     "metadata": {},
     "output_type": "display_data"
    },
    {
     "data": {
      "text/html": [
       "<pre>last_event_time is a categorical variable with too many different values (15490) and will be ignored.</pre>"
      ],
      "text/plain": [
       "last_event_time is a categorical variable with too many different values (15490) and will be ignored."
      ]
     },
     "metadata": {},
     "output_type": "display_data"
    },
    {
     "data": {
      "text/html": [
       "<pre>first_event_time is a categorical variable with too many different values (15497) and will be ignored.</pre>"
      ],
      "text/plain": [
       "first_event_time is a categorical variable with too many different values (15497) and will be ignored."
      ]
     },
     "metadata": {},
     "output_type": "display_data"
    },
    {
     "name": "stdout",
     "output_type": "stream",
     "text": [
      "PROGRESS: Generating features for boundary 2016-04-30 23:54:56.\n",
      "PROGRESS: Joining user_data with aggregated features.\n"
     ]
    },
    {
     "data": {
      "text/html": [
       "<div style=\"max-height:1000px;max-width:1500px;overflow:auto;\"><table frame=\"box\" rules=\"cols\">\n",
       "    <tr>\n",
       "        <th style=\"padding-left: 1em; padding-right: 1em; text-align: center\">user_id</th>\n",
       "        <th style=\"padding-left: 1em; padding-right: 1em; text-align: center\">probability</th>\n",
       "    </tr>\n",
       "    <tr>\n",
       "        <td style=\"padding-left: 1em; padding-right: 1em; text-align: center; vertical-align: top\">0040aec2-4192-3439-b555-b<br>46f6430ec8c ...</td>\n",
       "        <td style=\"padding-left: 1em; padding-right: 1em; text-align: center; vertical-align: top\">0.724074065685</td>\n",
       "    </tr>\n",
       "    <tr>\n",
       "        <td style=\"padding-left: 1em; padding-right: 1em; text-align: center; vertical-align: top\">005d7707-7454-3a2f-901e-<br>238608d333a6 ...</td>\n",
       "        <td style=\"padding-left: 1em; padding-right: 1em; text-align: center; vertical-align: top\">0.590564727783</td>\n",
       "    </tr>\n",
       "    <tr>\n",
       "        <td style=\"padding-left: 1em; padding-right: 1em; text-align: center; vertical-align: top\">0062ff02-0134-3e82-ac89-8<br>5168e08eba9 ...</td>\n",
       "        <td style=\"padding-left: 1em; padding-right: 1em; text-align: center; vertical-align: top\">0.906486093998</td>\n",
       "    </tr>\n",
       "    <tr>\n",
       "        <td style=\"padding-left: 1em; padding-right: 1em; text-align: center; vertical-align: top\">0066edd1-9176-36a2-b272-1<br>ee9a17897f0 ...</td>\n",
       "        <td style=\"padding-left: 1em; padding-right: 1em; text-align: center; vertical-align: top\">0.977488160133</td>\n",
       "    </tr>\n",
       "    <tr>\n",
       "        <td style=\"padding-left: 1em; padding-right: 1em; text-align: center; vertical-align: top\">006d83eb-98d2-3b19-b5b0-f<br>6cb02f2f3c2 ...</td>\n",
       "        <td style=\"padding-left: 1em; padding-right: 1em; text-align: center; vertical-align: top\">0.421454906464</td>\n",
       "    </tr>\n",
       "    <tr>\n",
       "        <td style=\"padding-left: 1em; padding-right: 1em; text-align: center; vertical-align: top\">008b43e1-d02b-<br>32b7-b903-572bfada771b ...</td>\n",
       "        <td style=\"padding-left: 1em; padding-right: 1em; text-align: center; vertical-align: top\">0.977488160133</td>\n",
       "    </tr>\n",
       "    <tr>\n",
       "        <td style=\"padding-left: 1em; padding-right: 1em; text-align: center; vertical-align: top\">00be7585-9013-3267-952f-<br>9ba3474c2d56 ...</td>\n",
       "        <td style=\"padding-left: 1em; padding-right: 1em; text-align: center; vertical-align: top\">0.845390200615</td>\n",
       "    </tr>\n",
       "    <tr>\n",
       "        <td style=\"padding-left: 1em; padding-right: 1em; text-align: center; vertical-align: top\">00e7f57b-893e-<br>3ff6-bfb9-48b64247e6f1 ...</td>\n",
       "        <td style=\"padding-left: 1em; padding-right: 1em; text-align: center; vertical-align: top\">0.856807112694</td>\n",
       "    </tr>\n",
       "    <tr>\n",
       "        <td style=\"padding-left: 1em; padding-right: 1em; text-align: center; vertical-align: top\">00f0ed6c-c637-3a88-a7b3-2<br>a95b41f2884 ...</td>\n",
       "        <td style=\"padding-left: 1em; padding-right: 1em; text-align: center; vertical-align: top\">0.977488160133</td>\n",
       "    </tr>\n",
       "    <tr>\n",
       "        <td style=\"padding-left: 1em; padding-right: 1em; text-align: center; vertical-align: top\">01105fe4-66ee-3fea-<br>8f33-15a5bfad88ba ...</td>\n",
       "        <td style=\"padding-left: 1em; padding-right: 1em; text-align: center; vertical-align: top\">0.676837623119</td>\n",
       "    </tr>\n",
       "</table>\n",
       "[1722 rows x 2 columns]<br/>Note: Only the head of the SFrame is printed.<br/>You can use print_rows(num_rows=m, num_columns=n) to print more rows and columns.\n",
       "</div>"
      ],
      "text/plain": [
       "Columns:\n",
       "\tuser_id\tstr\n",
       "\tprobability\tfloat\n",
       "\n",
       "Rows: 1722\n",
       "\n",
       "Data:\n",
       "+-------------------------------+----------------+\n",
       "|            user_id            |  probability   |\n",
       "+-------------------------------+----------------+\n",
       "| 0040aec2-4192-3439-b555-b4... | 0.724074065685 |\n",
       "| 005d7707-7454-3a2f-901e-23... | 0.590564727783 |\n",
       "| 0062ff02-0134-3e82-ac89-85... | 0.906486093998 |\n",
       "| 0066edd1-9176-36a2-b272-1e... | 0.977488160133 |\n",
       "| 006d83eb-98d2-3b19-b5b0-f6... | 0.421454906464 |\n",
       "| 008b43e1-d02b-32b7-b903-57... | 0.977488160133 |\n",
       "| 00be7585-9013-3267-952f-9b... | 0.845390200615 |\n",
       "| 00e7f57b-893e-3ff6-bfb9-48... | 0.856807112694 |\n",
       "| 00f0ed6c-c637-3a88-a7b3-2a... | 0.977488160133 |\n",
       "| 01105fe4-66ee-3fea-8f33-15... | 0.676837623119 |\n",
       "+-------------------------------+----------------+\n",
       "[1722 rows x 2 columns]\n",
       "Note: Only the head of the SFrame is printed.\n",
       "You can use print_rows(num_rows=m, num_columns=n) to print more rows and columns."
      ]
     },
     "execution_count": 67,
     "metadata": {},
     "output_type": "execute_result"
    }
   ],
   "source": [
    "predictions = model.predict(valid, user_data=users)\n",
    "predictions"
   ]
  },
  {
   "cell_type": "code",
   "execution_count": 69,
   "metadata": {
    "collapsed": false
   },
   "outputs": [
    {
     "data": {
      "application/javascript": [
       "$(\"head\").append($(\"<link/>\").attr({\n",
       "  rel:  \"stylesheet\",\n",
       "  type: \"text/css\",\n",
       "  href: \"//cdnjs.cloudflare.com/ajax/libs/font-awesome/4.1.0/css/font-awesome.min.css\"\n",
       "}));\n",
       "$(\"head\").append($(\"<link/>\").attr({\n",
       "  rel:  \"stylesheet\",\n",
       "  type: \"text/css\",\n",
       "  href: \"https://static.turi.com/products/graphlab-create/2.0.1/canvas/css/canvas.css\"\n",
       "}));\n",
       "\n",
       "            (function(){\n",
       "\n",
       "                var e = null;\n",
       "                if (typeof element == 'undefined') {\n",
       "                    var scripts = document.getElementsByTagName('script');\n",
       "                    var thisScriptTag = scripts[scripts.length-1];\n",
       "                    var parentDiv = thisScriptTag.parentNode;\n",
       "                    e = document.createElement('div');\n",
       "                    parentDiv.appendChild(e);\n",
       "                } else {\n",
       "                    e = element[0];\n",
       "                }\n",
       "\n",
       "                if (typeof requirejs !== 'undefined') {\n",
       "                    // disable load timeout; ipython_app.js is large and can take a while to load.\n",
       "                    requirejs.config({waitSeconds: 0});\n",
       "                }\n",
       "\n",
       "                require(['https://static.turi.com/products/graphlab-create/2.0.1/canvas/js/ipython_app.js'], function(IPythonApp){\n",
       "                    var app = new IPythonApp();\n",
       "                    app.attachView('sarray','Numeric', {\"ipython\": true, \"sketch\": {\"std\": 0.23228636019829121, \"complete\": true, \"min\": 0.024120688438415527, \"max\": 0.9774881601333618, \"quantile\": [0.024120688438415527, 0.05584383010864258, 0.11130958050489426, 0.16872738301753998, 0.19942490756511688, 0.25397154688835144, 0.293332576751709, 0.33917757868766785, 0.4060809016227722, 0.4413325786590576, 0.46980273723602295, 0.5007626414299011, 0.5266301035881042, 0.5479493737220764, 0.5673759579658508, 0.6071459054946899, 0.6275695562362671, 0.6430943608283997, 0.6626483798027039, 0.6748729348182678, 0.6942698955535889, 0.7092320919036865, 0.7248735427856445, 0.7424402832984924, 0.7551562190055847, 0.7634596824645996, 0.7795050740242004, 0.7902679443359375, 0.8085787296295166, 0.8185812830924988, 0.8297768235206604, 0.8342825174331665, 0.8411839604377747, 0.8488011956214905, 0.8538789749145508, 0.8612372875213623, 0.8746259808540344, 0.8805228471755981, 0.8829292058944702, 0.8834033012390137, 0.8929720520973206, 0.9030805826187134, 0.9122101664543152, 0.9198259115219116, 0.927062451839447, 0.9367226362228394, 0.9452987909317017, 0.9524465203285217, 0.9578246474266052, 0.9616288542747498, 0.9631104469299316, 0.9668744802474976, 0.9774881601333618, 0.9774881601333618, 0.9774881601333618, 0.9774881601333618, 0.9774881601333618, 0.9774881601333618, 0.9774881601333618, 0.9774881601333618, 0.9774881601333618, 0.9774881601333618, 0.9774881601333618, 0.9774881601333618, 0.9774881601333618, 0.9774881601333618, 0.9774881601333618, 0.9774881601333618, 0.9774881601333618, 0.9774881601333618, 0.9774881601333618, 0.9774881601333618, 0.9774881601333618, 0.9774881601333618, 0.9774881601333618, 0.9774881601333618, 0.9774881601333618, 0.9774881601333618, 0.9774881601333618, 0.9774881601333618, 0.9774881601333618, 0.9774881601333618, 0.9774881601333618, 0.9774881601333618, 0.9774881601333618, 0.9774881601333618, 0.9774881601333618, 0.9774881601333618, 0.9774881601333618, 0.9774881601333618, 0.9774881601333618, 0.9774881601333618, 0.9774881601333618, 0.9774881601333618, 0.9774881601333618, 0.9774881601333618, 0.9774881601333618, 0.9774881601333618, 0.9774881601333618, 0.9774881601333618, 0.9774881601333618], \"median\": 0.9631104469299316, \"numeric\": true, \"num_unique\": 702, \"num_undefined\": 0, \"var\": 0.053956953134170295, \"progress\": 1.0, \"size\": 1722, \"frequent_items\": {\"0.5905647277832031\": {\"frequency\": 1, \"value\": 0.5905647277832031}, \"0.6587657928466797\": {\"frequency\": 1, \"value\": 0.6587657928466797}, \"0.8443564772605896\": {\"frequency\": 1, \"value\": 0.8443564772605896}, \"0.750104546546936\": {\"frequency\": 1, \"value\": 0.750104546546936}, \"0.06812240928411484\": {\"frequency\": 1, \"value\": 0.06812240928411484}, \"0.7620394229888916\": {\"frequency\": 1, \"value\": 0.7620394229888916}, \"0.838672935962677\": {\"frequency\": 1, \"value\": 0.838672935962677}, \"0.7909504175186157\": {\"frequency\": 1, \"value\": 0.7909504175186157}, \"0.6702911257743835\": {\"frequency\": 1, \"value\": 0.6702911257743835}, \"0.6278652548789978\": {\"frequency\": 1, \"value\": 0.6278652548789978}, \"0.9454655647277832\": {\"frequency\": 1, \"value\": 0.9454655647277832}, \"0.9669232964515686\": {\"frequency\": 2, \"value\": 0.9669232964515686}, \"0.560066819190979\": {\"frequency\": 1, \"value\": 0.560066819190979}, \"0.5478675365447998\": {\"frequency\": 2, \"value\": 0.5478675365447998}, \"0.7441012859344482\": {\"frequency\": 1, \"value\": 0.7441012859344482}, \"0.8782597780227661\": {\"frequency\": 1, \"value\": 0.8782597780227661}, \"0.5106438398361206\": {\"frequency\": 1, \"value\": 0.5106438398361206}, \"0.9392099380493164\": {\"frequency\": 1, \"value\": 0.9392099380493164}, \"0.5632871389389038\": {\"frequency\": 1, \"value\": 0.5632871389389038}, \"0.45777371525764465\": {\"frequency\": 1, \"value\": 0.45777371525764465}, \"0.7589198350906372\": {\"frequency\": 1, \"value\": 0.7589198350906372}, \"0.5801517367362976\": {\"frequency\": 1, \"value\": 0.5801517367362976}, \"0.898514986038208\": {\"frequency\": 1, \"value\": 0.898514986038208}, \"0.9162822365760803\": {\"frequency\": 1, \"value\": 0.9162822365760803}, \"0.8494199514389038\": {\"frequency\": 1, \"value\": 0.8494199514389038}, \"0.8009313941001892\": {\"frequency\": 1, \"value\": 0.8009313941001892}, \"0.7634596824645996\": {\"frequency\": 1, \"value\": 0.7634596824645996}, \"0.662597119808197\": {\"frequency\": 1, \"value\": 0.662597119808197}, \"0.7653900384902954\": {\"frequency\": 1, \"value\": 0.7653900384902954}, \"0.8450660109519958\": {\"frequency\": 1, \"value\": 0.8450660109519958}, \"0.7472054362297058\": {\"frequency\": 1, \"value\": 0.7472054362297058}, \"0.7336064577102661\": {\"frequency\": 1, \"value\": 0.7336064577102661}, \"0.6422220468521118\": {\"frequency\": 1, \"value\": 0.6422220468521118}, \"0.48067182302474976\": {\"frequency\": 1, \"value\": 0.48067182302474976}, \"0.43574288487434387\": {\"frequency\": 1, \"value\": 0.43574288487434387}, \"0.8533305525779724\": {\"frequency\": 1, \"value\": 0.8533305525779724}, \"0.8548750877380371\": {\"frequency\": 1, \"value\": 0.8548750877380371}, \"0.7424402832984924\": {\"frequency\": 1, \"value\": 0.7424402832984924}, \"0.8191586136817932\": {\"frequency\": 4, \"value\": 0.8191586136817932}, \"0.9532262086868286\": {\"frequency\": 1, \"value\": 0.9532262086868286}, \"0.958609402179718\": {\"frequency\": 1, \"value\": 0.958609402179718}, \"0.829237163066864\": {\"frequency\": 1, \"value\": 0.829237163066864}, \"0.7496511936187744\": {\"frequency\": 1, \"value\": 0.7496511936187744}, \"0.9268203973770142\": {\"frequency\": 1, \"value\": 0.9268203973770142}, \"0.6853148937225342\": {\"frequency\": 1, \"value\": 0.6853148937225342}, \"0.8829292058944702\": {\"frequency\": 26, \"value\": 0.8829292058944702}, \"0.30774614214897156\": {\"frequency\": 1, \"value\": 0.30774614214897156}, \"0.918550968170166\": {\"frequency\": 1, \"value\": 0.918550968170166}, \"0.5479493737220764\": {\"frequency\": 1, \"value\": 0.5479493737220764}, \"0.5677494406700134\": {\"frequency\": 1, \"value\": 0.5677494406700134}, \"0.7615212798118591\": {\"frequency\": 1, \"value\": 0.7615212798118591}, \"0.9010111093521118\": {\"frequency\": 2, \"value\": 0.9010111093521118}, \"0.9567400813102722\": {\"frequency\": 1, \"value\": 0.9567400813102722}, \"0.2823866307735443\": {\"frequency\": 1, \"value\": 0.2823866307735443}, \"0.554095983505249\": {\"frequency\": 1, \"value\": 0.554095983505249}, \"0.711752712726593\": {\"frequency\": 1, \"value\": 0.711752712726593}, \"0.8462780714035034\": {\"frequency\": 1, \"value\": 0.8462780714035034}, \"0.1984940767288208\": {\"frequency\": 1, \"value\": 0.1984940767288208}, \"0.8811638951301575\": {\"frequency\": 3, \"value\": 0.8811638951301575}, \"0.6730031371116638\": {\"frequency\": 1, \"value\": 0.6730031371116638}, \"0.511415958404541\": {\"frequency\": 1, \"value\": 0.511415958404541}, \"0.12316739559173584\": {\"frequency\": 1, \"value\": 0.12316739559173584}, \"0.67286217212677\": {\"frequency\": 1, \"value\": 0.67286217212677}, \"0.5659058094024658\": {\"frequency\": 1, \"value\": 0.5659058094024658}, \"0.9367226362228394\": {\"frequency\": 4, \"value\": 0.9367226362228394}, \"0.6717921495437622\": {\"frequency\": 1, \"value\": 0.6717921495437622}, \"0.8993142247200012\": {\"frequency\": 1, \"value\": 0.8993142247200012}, \"0.8129838705062866\": {\"frequency\": 3, \"value\": 0.8129838705062866}, \"0.929198682308197\": {\"frequency\": 1, \"value\": 0.929198682308197}, \"0.6869235038757324\": {\"frequency\": 1, \"value\": 0.6869235038757324}, \"0.6748729348182678\": {\"frequency\": 2, \"value\": 0.6748729348182678}, \"0.7027088403701782\": {\"frequency\": 1, \"value\": 0.7027088403701782}, \"0.9499966502189636\": {\"frequency\": 1, \"value\": 0.9499966502189636}, \"0.6436273455619812\": {\"frequency\": 1, \"value\": 0.6436273455619812}, \"0.725177526473999\": {\"frequency\": 1, \"value\": 0.725177526473999}, \"0.8050764203071594\": {\"frequency\": 1, \"value\": 0.8050764203071594}, \"0.5671042203903198\": {\"frequency\": 1, \"value\": 0.5671042203903198}, \"0.23873713612556458\": {\"frequency\": 1, \"value\": 0.23873713612556458}, \"0.6626483798027039\": {\"frequency\": 1, \"value\": 0.6626483798027039}, \"0.7097777724266052\": {\"frequency\": 1, \"value\": 0.7097777724266052}, \"0.800178587436676\": {\"frequency\": 1, \"value\": 0.800178587436676}, \"0.41891294717788696\": {\"frequency\": 1, \"value\": 0.41891294717788696}, \"0.8073274493217468\": {\"frequency\": 1, \"value\": 0.8073274493217468}, \"0.9609063863754272\": {\"frequency\": 1, \"value\": 0.9609063863754272}, \"0.3835426867008209\": {\"frequency\": 1, \"value\": 0.3835426867008209}, \"0.33809295296669006\": {\"frequency\": 1, \"value\": 0.33809295296669006}, \"0.8575443625450134\": {\"frequency\": 1, \"value\": 0.8575443625450134}, \"0.5910992622375488\": {\"frequency\": 1, \"value\": 0.5910992622375488}, \"0.6728879809379578\": {\"frequency\": 1, \"value\": 0.6728879809379578}, \"0.41241100430488586\": {\"frequency\": 1, \"value\": 0.41241100430488586}, \"0.8888826966285706\": {\"frequency\": 1, \"value\": 0.8888826966285706}, \"0.7481151223182678\": {\"frequency\": 1, \"value\": 0.7481151223182678}, \"0.6768376231193542\": {\"frequency\": 1, \"value\": 0.6768376231193542}, \"0.887467086315155\": {\"frequency\": 1, \"value\": 0.887467086315155}, \"0.8488011956214905\": {\"frequency\": 1, \"value\": 0.8488011956214905}, \"0.20897988975048065\": {\"frequency\": 1, \"value\": 0.20897988975048065}, \"0.7537124156951904\": {\"frequency\": 1, \"value\": 0.7537124156951904}, \"0.8739125728607178\": {\"frequency\": 1, \"value\": 0.8739125728607178}, \"0.5673759579658508\": {\"frequency\": 1, \"value\": 0.5673759579658508}, \"0.45991250872612\": {\"frequency\": 1, \"value\": 0.45991250872612}, \"0.25600478053092957\": {\"frequency\": 1, \"value\": 0.25600478053092957}, \"0.7967856526374817\": {\"frequency\": 1, \"value\": 0.7967856526374817}, \"0.8402796387672424\": {\"frequency\": 1, \"value\": 0.8402796387672424}, \"0.5600100755691528\": {\"frequency\": 1, \"value\": 0.5600100755691528}, \"0.47538813948631287\": {\"frequency\": 1, \"value\": 0.47538813948631287}, \"0.29086554050445557\": {\"frequency\": 1, \"value\": 0.29086554050445557}, \"0.6311196088790894\": {\"frequency\": 1, \"value\": 0.6311196088790894}, \"0.6197789907455444\": {\"frequency\": 1, \"value\": 0.6197789907455444}, \"0.5627830028533936\": {\"frequency\": 1, \"value\": 0.5627830028533936}, \"0.8529371619224548\": {\"frequency\": 1, \"value\": 0.8529371619224548}, \"0.16587960720062256\": {\"frequency\": 1, \"value\": 0.16587960720062256}, \"0.6117423176765442\": {\"frequency\": 1, \"value\": 0.6117423176765442}, \"0.724713921546936\": {\"frequency\": 1, \"value\": 0.724713921546936}, \"0.8411650657653809\": {\"frequency\": 1, \"value\": 0.8411650657653809}, \"0.7580735087394714\": {\"frequency\": 1, \"value\": 0.7580735087394714}, \"0.9581201076507568\": {\"frequency\": 1, \"value\": 0.9581201076507568}, \"0.37788745760917664\": {\"frequency\": 1, \"value\": 0.37788745760917664}, \"0.5845745205879211\": {\"frequency\": 1, \"value\": 0.5845745205879211}, \"0.8338587880134583\": {\"frequency\": 1, \"value\": 0.8338587880134583}, \"0.8602768778800964\": {\"frequency\": 1, \"value\": 0.8602768778800964}, \"0.4969393312931061\": {\"frequency\": 1, \"value\": 0.4969393312931061}, \"0.8593332171440125\": {\"frequency\": 1, \"value\": 0.8593332171440125}, \"0.9323407411575317\": {\"frequency\": 1, \"value\": 0.9323407411575317}, \"0.26246240735054016\": {\"frequency\": 1, \"value\": 0.26246240735054016}, \"0.5347077250480652\": {\"frequency\": 1, \"value\": 0.5347077250480652}, \"0.33014392852783203\": {\"frequency\": 1, \"value\": 0.33014392852783203}, \"0.7312363982200623\": {\"frequency\": 1, \"value\": 0.7312363982200623}, \"0.822317361831665\": {\"frequency\": 1, \"value\": 0.822317361831665}, \"0.6364886164665222\": {\"frequency\": 1, \"value\": 0.6364886164665222}, \"0.7602952122688293\": {\"frequency\": 1, \"value\": 0.7602952122688293}, \"0.7205451130867004\": {\"frequency\": 1, \"value\": 0.7205451130867004}, \"0.7833136320114136\": {\"frequency\": 3, \"value\": 0.7833136320114136}, \"0.8509858846664429\": {\"frequency\": 1, \"value\": 0.8509858846664429}, \"0.7263778448104858\": {\"frequency\": 1, \"value\": 0.7263778448104858}, \"0.7969383597373962\": {\"frequency\": 1, \"value\": 0.7969383597373962}, \"0.7093567848205566\": {\"frequency\": 1, \"value\": 0.7093567848205566}, \"0.36466720700263977\": {\"frequency\": 1, \"value\": 0.36466720700263977}, \"0.9048939943313599\": {\"frequency\": 1, \"value\": 0.9048939943313599}, \"0.6907667517662048\": {\"frequency\": 1, \"value\": 0.6907667517662048}, \"0.8665605783462524\": {\"frequency\": 1, \"value\": 0.8665605783462524}, \"0.8582370281219482\": {\"frequency\": 1, \"value\": 0.8582370281219482}, \"0.7795050740242004\": {\"frequency\": 1, \"value\": 0.7795050740242004}, \"0.7551562190055847\": {\"frequency\": 1, \"value\": 0.7551562190055847}, \"0.8887284398078918\": {\"frequency\": 1, \"value\": 0.8887284398078918}, \"0.6809337735176086\": {\"frequency\": 1, \"value\": 0.6809337735176086}, \"0.16270093619823456\": {\"frequency\": 1, \"value\": 0.16270093619823456}, \"0.6839331388473511\": {\"frequency\": 1, \"value\": 0.6839331388473511}, \"0.37987852096557617\": {\"frequency\": 1, \"value\": 0.37987852096557617}, \"0.6579147577285767\": {\"frequency\": 1, \"value\": 0.6579147577285767}, \"0.3716716170310974\": {\"frequency\": 1, \"value\": 0.3716716170310974}, \"0.896502673625946\": {\"frequency\": 1, \"value\": 0.896502673625946}, \"0.7899086475372314\": {\"frequency\": 1, \"value\": 0.7899086475372314}, \"0.8162186741828918\": {\"frequency\": 1, \"value\": 0.8162186741828918}, \"0.7052911520004272\": {\"frequency\": 1, \"value\": 0.7052911520004272}, \"0.8974031805992126\": {\"frequency\": 1, \"value\": 0.8974031805992126}, \"0.9423788785934448\": {\"frequency\": 2, \"value\": 0.9423788785934448}, \"0.8484945297241211\": {\"frequency\": 1, \"value\": 0.8484945297241211}, \"0.8866687417030334\": {\"frequency\": 2, \"value\": 0.8866687417030334}, \"0.4657382369041443\": {\"frequency\": 1, \"value\": 0.4657382369041443}, \"0.2548353970050812\": {\"frequency\": 1, \"value\": 0.2548353970050812}, \"0.5266301035881042\": {\"frequency\": 1, \"value\": 0.5266301035881042}, \"0.7134320735931396\": {\"frequency\": 1, \"value\": 0.7134320735931396}, \"0.53313809633255\": {\"frequency\": 1, \"value\": 0.53313809633255}, \"0.349052369594574\": {\"frequency\": 1, \"value\": 0.349052369594574}, \"0.3767823874950409\": {\"frequency\": 1, \"value\": 0.3767823874950409}, \"0.5433952808380127\": {\"frequency\": 1, \"value\": 0.5433952808380127}, \"0.6559408903121948\": {\"frequency\": 1, \"value\": 0.6559408903121948}, \"0.9544410109519958\": {\"frequency\": 1, \"value\": 0.9544410109519958}, \"0.05584383010864258\": {\"frequency\": 1, \"value\": 0.05584383010864258}, \"0.8634790778160095\": {\"frequency\": 1, \"value\": 0.8634790778160095}, \"0.6465874314308167\": {\"frequency\": 1, \"value\": 0.6465874314308167}, \"0.9044734835624695\": {\"frequency\": 1, \"value\": 0.9044734835624695}, \"0.927383542060852\": {\"frequency\": 1, \"value\": 0.927383542060852}, \"0.7690622210502625\": {\"frequency\": 1, \"value\": 0.7690622210502625}, \"0.5170177817344666\": {\"frequency\": 1, \"value\": 0.5170177817344666}, \"0.8255846500396729\": {\"frequency\": 1, \"value\": 0.8255846500396729}, \"0.9092982411384583\": {\"frequency\": 1, \"value\": 0.9092982411384583}, \"0.6765140295028687\": {\"frequency\": 1, \"value\": 0.6765140295028687}, \"0.7510733604431152\": {\"frequency\": 3, \"value\": 0.7510733604431152}, \"0.7796182632446289\": {\"frequency\": 3, \"value\": 0.7796182632446289}, \"0.609318196773529\": {\"frequency\": 1, \"value\": 0.609318196773529}, \"0.9191060066223145\": {\"frequency\": 1, \"value\": 0.9191060066223145}, \"0.9578246474266052\": {\"frequency\": 1, \"value\": 0.9578246474266052}, \"0.8766904473304749\": {\"frequency\": 1, \"value\": 0.8766904473304749}, \"0.812737226486206\": {\"frequency\": 1, \"value\": 0.812737226486206}, \"0.7679125666618347\": {\"frequency\": 1, \"value\": 0.7679125666618347}, \"0.7113009095191956\": {\"frequency\": 1, \"value\": 0.7113009095191956}, \"0.9587371945381165\": {\"frequency\": 1, \"value\": 0.9587371945381165}, \"0.8925179243087769\": {\"frequency\": 1, \"value\": 0.8925179243087769}, \"0.8432053923606873\": {\"frequency\": 1, \"value\": 0.8432053923606873}, \"0.8527666330337524\": {\"frequency\": 1, \"value\": 0.8527666330337524}, \"0.8805228471755981\": {\"frequency\": 1, \"value\": 0.8805228471755981}, \"0.5700159072875977\": {\"frequency\": 1, \"value\": 0.5700159072875977}, \"0.7011613845825195\": {\"frequency\": 1, \"value\": 0.7011613845825195}, \"0.8793803453445435\": {\"frequency\": 1, \"value\": 0.8793803453445435}, \"0.4584070146083832\": {\"frequency\": 1, \"value\": 0.4584070146083832}, \"0.6491063237190247\": {\"frequency\": 1, \"value\": 0.6491063237190247}, \"0.6423099040985107\": {\"frequency\": 1, \"value\": 0.6423099040985107}, \"0.4618785083293915\": {\"frequency\": 1, \"value\": 0.4618785083293915}, \"0.8848052024841309\": {\"frequency\": 1, \"value\": 0.8848052024841309}, \"0.9244514107704163\": {\"frequency\": 1, \"value\": 0.9244514107704163}, \"0.8451331853866577\": {\"frequency\": 1, \"value\": 0.8451331853866577}, \"0.4130690395832062\": {\"frequency\": 1, \"value\": 0.4130690395832062}, \"0.6636229753494263\": {\"frequency\": 1, \"value\": 0.6636229753494263}, \"0.9452987909317017\": {\"frequency\": 4, \"value\": 0.9452987909317017}, \"0.25673261284828186\": {\"frequency\": 1, \"value\": 0.25673261284828186}, \"0.3145626485347748\": {\"frequency\": 1, \"value\": 0.3145626485347748}, \"0.4519414007663727\": {\"frequency\": 1, \"value\": 0.4519414007663727}, \"0.7900355458259583\": {\"frequency\": 1, \"value\": 0.7900355458259583}, \"0.3925866484642029\": {\"frequency\": 1, \"value\": 0.3925866484642029}, \"0.886738121509552\": {\"frequency\": 1, \"value\": 0.886738121509552}, \"0.41040173172950745\": {\"frequency\": 1, \"value\": 0.41040173172950745}, \"0.6649037599563599\": {\"frequency\": 1, \"value\": 0.6649037599563599}, \"0.7701870799064636\": {\"frequency\": 1, \"value\": 0.7701870799064636}, \"0.7758085131645203\": {\"frequency\": 1, \"value\": 0.7758085131645203}, \"0.5795233249664307\": {\"frequency\": 1, \"value\": 0.5795233249664307}, \"0.7791121602058411\": {\"frequency\": 1, \"value\": 0.7791121602058411}, \"0.8117698431015015\": {\"frequency\": 2, \"value\": 0.8117698431015015}, \"0.7518066763877869\": {\"frequency\": 1, \"value\": 0.7518066763877869}, \"0.7877641320228577\": {\"frequency\": 1, \"value\": 0.7877641320228577}, \"0.2455921620130539\": {\"frequency\": 1, \"value\": 0.2455921620130539}, \"0.8929720520973206\": {\"frequency\": 2, \"value\": 0.8929720520973206}, \"0.6942698955535889\": {\"frequency\": 1, \"value\": 0.6942698955535889}, \"0.9522998929023743\": {\"frequency\": 1, \"value\": 0.9522998929023743}, \"0.8981961011886597\": {\"frequency\": 1, \"value\": 0.8981961011886597}, \"0.4879259765148163\": {\"frequency\": 1, \"value\": 0.4879259765148163}, \"0.9273936748504639\": {\"frequency\": 1, \"value\": 0.9273936748504639}, \"0.293332576751709\": {\"frequency\": 1, \"value\": 0.293332576751709}, \"0.4784541428089142\": {\"frequency\": 1, \"value\": 0.4784541428089142}, \"0.4382491707801819\": {\"frequency\": 1, \"value\": 0.4382491707801819}, \"0.6061622500419617\": {\"frequency\": 1, \"value\": 0.6061622500419617}, \"0.20801430940628052\": {\"frequency\": 1, \"value\": 0.20801430940628052}, \"0.19410714507102966\": {\"frequency\": 1, \"value\": 0.19410714507102966}, \"0.9152520298957825\": {\"frequency\": 2, \"value\": 0.9152520298957825}, \"0.9611848592758179\": {\"frequency\": 1, \"value\": 0.9611848592758179}, \"0.8834033012390137\": {\"frequency\": 2, \"value\": 0.8834033012390137}, \"0.8129193186759949\": {\"frequency\": 1, \"value\": 0.8129193186759949}, \"0.6574322581291199\": {\"frequency\": 1, \"value\": 0.6574322581291199}, \"0.6245076656341553\": {\"frequency\": 1, \"value\": 0.6245076656341553}, \"0.7349848747253418\": {\"frequency\": 1, \"value\": 0.7349848747253418}, \"0.3692854344844818\": {\"frequency\": 1, \"value\": 0.3692854344844818}, \"0.9774881601333618\": {\"frequency\": 840, \"value\": 0.9774881601333618}, \"0.5545080900192261\": {\"frequency\": 1, \"value\": 0.5545080900192261}, \"0.07494930922985077\": {\"frequency\": 1, \"value\": 0.07494930922985077}, \"0.8297768235206604\": {\"frequency\": 1, \"value\": 0.8297768235206604}, \"0.8719558119773865\": {\"frequency\": 1, \"value\": 0.8719558119773865}, \"0.6407890319824219\": {\"frequency\": 1, \"value\": 0.6407890319824219}, \"0.8803253769874573\": {\"frequency\": 3, \"value\": 0.8803253769874573}, \"0.8864533305168152\": {\"frequency\": 1, \"value\": 0.8864533305168152}, \"0.8348352909088135\": {\"frequency\": 1, \"value\": 0.8348352909088135}, \"0.7716060280799866\": {\"frequency\": 1, \"value\": 0.7716060280799866}, \"0.48004600405693054\": {\"frequency\": 1, \"value\": 0.48004600405693054}, \"0.0944385901093483\": {\"frequency\": 1, \"value\": 0.0944385901093483}, \"0.7088664770126343\": {\"frequency\": 1, \"value\": 0.7088664770126343}, \"0.9172748923301697\": {\"frequency\": 1, \"value\": 0.9172748923301697}, \"0.6357541084289551\": {\"frequency\": 1, \"value\": 0.6357541084289551}, \"0.5345006585121155\": {\"frequency\": 1, \"value\": 0.5345006585121155}, \"0.9572950601577759\": {\"frequency\": 10, \"value\": 0.9572950601577759}, \"0.4463615417480469\": {\"frequency\": 1, \"value\": 0.4463615417480469}, \"0.4601481854915619\": {\"frequency\": 1, \"value\": 0.4601481854915619}, \"0.5536162853240967\": {\"frequency\": 1, \"value\": 0.5536162853240967}, \"0.6355693936347961\": {\"frequency\": 1, \"value\": 0.6355693936347961}, \"0.6543586850166321\": {\"frequency\": 1, \"value\": 0.6543586850166321}, \"0.9616850018501282\": {\"frequency\": 1, \"value\": 0.9616850018501282}, \"0.6548203229904175\": {\"frequency\": 1, \"value\": 0.6548203229904175}, \"0.16313757002353668\": {\"frequency\": 1, \"value\": 0.16313757002353668}, \"0.5174074172973633\": {\"frequency\": 1, \"value\": 0.5174074172973633}, \"0.42919743061065674\": {\"frequency\": 1, \"value\": 0.42919743061065674}, \"0.6832438111305237\": {\"frequency\": 2, \"value\": 0.6832438111305237}, \"0.7849213480949402\": {\"frequency\": 1, \"value\": 0.7849213480949402}, \"0.903519868850708\": {\"frequency\": 2, \"value\": 0.903519868850708}, \"0.2551465928554535\": {\"frequency\": 1, \"value\": 0.2551465928554535}, \"0.31503820419311523\": {\"frequency\": 1, \"value\": 0.31503820419311523}, \"0.7623569965362549\": {\"frequency\": 1, \"value\": 0.7623569965362549}, \"0.8625050187110901\": {\"frequency\": 1, \"value\": 0.8625050187110901}, \"0.8540852069854736\": {\"frequency\": 3, \"value\": 0.8540852069854736}, \"0.9077771306037903\": {\"frequency\": 1, \"value\": 0.9077771306037903}, \"0.8002542853355408\": {\"frequency\": 2, \"value\": 0.8002542853355408}, \"0.8825124502182007\": {\"frequency\": 1, \"value\": 0.8825124502182007}, \"0.8846830725669861\": {\"frequency\": 1, \"value\": 0.8846830725669861}, \"0.2810765206813812\": {\"frequency\": 1, \"value\": 0.2810765206813812}, \"0.23797166347503662\": {\"frequency\": 1, \"value\": 0.23797166347503662}, \"0.8771529793739319\": {\"frequency\": 1, \"value\": 0.8771529793739319}, \"0.6961892247200012\": {\"frequency\": 1, \"value\": 0.6961892247200012}, \"0.7028443217277527\": {\"frequency\": 1, \"value\": 0.7028443217277527}, \"0.8532641530036926\": {\"frequency\": 1, \"value\": 0.8532641530036926}, \"0.9068887233734131\": {\"frequency\": 1, \"value\": 0.9068887233734131}, \"0.5133379101753235\": {\"frequency\": 1, \"value\": 0.5133379101753235}, \"0.7056717276573181\": {\"frequency\": 1, \"value\": 0.7056717276573181}, \"0.9052523970603943\": {\"frequency\": 1, \"value\": 0.9052523970603943}, \"0.8619903326034546\": {\"frequency\": 1, \"value\": 0.8619903326034546}, \"0.09888678789138794\": {\"frequency\": 1, \"value\": 0.09888678789138794}, \"0.09339499473571777\": {\"frequency\": 1, \"value\": 0.09339499473571777}, \"0.20274679362773895\": {\"frequency\": 1, \"value\": 0.20274679362773895}, \"0.5939198136329651\": {\"frequency\": 1, \"value\": 0.5939198136329651}, \"0.9198259115219116\": {\"frequency\": 1, \"value\": 0.9198259115219116}, \"0.5513555407524109\": {\"frequency\": 1, \"value\": 0.5513555407524109}, \"0.670130729675293\": {\"frequency\": 1, \"value\": 0.670130729675293}, \"0.4348886013031006\": {\"frequency\": 1, \"value\": 0.4348886013031006}, \"0.18534143269062042\": {\"frequency\": 1, \"value\": 0.18534143269062042}, \"0.6275695562362671\": {\"frequency\": 1, \"value\": 0.6275695562362671}, \"0.7310696244239807\": {\"frequency\": 1, \"value\": 0.7310696244239807}, \"0.7080445885658264\": {\"frequency\": 1, \"value\": 0.7080445885658264}, \"0.2824070155620575\": {\"frequency\": 1, \"value\": 0.2824070155620575}, \"0.9139886498451233\": {\"frequency\": 1, \"value\": 0.9139886498451233}, \"0.8465443849563599\": {\"frequency\": 1, \"value\": 0.8465443849563599}, \"0.5477822422981262\": {\"frequency\": 1, \"value\": 0.5477822422981262}, \"0.8808276653289795\": {\"frequency\": 1, \"value\": 0.8808276653289795}, \"0.2544187605381012\": {\"frequency\": 1, \"value\": 0.2544187605381012}, \"0.9169071912765503\": {\"frequency\": 1, \"value\": 0.9169071912765503}, \"0.7092320919036865\": {\"frequency\": 1, \"value\": 0.7092320919036865}, \"0.8771810531616211\": {\"frequency\": 8, \"value\": 0.8771810531616211}, \"0.7760535478591919\": {\"frequency\": 1, \"value\": 0.7760535478591919}, \"0.769553005695343\": {\"frequency\": 1, \"value\": 0.769553005695343}, \"0.706286609172821\": {\"frequency\": 1, \"value\": 0.706286609172821}, \"0.27826014161109924\": {\"frequency\": 1, \"value\": 0.27826014161109924}, \"0.4838654100894928\": {\"frequency\": 1, \"value\": 0.4838654100894928}, \"0.24055656790733337\": {\"frequency\": 1, \"value\": 0.24055656790733337}, \"0.9473375678062439\": {\"frequency\": 2, \"value\": 0.9473375678062439}, \"0.8113856315612793\": {\"frequency\": 1, \"value\": 0.8113856315612793}, \"0.0321749709546566\": {\"frequency\": 9, \"value\": 0.0321749709546566}, \"0.4831102192401886\": {\"frequency\": 1, \"value\": 0.4831102192401886}, \"0.8709889650344849\": {\"frequency\": 1, \"value\": 0.8709889650344849}, \"0.05206630378961563\": {\"frequency\": 1, \"value\": 0.05206630378961563}, \"0.5342671275138855\": {\"frequency\": 1, \"value\": 0.5342671275138855}, \"0.7627255916595459\": {\"frequency\": 1, \"value\": 0.7627255916595459}, \"0.5445287823677063\": {\"frequency\": 1, \"value\": 0.5445287823677063}, \"0.26791438460350037\": {\"frequency\": 1, \"value\": 0.26791438460350037}, \"0.8522849678993225\": {\"frequency\": 1, \"value\": 0.8522849678993225}, \"0.040401358157396317\": {\"frequency\": 1, \"value\": 0.040401358157396317}, \"0.9631104469299316\": {\"frequency\": 12, \"value\": 0.9631104469299316}, \"0.8085787296295166\": {\"frequency\": 1, \"value\": 0.8085787296295166}, \"0.6221771240234375\": {\"frequency\": 1, \"value\": 0.6221771240234375}, \"0.08873797208070755\": {\"frequency\": 1, \"value\": 0.08873797208070755}, \"0.6295701265335083\": {\"frequency\": 1, \"value\": 0.6295701265335083}, \"0.17265228927135468\": {\"frequency\": 1, \"value\": 0.17265228927135468}, \"0.12829595804214478\": {\"frequency\": 1, \"value\": 0.12829595804214478}, \"0.9349493980407715\": {\"frequency\": 1, \"value\": 0.9349493980407715}, \"0.6036151647567749\": {\"frequency\": 1, \"value\": 0.6036151647567749}, \"0.9499726295471191\": {\"frequency\": 2, \"value\": 0.9499726295471191}, \"0.9174962043762207\": {\"frequency\": 1, \"value\": 0.9174962043762207}, \"0.8508191704750061\": {\"frequency\": 1, \"value\": 0.8508191704750061}, \"0.8342825174331665\": {\"frequency\": 10, \"value\": 0.8342825174331665}, \"0.1150166243314743\": {\"frequency\": 1, \"value\": 0.1150166243314743}, \"0.9245573878288269\": {\"frequency\": 1, \"value\": 0.9245573878288269}, \"0.8612372875213623\": {\"frequency\": 1, \"value\": 0.8612372875213623}, \"0.4495156705379486\": {\"frequency\": 1, \"value\": 0.4495156705379486}, \"0.7966354489326477\": {\"frequency\": 1, \"value\": 0.7966354489326477}, \"0.7747545838356018\": {\"frequency\": 1, \"value\": 0.7747545838356018}, \"0.6023644208908081\": {\"frequency\": 1, \"value\": 0.6023644208908081}, \"0.315214604139328\": {\"frequency\": 1, \"value\": 0.315214604139328}, \"0.947151243686676\": {\"frequency\": 2, \"value\": 0.947151243686676}, \"0.9524465203285217\": {\"frequency\": 1, \"value\": 0.9524465203285217}, \"0.17158913612365723\": {\"frequency\": 1, \"value\": 0.17158913612365723}, \"0.812603235244751\": {\"frequency\": 1, \"value\": 0.812603235244751}, \"0.3636956512928009\": {\"frequency\": 1, \"value\": 0.3636956512928009}, \"0.5542842149734497\": {\"frequency\": 1, \"value\": 0.5542842149734497}, \"0.24922113120555878\": {\"frequency\": 1, \"value\": 0.24922113120555878}, \"0.384224534034729\": {\"frequency\": 1, \"value\": 0.384224534034729}, \"0.5441592931747437\": {\"frequency\": 1, \"value\": 0.5441592931747437}, \"0.9113695621490479\": {\"frequency\": 1, \"value\": 0.9113695621490479}, \"0.0996968075633049\": {\"frequency\": 1, \"value\": 0.0996968075633049}, \"0.8990950584411621\": {\"frequency\": 1, \"value\": 0.8990950584411621}, \"0.14426016807556152\": {\"frequency\": 1, \"value\": 0.14426016807556152}, \"0.25307807326316833\": {\"frequency\": 1, \"value\": 0.25307807326316833}, \"0.15616358816623688\": {\"frequency\": 1, \"value\": 0.15616358816623688}, \"0.6680986285209656\": {\"frequency\": 1, \"value\": 0.6680986285209656}, \"0.3085036873817444\": {\"frequency\": 1, \"value\": 0.3085036873817444}, \"0.8561950922012329\": {\"frequency\": 1, \"value\": 0.8561950922012329}, \"0.817600667476654\": {\"frequency\": 1, \"value\": 0.817600667476654}, \"0.8670156598091125\": {\"frequency\": 1, \"value\": 0.8670156598091125}, \"0.07005999982357025\": {\"frequency\": 1, \"value\": 0.07005999982357025}, \"0.22560501098632812\": {\"frequency\": 1, \"value\": 0.22560501098632812}, \"0.19823016226291656\": {\"frequency\": 1, \"value\": 0.19823016226291656}, \"0.16872738301753998\": {\"frequency\": 1, \"value\": 0.16872738301753998}, \"0.5512190461158752\": {\"frequency\": 1, \"value\": 0.5512190461158752}, \"0.7213650345802307\": {\"frequency\": 1, \"value\": 0.7213650345802307}, \"0.9552558660507202\": {\"frequency\": 1, \"value\": 0.9552558660507202}, \"0.18498089909553528\": {\"frequency\": 1, \"value\": 0.18498089909553528}, \"0.8874014019966125\": {\"frequency\": 1, \"value\": 0.8874014019966125}, \"0.9182111620903015\": {\"frequency\": 1, \"value\": 0.9182111620903015}, \"0.4060809016227722\": {\"frequency\": 1, \"value\": 0.4060809016227722}, \"0.8207762837409973\": {\"frequency\": 1, \"value\": 0.8207762837409973}, \"0.48676204681396484\": {\"frequency\": 1, \"value\": 0.48676204681396484}, \"0.9298804998397827\": {\"frequency\": 1, \"value\": 0.9298804998397827}, \"0.8559707999229431\": {\"frequency\": 3, \"value\": 0.8559707999229431}, \"0.4758686125278473\": {\"frequency\": 1, \"value\": 0.4758686125278473}, \"0.9121825695037842\": {\"frequency\": 1, \"value\": 0.9121825695037842}, \"0.2814992070198059\": {\"frequency\": 1, \"value\": 0.2814992070198059}, \"0.8040198683738708\": {\"frequency\": 1, \"value\": 0.8040198683738708}, \"0.7494799494743347\": {\"frequency\": 1, \"value\": 0.7494799494743347}, \"0.04314948990941048\": {\"frequency\": 1, \"value\": 0.04314948990941048}, \"0.8152022957801819\": {\"frequency\": 1, \"value\": 0.8152022957801819}, \"0.728223443031311\": {\"frequency\": 1, \"value\": 0.728223443031311}, \"0.8710623979568481\": {\"frequency\": 2, \"value\": 0.8710623979568481}, \"0.8054380416870117\": {\"frequency\": 1, \"value\": 0.8054380416870117}, \"0.6716833710670471\": {\"frequency\": 1, \"value\": 0.6716833710670471}, \"0.9461068511009216\": {\"frequency\": 1, \"value\": 0.9461068511009216}, \"0.8376113176345825\": {\"frequency\": 1, \"value\": 0.8376113176345825}, \"0.8339545726776123\": {\"frequency\": 1, \"value\": 0.8339545726776123}, \"0.8898918032646179\": {\"frequency\": 1, \"value\": 0.8898918032646179}, \"0.7931244373321533\": {\"frequency\": 1, \"value\": 0.7931244373321533}, \"0.9294503331184387\": {\"frequency\": 1, \"value\": 0.9294503331184387}, \"0.8498338460922241\": {\"frequency\": 1, \"value\": 0.8498338460922241}, \"0.7885279059410095\": {\"frequency\": 1, \"value\": 0.7885279059410095}, \"0.9064860939979553\": {\"frequency\": 1, \"value\": 0.9064860939979553}, \"0.17851153016090393\": {\"frequency\": 1, \"value\": 0.17851153016090393}, \"0.7583946585655212\": {\"frequency\": 1, \"value\": 0.7583946585655212}, \"0.5007626414299011\": {\"frequency\": 1, \"value\": 0.5007626414299011}, \"0.726306140422821\": {\"frequency\": 1, \"value\": 0.726306140422821}, \"0.6164586544036865\": {\"frequency\": 1, \"value\": 0.6164586544036865}, \"0.9484327435493469\": {\"frequency\": 1, \"value\": 0.9484327435493469}, \"0.5216369032859802\": {\"frequency\": 1, \"value\": 0.5216369032859802}, \"0.9007681608200073\": {\"frequency\": 1, \"value\": 0.9007681608200073}, \"0.7411457300186157\": {\"frequency\": 1, \"value\": 0.7411457300186157}, \"0.6326870322227478\": {\"frequency\": 2, \"value\": 0.6326870322227478}, \"0.8382148742675781\": {\"frequency\": 1, \"value\": 0.8382148742675781}, \"0.5234586596488953\": {\"frequency\": 1, \"value\": 0.5234586596488953}, \"0.6052730679512024\": {\"frequency\": 1, \"value\": 0.6052730679512024}, \"0.9338913559913635\": {\"frequency\": 1, \"value\": 0.9338913559913635}, \"0.9203759431838989\": {\"frequency\": 1, \"value\": 0.9203759431838989}, \"0.8604738116264343\": {\"frequency\": 1, \"value\": 0.8604738116264343}, \"0.9456180334091187\": {\"frequency\": 1, \"value\": 0.9456180334091187}, \"0.7226641774177551\": {\"frequency\": 1, \"value\": 0.7226641774177551}, \"0.1928197741508484\": {\"frequency\": 1, \"value\": 0.1928197741508484}, \"0.4958193004131317\": {\"frequency\": 1, \"value\": 0.4958193004131317}, \"0.8894786238670349\": {\"frequency\": 1, \"value\": 0.8894786238670349}, \"0.6244617104530334\": {\"frequency\": 1, \"value\": 0.6244617104530334}, \"0.0645814910531044\": {\"frequency\": 1, \"value\": 0.0645814910531044}, \"0.6421515345573425\": {\"frequency\": 1, \"value\": 0.6421515345573425}, \"0.3174079656600952\": {\"frequency\": 1, \"value\": 0.3174079656600952}, \"0.25397154688835144\": {\"frequency\": 1, \"value\": 0.25397154688835144}, \"0.7378357648849487\": {\"frequency\": 1, \"value\": 0.7378357648849487}, \"0.9170083403587341\": {\"frequency\": 1, \"value\": 0.9170083403587341}, \"0.7248735427856445\": {\"frequency\": 1, \"value\": 0.7248735427856445}, \"0.5617304444313049\": {\"frequency\": 1, \"value\": 0.5617304444313049}, \"0.9403085112571716\": {\"frequency\": 3, \"value\": 0.9403085112571716}, \"0.5136996507644653\": {\"frequency\": 1, \"value\": 0.5136996507644653}, \"0.6576549410820007\": {\"frequency\": 1, \"value\": 0.6576549410820007}, \"0.8520281910896301\": {\"frequency\": 1, \"value\": 0.8520281910896301}, \"0.7429937124252319\": {\"frequency\": 1, \"value\": 0.7429937124252319}, \"0.8744367957115173\": {\"frequency\": 1, \"value\": 0.8744367957115173}, \"0.4413325786590576\": {\"frequency\": 1, \"value\": 0.4413325786590576}, \"0.6551147103309631\": {\"frequency\": 2, \"value\": 0.6551147103309631}, \"0.8435462713241577\": {\"frequency\": 1, \"value\": 0.8435462713241577}, \"0.6072365045547485\": {\"frequency\": 1, \"value\": 0.6072365045547485}, \"0.7574791312217712\": {\"frequency\": 1, \"value\": 0.7574791312217712}, \"0.25156623125076294\": {\"frequency\": 1, \"value\": 0.25156623125076294}, \"0.9092423319816589\": {\"frequency\": 1, \"value\": 0.9092423319816589}, \"0.8773802518844604\": {\"frequency\": 2, \"value\": 0.8773802518844604}, \"0.4296310544013977\": {\"frequency\": 1, \"value\": 0.4296310544013977}, \"0.9655894041061401\": {\"frequency\": 1, \"value\": 0.9655894041061401}, \"0.5190550684928894\": {\"frequency\": 1, \"value\": 0.5190550684928894}, \"0.7224020957946777\": {\"frequency\": 1, \"value\": 0.7224020957946777}, \"0.8383412957191467\": {\"frequency\": 5, \"value\": 0.8383412957191467}, \"0.8740749359130859\": {\"frequency\": 1, \"value\": 0.8740749359130859}, \"0.7416630387306213\": {\"frequency\": 1, \"value\": 0.7416630387306213}, \"0.910270631313324\": {\"frequency\": 1, \"value\": 0.910270631313324}, \"0.6972940564155579\": {\"frequency\": 1, \"value\": 0.6972940564155579}, \"0.9051190614700317\": {\"frequency\": 1, \"value\": 0.9051190614700317}, \"0.7574617862701416\": {\"frequency\": 1, \"value\": 0.7574617862701416}, \"0.920131504535675\": {\"frequency\": 1, \"value\": 0.920131504535675}, \"0.24768118560314178\": {\"frequency\": 1, \"value\": 0.24768118560314178}, \"0.8958303928375244\": {\"frequency\": 1, \"value\": 0.8958303928375244}, \"0.9042418003082275\": {\"frequency\": 1, \"value\": 0.9042418003082275}, \"0.5327376127243042\": {\"frequency\": 1, \"value\": 0.5327376127243042}, \"0.8097632527351379\": {\"frequency\": 1, \"value\": 0.8097632527351379}, \"0.6634392142295837\": {\"frequency\": 1, \"value\": 0.6634392142295837}, \"0.8240876197814941\": {\"frequency\": 1, \"value\": 0.8240876197814941}, \"0.847330629825592\": {\"frequency\": 1, \"value\": 0.847330629825592}, \"0.9403939843177795\": {\"frequency\": 3, \"value\": 0.9403939843177795}, \"0.8493277430534363\": {\"frequency\": 3, \"value\": 0.8493277430534363}, \"0.6071459054946899\": {\"frequency\": 1, \"value\": 0.6071459054946899}, \"0.7622840404510498\": {\"frequency\": 1, \"value\": 0.7622840404510498}, \"0.8497950434684753\": {\"frequency\": 1, \"value\": 0.8497950434684753}, \"0.4318345785140991\": {\"frequency\": 1, \"value\": 0.4318345785140991}, \"0.7106426358222961\": {\"frequency\": 1, \"value\": 0.7106426358222961}, \"0.46896523237228394\": {\"frequency\": 1, \"value\": 0.46896523237228394}, \"0.7287778258323669\": {\"frequency\": 1, \"value\": 0.7287778258323669}, \"0.6859416365623474\": {\"frequency\": 1, \"value\": 0.6859416365623474}, \"0.8687607645988464\": {\"frequency\": 1, \"value\": 0.8687607645988464}, \"0.9236595630645752\": {\"frequency\": 1, \"value\": 0.9236595630645752}, \"0.4511485695838928\": {\"frequency\": 1, \"value\": 0.4511485695838928}, \"0.7275229096412659\": {\"frequency\": 1, \"value\": 0.7275229096412659}, \"0.5087005496025085\": {\"frequency\": 1, \"value\": 0.5087005496025085}, \"0.6707306504249573\": {\"frequency\": 1, \"value\": 0.6707306504249573}, \"0.704474687576294\": {\"frequency\": 1, \"value\": 0.704474687576294}, \"0.8406785130500793\": {\"frequency\": 1, \"value\": 0.8406785130500793}, \"0.8267433643341064\": {\"frequency\": 1, \"value\": 0.8267433643341064}, \"0.7116401791572571\": {\"frequency\": 1, \"value\": 0.7116401791572571}, \"0.8332438468933105\": {\"frequency\": 2, \"value\": 0.8332438468933105}, \"0.821071207523346\": {\"frequency\": 1, \"value\": 0.821071207523346}, \"0.8091771006584167\": {\"frequency\": 1, \"value\": 0.8091771006584167}, \"0.12339036166667938\": {\"frequency\": 1, \"value\": 0.12339036166667938}, \"0.3161143362522125\": {\"frequency\": 1, \"value\": 0.3161143362522125}, \"0.4081621766090393\": {\"frequency\": 1, \"value\": 0.4081621766090393}, \"0.7337137460708618\": {\"frequency\": 1, \"value\": 0.7337137460708618}, \"0.5452037453651428\": {\"frequency\": 1, \"value\": 0.5452037453651428}, \"0.766555666923523\": {\"frequency\": 1, \"value\": 0.766555666923523}, \"0.7902679443359375\": {\"frequency\": 1, \"value\": 0.7902679443359375}, \"0.7562558650970459\": {\"frequency\": 1, \"value\": 0.7562558650970459}, \"0.1333470642566681\": {\"frequency\": 1, \"value\": 0.1333470642566681}, \"0.1534232646226883\": {\"frequency\": 1, \"value\": 0.1534232646226883}, \"0.5650863647460938\": {\"frequency\": 1, \"value\": 0.5650863647460938}, \"0.6249352097511292\": {\"frequency\": 1, \"value\": 0.6249352097511292}, \"0.6724094748497009\": {\"frequency\": 1, \"value\": 0.6724094748497009}, \"0.4455185532569885\": {\"frequency\": 2, \"value\": 0.4455185532569885}, \"0.4931678771972656\": {\"frequency\": 1, \"value\": 0.4931678771972656}, \"0.0721154436469078\": {\"frequency\": 1, \"value\": 0.0721154436469078}, \"0.8746259808540344\": {\"frequency\": 1, \"value\": 0.8746259808540344}, \"0.8383423089981079\": {\"frequency\": 1, \"value\": 0.8383423089981079}, \"0.6339190006256104\": {\"frequency\": 1, \"value\": 0.6339190006256104}, \"0.7905318737030029\": {\"frequency\": 1, \"value\": 0.7905318737030029}, \"0.08502285927534103\": {\"frequency\": 1, \"value\": 0.08502285927534103}, \"0.8110774159431458\": {\"frequency\": 1, \"value\": 0.8110774159431458}, \"0.7040310502052307\": {\"frequency\": 1, \"value\": 0.7040310502052307}, \"0.11130958050489426\": {\"frequency\": 1, \"value\": 0.11130958050489426}, \"0.799217700958252\": {\"frequency\": 1, \"value\": 0.799217700958252}, \"0.615373432636261\": {\"frequency\": 1, \"value\": 0.615373432636261}, \"0.0687919333577156\": {\"frequency\": 1, \"value\": 0.0687919333577156}, \"0.897175133228302\": {\"frequency\": 1, \"value\": 0.897175133228302}, \"0.04945758730173111\": {\"frequency\": 1, \"value\": 0.04945758730173111}, \"0.3747066259384155\": {\"frequency\": 1, \"value\": 0.3747066259384155}, \"0.8796969652175903\": {\"frequency\": 1, \"value\": 0.8796969652175903}, \"0.840100109577179\": {\"frequency\": 1, \"value\": 0.840100109577179}, \"0.7640541791915894\": {\"frequency\": 1, \"value\": 0.7640541791915894}, \"0.9539486765861511\": {\"frequency\": 1, \"value\": 0.9539486765861511}, \"0.9616288542747498\": {\"frequency\": 16, \"value\": 0.9616288542747498}, \"0.915407657623291\": {\"frequency\": 1, \"value\": 0.915407657623291}, \"0.6424798965454102\": {\"frequency\": 1, \"value\": 0.6424798965454102}, \"0.8460970520973206\": {\"frequency\": 4, \"value\": 0.8460970520973206}, \"0.6670131087303162\": {\"frequency\": 1, \"value\": 0.6670131087303162}, \"0.7434917688369751\": {\"frequency\": 1, \"value\": 0.7434917688369751}, \"0.9668744802474976\": {\"frequency\": 9, \"value\": 0.9668744802474976}, \"0.5574255585670471\": {\"frequency\": 2, \"value\": 0.5574255585670471}, \"0.820638120174408\": {\"frequency\": 1, \"value\": 0.820638120174408}, \"0.6687942743301392\": {\"frequency\": 1, \"value\": 0.6687942743301392}, \"0.04330524057149887\": {\"frequency\": 1, \"value\": 0.04330524057149887}, \"0.6995950937271118\": {\"frequency\": 1, \"value\": 0.6995950937271118}, \"0.5517509579658508\": {\"frequency\": 1, \"value\": 0.5517509579658508}, \"0.25299355387687683\": {\"frequency\": 1, \"value\": 0.25299355387687683}, \"0.7981145977973938\": {\"frequency\": 1, \"value\": 0.7981145977973938}, \"0.45227527618408203\": {\"frequency\": 1, \"value\": 0.45227527618408203}, \"0.331110417842865\": {\"frequency\": 1, \"value\": 0.331110417842865}, \"0.7046970725059509\": {\"frequency\": 1, \"value\": 0.7046970725059509}, \"0.49703943729400635\": {\"frequency\": 1, \"value\": 0.49703943729400635}, \"0.14193013310432434\": {\"frequency\": 1, \"value\": 0.14193013310432434}, \"0.8444883227348328\": {\"frequency\": 1, \"value\": 0.8444883227348328}, \"0.8965385556221008\": {\"frequency\": 1, \"value\": 0.8965385556221008}, \"0.22733239829540253\": {\"frequency\": 1, \"value\": 0.22733239829540253}, \"0.7587136030197144\": {\"frequency\": 1, \"value\": 0.7587136030197144}, \"0.03992928937077522\": {\"frequency\": 1, \"value\": 0.03992928937077522}, \"0.6832921504974365\": {\"frequency\": 1, \"value\": 0.6832921504974365}, \"0.4097468852996826\": {\"frequency\": 1, \"value\": 0.4097468852996826}, \"0.533556342124939\": {\"frequency\": 1, \"value\": 0.533556342124939}, \"0.7899863719940186\": {\"frequency\": 1, \"value\": 0.7899863719940186}, \"0.19942490756511688\": {\"frequency\": 6, \"value\": 0.19942490756511688}, \"0.7177032828330994\": {\"frequency\": 1, \"value\": 0.7177032828330994}, \"0.8370789885520935\": {\"frequency\": 1, \"value\": 0.8370789885520935}, \"0.30627626180648804\": {\"frequency\": 1, \"value\": 0.30627626180648804}, \"0.9156136512756348\": {\"frequency\": 1, \"value\": 0.9156136512756348}, \"0.9387193322181702\": {\"frequency\": 1, \"value\": 0.9387193322181702}, \"0.5282691717147827\": {\"frequency\": 1, \"value\": 0.5282691717147827}, \"0.761389434337616\": {\"frequency\": 1, \"value\": 0.761389434337616}, \"0.4761870801448822\": {\"frequency\": 1, \"value\": 0.4761870801448822}, \"0.11399689316749573\": {\"frequency\": 1, \"value\": 0.11399689316749573}, \"0.8970744609832764\": {\"frequency\": 1, \"value\": 0.8970744609832764}, \"0.45541325211524963\": {\"frequency\": 1, \"value\": 0.45541325211524963}, \"0.6128199696540833\": {\"frequency\": 1, \"value\": 0.6128199696540833}, \"0.925732433795929\": {\"frequency\": 1, \"value\": 0.925732433795929}, \"0.8411839604377747\": {\"frequency\": 1, \"value\": 0.8411839604377747}, \"0.34576746821403503\": {\"frequency\": 1, \"value\": 0.34576746821403503}, \"0.7380815744400024\": {\"frequency\": 1, \"value\": 0.7380815744400024}, \"0.2974773049354553\": {\"frequency\": 1, \"value\": 0.2974773049354553}, \"0.673029899597168\": {\"frequency\": 1, \"value\": 0.673029899597168}, \"0.8676179051399231\": {\"frequency\": 2, \"value\": 0.8676179051399231}, \"0.6505156755447388\": {\"frequency\": 1, \"value\": 0.6505156755447388}, \"0.9286864399909973\": {\"frequency\": 1, \"value\": 0.9286864399909973}, \"0.9275886416435242\": {\"frequency\": 2, \"value\": 0.9275886416435242}, \"0.9629101157188416\": {\"frequency\": 4, \"value\": 0.9629101157188416}, \"0.3637979030609131\": {\"frequency\": 1, \"value\": 0.3637979030609131}, \"0.9210923314094543\": {\"frequency\": 1, \"value\": 0.9210923314094543}, \"0.791304886341095\": {\"frequency\": 1, \"value\": 0.791304886341095}, \"0.897040605545044\": {\"frequency\": 1, \"value\": 0.897040605545044}, \"0.27057045698165894\": {\"frequency\": 1, \"value\": 0.27057045698165894}, \"0.5059427618980408\": {\"frequency\": 1, \"value\": 0.5059427618980408}, \"0.25008177757263184\": {\"frequency\": 1, \"value\": 0.25008177757263184}, \"0.6791020035743713\": {\"frequency\": 1, \"value\": 0.6791020035743713}, \"0.927062451839447\": {\"frequency\": 9, \"value\": 0.927062451839447}, \"0.17135609686374664\": {\"frequency\": 1, \"value\": 0.17135609686374664}, \"0.33811578154563904\": {\"frequency\": 1, \"value\": 0.33811578154563904}, \"0.8528656959533691\": {\"frequency\": 1, \"value\": 0.8528656959533691}, \"0.35534077882766724\": {\"frequency\": 1, \"value\": 0.35534077882766724}, \"0.6578140258789062\": {\"frequency\": 1, \"value\": 0.6578140258789062}, \"0.32633575797080994\": {\"frequency\": 1, \"value\": 0.32633575797080994}, \"0.7470510005950928\": {\"frequency\": 1, \"value\": 0.7470510005950928}, \"0.5186613202095032\": {\"frequency\": 1, \"value\": 0.5186613202095032}, \"0.561266303062439\": {\"frequency\": 1, \"value\": 0.561266303062439}, \"0.42224305868148804\": {\"frequency\": 1, \"value\": 0.42224305868148804}, \"0.6035746335983276\": {\"frequency\": 1, \"value\": 0.6035746335983276}, \"0.8854816555976868\": {\"frequency\": 1, \"value\": 0.8854816555976868}, \"0.788627564907074\": {\"frequency\": 1, \"value\": 0.788627564907074}, \"0.024120688438415527\": {\"frequency\": 1, \"value\": 0.024120688438415527}, \"0.6273488402366638\": {\"frequency\": 2, \"value\": 0.6273488402366638}, \"0.12197109311819077\": {\"frequency\": 1, \"value\": 0.12197109311819077}, \"0.7750932574272156\": {\"frequency\": 1, \"value\": 0.7750932574272156}, \"0.30146610736846924\": {\"frequency\": 1, \"value\": 0.30146610736846924}, \"0.7240740656852722\": {\"frequency\": 1, \"value\": 0.7240740656852722}, \"0.42145490646362305\": {\"frequency\": 1, \"value\": 0.42145490646362305}, \"0.5339511036872864\": {\"frequency\": 1, \"value\": 0.5339511036872864}, \"0.19184453785419464\": {\"frequency\": 1, \"value\": 0.19184453785419464}, \"0.15267764031887054\": {\"frequency\": 1, \"value\": 0.15267764031887054}, \"0.9092373847961426\": {\"frequency\": 1, \"value\": 0.9092373847961426}, \"0.891907274723053\": {\"frequency\": 1, \"value\": 0.891907274723053}, \"0.4043636620044708\": {\"frequency\": 1, \"value\": 0.4043636620044708}, \"0.9030805826187134\": {\"frequency\": 1, \"value\": 0.9030805826187134}, \"0.8185812830924988\": {\"frequency\": 1, \"value\": 0.8185812830924988}, \"0.8259093761444092\": {\"frequency\": 1, \"value\": 0.8259093761444092}, \"0.8275802731513977\": {\"frequency\": 1, \"value\": 0.8275802731513977}, \"0.4866239130496979\": {\"frequency\": 1, \"value\": 0.4866239130496979}, \"0.8496868014335632\": {\"frequency\": 1, \"value\": 0.8496868014335632}, \"0.84581458568573\": {\"frequency\": 1, \"value\": 0.84581458568573}, \"0.7350701689720154\": {\"frequency\": 1, \"value\": 0.7350701689720154}, \"0.042148739099502563\": {\"frequency\": 1, \"value\": 0.042148739099502563}, \"0.8538789749145508\": {\"frequency\": 1, \"value\": 0.8538789749145508}, \"0.2849213182926178\": {\"frequency\": 1, \"value\": 0.2849213182926178}, \"0.8568071126937866\": {\"frequency\": 1, \"value\": 0.8568071126937866}, \"0.06445182859897614\": {\"frequency\": 2, \"value\": 0.06445182859897614}, \"0.663064181804657\": {\"frequency\": 1, \"value\": 0.663064181804657}, \"0.740662157535553\": {\"frequency\": 1, \"value\": 0.740662157535553}, \"0.9366581439971924\": {\"frequency\": 1, \"value\": 0.9366581439971924}, \"0.6138614416122437\": {\"frequency\": 1, \"value\": 0.6138614416122437}, \"0.5186799764633179\": {\"frequency\": 1, \"value\": 0.5186799764633179}, \"0.9158872961997986\": {\"frequency\": 1, \"value\": 0.9158872961997986}, \"0.2073129415512085\": {\"frequency\": 1, \"value\": 0.2073129415512085}, \"0.9052698612213135\": {\"frequency\": 1, \"value\": 0.9052698612213135}, \"0.9498012661933899\": {\"frequency\": 1, \"value\": 0.9498012661933899}, \"0.5180742144584656\": {\"frequency\": 1, \"value\": 0.5180742144584656}, \"0.9016472101211548\": {\"frequency\": 1, \"value\": 0.9016472101211548}, \"0.2618879973888397\": {\"frequency\": 1, \"value\": 0.2618879973888397}, \"0.7674652934074402\": {\"frequency\": 1, \"value\": 0.7674652934074402}, \"0.0657525584101677\": {\"frequency\": 1, \"value\": 0.0657525584101677}, \"0.9344386458396912\": {\"frequency\": 1, \"value\": 0.9344386458396912}, \"0.07805273681879044\": {\"frequency\": 1, \"value\": 0.07805273681879044}, \"0.8583716750144958\": {\"frequency\": 1, \"value\": 0.8583716750144958}, \"0.6239049434661865\": {\"frequency\": 1, \"value\": 0.6239049434661865}, \"0.7900332808494568\": {\"frequency\": 1, \"value\": 0.7900332808494568}, \"0.8832683563232422\": {\"frequency\": 1, \"value\": 0.8832683563232422}, \"0.6914505362510681\": {\"frequency\": 1, \"value\": 0.6914505362510681}, \"0.685461163520813\": {\"frequency\": 1, \"value\": 0.685461163520813}, \"0.9595723152160645\": {\"frequency\": 3, \"value\": 0.9595723152160645}, \"0.5060521960258484\": {\"frequency\": 1, \"value\": 0.5060521960258484}, \"0.7364391684532166\": {\"frequency\": 1, \"value\": 0.7364391684532166}, \"0.5980492830276489\": {\"frequency\": 1, \"value\": 0.5980492830276489}, \"0.45457831025123596\": {\"frequency\": 1, \"value\": 0.45457831025123596}, \"0.7445548176765442\": {\"frequency\": 1, \"value\": 0.7445548176765442}, \"0.96382737159729\": {\"frequency\": 1, \"value\": 0.96382737159729}, \"0.8667572140693665\": {\"frequency\": 1, \"value\": 0.8667572140693665}, \"0.6536163091659546\": {\"frequency\": 1, \"value\": 0.6536163091659546}, \"0.6333375573158264\": {\"frequency\": 1, \"value\": 0.6333375573158264}, \"0.1692110151052475\": {\"frequency\": 1, \"value\": 0.1692110151052475}, \"0.8411073088645935\": {\"frequency\": 1, \"value\": 0.8411073088645935}, \"0.7566514015197754\": {\"frequency\": 1, \"value\": 0.7566514015197754}, \"0.31176117062568665\": {\"frequency\": 1, \"value\": 0.31176117062568665}, \"0.6183654069900513\": {\"frequency\": 1, \"value\": 0.6183654069900513}, \"0.9427012205123901\": {\"frequency\": 3, \"value\": 0.9427012205123901}, \"0.6355538368225098\": {\"frequency\": 1, \"value\": 0.6355538368225098}, \"0.5917389392852783\": {\"frequency\": 1, \"value\": 0.5917389392852783}, \"0.925246000289917\": {\"frequency\": 1, \"value\": 0.925246000289917}, \"0.9398067593574524\": {\"frequency\": 1, \"value\": 0.9398067593574524}, \"0.42295002937316895\": {\"frequency\": 1, \"value\": 0.42295002937316895}, \"0.6742466688156128\": {\"frequency\": 1, \"value\": 0.6742466688156128}, \"0.716632068157196\": {\"frequency\": 1, \"value\": 0.716632068157196}, \"0.33917757868766785\": {\"frequency\": 1, \"value\": 0.33917757868766785}, \"0.47032469511032104\": {\"frequency\": 1, \"value\": 0.47032469511032104}, \"0.8378130197525024\": {\"frequency\": 2, \"value\": 0.8378130197525024}, \"0.8961467146873474\": {\"frequency\": 1, \"value\": 0.8961467146873474}, \"0.917971670627594\": {\"frequency\": 2, \"value\": 0.917971670627594}, \"0.9122101664543152\": {\"frequency\": 1, \"value\": 0.9122101664543152}, \"0.8068038821220398\": {\"frequency\": 1, \"value\": 0.8068038821220398}, \"0.9470665454864502\": {\"frequency\": 1, \"value\": 0.9470665454864502}, \"0.7025076150894165\": {\"frequency\": 1, \"value\": 0.7025076150894165}, \"0.8127698302268982\": {\"frequency\": 1, \"value\": 0.8127698302268982}, \"0.8222384452819824\": {\"frequency\": 1, \"value\": 0.8222384452819824}, \"0.7520310282707214\": {\"frequency\": 1, \"value\": 0.7520310282707214}, \"0.955525279045105\": {\"frequency\": 1, \"value\": 0.955525279045105}, \"0.7072635293006897\": {\"frequency\": 1, \"value\": 0.7072635293006897}, \"0.16613763570785522\": {\"frequency\": 1, \"value\": 0.16613763570785522}, \"0.460246741771698\": {\"frequency\": 1, \"value\": 0.460246741771698}, \"0.7847590446472168\": {\"frequency\": 1, \"value\": 0.7847590446472168}, \"0.7165722846984863\": {\"frequency\": 1, \"value\": 0.7165722846984863}, \"0.7868635654449463\": {\"frequency\": 1, \"value\": 0.7868635654449463}, \"0.4379924237728119\": {\"frequency\": 1, \"value\": 0.4379924237728119}, \"0.507241427898407\": {\"frequency\": 1, \"value\": 0.507241427898407}, \"0.5364508032798767\": {\"frequency\": 1, \"value\": 0.5364508032798767}, \"0.951518714427948\": {\"frequency\": 1, \"value\": 0.951518714427948}, \"0.46980273723602295\": {\"frequency\": 1, \"value\": 0.46980273723602295}, \"0.7731500267982483\": {\"frequency\": 1, \"value\": 0.7731500267982483}, \"0.7736929059028625\": {\"frequency\": 1, \"value\": 0.7736929059028625}, \"0.833849310874939\": {\"frequency\": 3, \"value\": 0.833849310874939}, \"0.6430943608283997\": {\"frequency\": 1, \"value\": 0.6430943608283997}, \"0.8453902006149292\": {\"frequency\": 1, \"value\": 0.8453902006149292}}, \"mean\": 0.8293942163474473}, \"selected_variable\": {\"name\": [\"<SArray>\"], \"dtype\": \"float\", \"view_component\": \"Numeric\", \"view_file\": \"sarray\", \"descriptives\": {\"rows\": 1722}, \"type\": \"SArray\", \"view_components\": [\"Numeric\", \"Categorical\"]}, \"histogram\": {\"progress\": 1.0, \"histogram\": {\"max\": 0.988422554731369, \"bins\": [32, 24, 36, 28, 24, 46, 57, 66, 89, 111, 204, 1005], \"min\": 0.014338425397872945}, \"min\": 0.024120688438415527, \"complete\": 1, \"max\": 0.9774881601333618}}, e);\n",
       "                });\n",
       "            })();\n",
       "        "
      ]
     },
     "metadata": {},
     "output_type": "display_data"
    }
   ],
   "source": [
    "predictions['probability'].show()"
   ]
  },
  {
   "cell_type": "markdown",
   "metadata": {},
   "source": [
    "## Evaluating the model"
   ]
  },
  {
   "cell_type": "code",
   "execution_count": 70,
   "metadata": {
    "collapsed": false
   },
   "outputs": [
    {
     "name": "stdout",
     "output_type": "stream",
     "text": [
      "PROGRESS: Making a churn forecast for the time window:\n",
      "PROGRESS: --------------------------------------------------\n",
      "PROGRESS:  Start : 2016-04-01 00:00:00\n",
      "PROGRESS:  End   : 2016-04-08 00:00:00\n",
      "PROGRESS: --------------------------------------------------\n",
      "PROGRESS: Grouping dataset by user.\n",
      "PROGRESS: Resampling grouped observation_data by time-period 1 day, 0:00:00.\n"
     ]
    },
    {
     "data": {
      "text/html": [
       "<pre>next_event_time is a categorical variable with too many different values (204030) and will be ignored.</pre>"
      ],
      "text/plain": [
       "next_event_time is a categorical variable with too many different values (204030) and will be ignored."
      ]
     },
     "metadata": {},
     "output_type": "display_data"
    },
    {
     "data": {
      "text/html": [
       "<pre>previous_event_time is a categorical variable with too many different values (198209) and will be ignored.</pre>"
      ],
      "text/plain": [
       "previous_event_time is a categorical variable with too many different values (198209) and will be ignored."
      ]
     },
     "metadata": {},
     "output_type": "display_data"
    },
    {
     "data": {
      "text/html": [
       "<pre>last_event_time is a categorical variable with too many different values (15490) and will be ignored.</pre>"
      ],
      "text/plain": [
       "last_event_time is a categorical variable with too many different values (15490) and will be ignored."
      ]
     },
     "metadata": {},
     "output_type": "display_data"
    },
    {
     "data": {
      "text/html": [
       "<pre>first_event_time is a categorical variable with too many different values (15497) and will be ignored.</pre>"
      ],
      "text/plain": [
       "first_event_time is a categorical variable with too many different values (15497) and will be ignored."
      ]
     },
     "metadata": {},
     "output_type": "display_data"
    },
    {
     "name": "stdout",
     "output_type": "stream",
     "text": [
      "PROGRESS: Generating features for boundary 2016-04-01 00:00:00.\n",
      "PROGRESS: Joining user_data with aggregated features.\n",
      "PROGRESS: Not enough data to make predictions for 517 user(s). \n"
     ]
    },
    {
     "data": {
      "text/plain": [
       "{'auc': 0.9148537473964322, 'evaluation_data': Columns:\n",
       " \tuser_id\tstr\n",
       " \tprobability\tfloat\n",
       " \tlabel\tint\n",
       " \n",
       " Rows: 1205\n",
       " \n",
       " Data:\n",
       " +-------------------------------+----------------+-------+\n",
       " |            user_id            |  probability   | label |\n",
       " +-------------------------------+----------------+-------+\n",
       " | 0040aec2-4192-3439-b555-b4... | 0.435962349176 |   0   |\n",
       " | 005d7707-7454-3a2f-901e-23... | 0.417634397745 |   1   |\n",
       " | 0062ff02-0134-3e82-ac89-85... | 0.906486093998 |   1   |\n",
       " | 0066edd1-9176-36a2-b272-1e... | 0.785240352154 |   1   |\n",
       " | 006d83eb-98d2-3b19-b5b0-f6... | 0.413374304771 |   1   |\n",
       " | 008b43e1-d02b-32b7-b903-57... | 0.977488160133 |   1   |\n",
       " | 00be7585-9013-3267-952f-9b... | 0.810217738152 |   1   |\n",
       " | 00f0ed6c-c637-3a88-a7b3-2a... | 0.977488160133 |   1   |\n",
       " | 01105fe4-66ee-3fea-8f33-15... | 0.553018927574 |   0   |\n",
       " | 011451c1-5f54-3cbf-85a1-12... | 0.734498620033 |   1   |\n",
       " +-------------------------------+----------------+-------+\n",
       " [1205 rows x 3 columns]\n",
       " Note: Only the head of the SFrame is printed.\n",
       " You can use print_rows(num_rows=m, num_columns=n) to print more rows and columns., 'precision': 0.8549222797927462, 'precision_recall_curve': Columns:\n",
       " \tcutoffs\tfloat\n",
       " \tprecision\tfloat\n",
       " \trecall\tfloat\n",
       " \n",
       " Rows: 5\n",
       " \n",
       " Data:\n",
       " +---------+----------------+----------------+\n",
       " | cutoffs |   precision    |     recall     |\n",
       " +---------+----------------+----------------+\n",
       " |   0.1   | 0.757785467128 | 0.997722095672 |\n",
       " |   0.25  | 0.788181818182 | 0.987471526196 |\n",
       " |   0.5   | 0.854922279793 | 0.939635535308 |\n",
       " |   0.75  | 0.941891891892 | 0.793849658314 |\n",
       " |   0.9   | 0.998027613412 | 0.576309794989 |\n",
       " +---------+----------------+----------------+\n",
       " [5 rows x 3 columns], 'recall': 0.9396355353075171, 'roc_curve': Columns:\n",
       " \tthreshold\tfloat\n",
       " \tfpr\tfloat\n",
       " \ttpr\tfloat\n",
       " \tp\tint\n",
       " \tn\tint\n",
       " \n",
       " Rows: 100001\n",
       " \n",
       " Data:\n",
       " +-----------+-----+-----+-----+-----+\n",
       " | threshold | fpr | tpr |  p  |  n  |\n",
       " +-----------+-----+-----+-----+-----+\n",
       " |    0.0    | 1.0 | 1.0 | 878 | 327 |\n",
       " |   1e-05   | 1.0 | 1.0 | 878 | 327 |\n",
       " |   2e-05   | 1.0 | 1.0 | 878 | 327 |\n",
       " |   3e-05   | 1.0 | 1.0 | 878 | 327 |\n",
       " |   4e-05   | 1.0 | 1.0 | 878 | 327 |\n",
       " |   5e-05   | 1.0 | 1.0 | 878 | 327 |\n",
       " |   6e-05   | 1.0 | 1.0 | 878 | 327 |\n",
       " |   7e-05   | 1.0 | 1.0 | 878 | 327 |\n",
       " |   8e-05   | 1.0 | 1.0 | 878 | 327 |\n",
       " |   9e-05   | 1.0 | 1.0 | 878 | 327 |\n",
       " +-----------+-----+-----+-----+-----+\n",
       " [100001 rows x 5 columns]\n",
       " Note: Only the head of the SFrame is printed.\n",
       " You can use print_rows(num_rows=m, num_columns=n) to print more rows and columns.}"
      ]
     },
     "execution_count": 70,
     "metadata": {},
     "output_type": "execute_result"
    }
   ],
   "source": [
    "metrics = model.evaluate(valid, user_data=users, time_boundary=churn_period_apr)\n",
    "metrics"
   ]
  },
  {
   "cell_type": "code",
   "execution_count": 71,
   "metadata": {
    "collapsed": true
   },
   "outputs": [],
   "source": [
    "model.save('data/churn_model_rocket_2.mdl')"
   ]
  }
 ],
 "metadata": {
  "anaconda-cloud": {},
  "kernelspec": {
   "display_name": "Python [gl-env]",
   "language": "python",
   "name": "Python [gl-env]"
  },
  "language_info": {
   "codemirror_mode": {
    "name": "ipython",
    "version": 2
   },
   "file_extension": ".py",
   "mimetype": "text/x-python",
   "name": "python",
   "nbconvert_exporter": "python",
   "pygments_lexer": "ipython2",
   "version": "2.7.12"
  }
 },
 "nbformat": 4,
 "nbformat_minor": 0
}
