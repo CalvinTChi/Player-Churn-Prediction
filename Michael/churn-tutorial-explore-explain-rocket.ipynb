{
 "cells": [
  {
   "cell_type": "markdown",
   "metadata": {},
   "source": [
    "# Exploring & Explaining churn prediction models\n",
    "\n",
    "Churn prediction is the task of identifying users that are likely to stop using a service, product or website. In this tutorial, you will learn how to:\n",
    "\n",
    "#### Explore & Evaluate predictions made by the model\n",
    "* Explore predictions made by this model to gain confidence in the model.\n",
    "* Understanding why the model made the predictions that it did make.\n",
    "* Make a churn report by segmenting users based on the their reasons for churn.\n",
    "* Evaluate the model and compare it with a baseline model.\n"
   ]
  },
  {
   "cell_type": "markdown",
   "metadata": {},
   "source": [
    "### Let's get started!"
   ]
  },
  {
   "cell_type": "code",
   "execution_count": 1,
   "metadata": {
    "collapsed": false
   },
   "outputs": [
    {
     "name": "stderr",
     "output_type": "stream",
     "text": [
      "A newer version of GraphLab Create (v2.1) is available! Your current version is v2.0.1.\n",
      "You can use pip to upgrade the graphlab-create package. For more information see https://turi.com/products/create/upgrade.\n"
     ]
    }
   ],
   "source": [
    "import graphlab as gl\n",
    "import datetime\n",
    "gl.canvas.set_target('ipynb') # make sure plots appear inline"
   ]
  },
  {
   "cell_type": "markdown",
   "metadata": {
    "collapsed": true
   },
   "source": [
    "###  Load previously saved data\n",
    "\n",
    "In the previous notebooks, we had saved the data & models in a binary format. Let us try and load them back."
   ]
  },
  {
   "cell_type": "code",
   "execution_count": 2,
   "metadata": {
    "collapsed": false
   },
   "outputs": [
    {
     "name": "stdout",
     "output_type": "stream",
     "text": [
      "This trial license of GraphLab Create is assigned to zaret@rocketgames.com and will expire on August 20, 2016. Please contact trial@turi.com for licensing options or to request a free non-commercial license for academic use.\n"
     ]
    },
    {
     "name": "stderr",
     "output_type": "stream",
     "text": [
      "[INFO] graphlab.cython.cy_server: GraphLab Create v2.0.1 started. Logging: /tmp/graphlab_server_1469228786.log\n"
     ]
    }
   ],
   "source": [
    "interactions_ts = gl.TimeSeries(\"data/user_activity_data_rocket_2.ts/\")\n",
    "users = gl.SFrame(\"data/users_rocket_2.sf/\")\n",
    "model = gl.load_model(\"data/churn_model_rocket_2.mdl\")"
   ]
  },
  {
   "cell_type": "code",
   "execution_count": 3,
   "metadata": {
    "collapsed": true
   },
   "outputs": [],
   "source": [
    "(train, valid) = gl.churn_predictor.random_split(interactions_ts, user_id = 'user_id', fraction = 0.9, seed = 12)"
   ]
  },
  {
   "cell_type": "code",
   "execution_count": 4,
   "metadata": {
    "collapsed": true
   },
   "outputs": [],
   "source": [
    "churn_period_apr =  datetime.datetime(year = 2016, month = 4, day = 1)"
   ]
  },
  {
   "cell_type": "markdown",
   "metadata": {
    "collapsed": true
   },
   "source": [
    "## Interactive view to explore the model"
   ]
  },
  {
   "cell_type": "code",
   "execution_count": 5,
   "metadata": {
    "collapsed": false
   },
   "outputs": [
    {
     "name": "stdout",
     "output_type": "stream",
     "text": [
      "PROGRESS: Making a churn forecast for the time window:\n",
      "PROGRESS: --------------------------------------------------\n",
      "PROGRESS:  Start : 2016-04-01 00:00:00\n",
      "PROGRESS:  End   : 2016-04-08 00:00:00\n",
      "PROGRESS: --------------------------------------------------\n",
      "PROGRESS: Grouping dataset by user.\n",
      "PROGRESS: Resampling grouped observation_data by time-period 1 day, 0:00:00.\n"
     ]
    },
    {
     "data": {
      "text/html": [
       "<pre>next_event_time is a categorical variable with too many different values (204030) and will be ignored.</pre>"
      ],
      "text/plain": [
       "next_event_time is a categorical variable with too many different values (204030) and will be ignored."
      ]
     },
     "metadata": {},
     "output_type": "display_data"
    },
    {
     "data": {
      "text/html": [
       "<pre>previous_event_time is a categorical variable with too many different values (198209) and will be ignored.</pre>"
      ],
      "text/plain": [
       "previous_event_time is a categorical variable with too many different values (198209) and will be ignored."
      ]
     },
     "metadata": {},
     "output_type": "display_data"
    },
    {
     "data": {
      "text/html": [
       "<pre>last_event_time is a categorical variable with too many different values (15490) and will be ignored.</pre>"
      ],
      "text/plain": [
       "last_event_time is a categorical variable with too many different values (15490) and will be ignored."
      ]
     },
     "metadata": {},
     "output_type": "display_data"
    },
    {
     "data": {
      "text/html": [
       "<pre>first_event_time is a categorical variable with too many different values (15497) and will be ignored.</pre>"
      ],
      "text/plain": [
       "first_event_time is a categorical variable with too many different values (15497) and will be ignored."
      ]
     },
     "metadata": {},
     "output_type": "display_data"
    },
    {
     "name": "stdout",
     "output_type": "stream",
     "text": [
      "PROGRESS: Generating features for boundary 2016-04-01 00:00:00.\n",
      "PROGRESS: Joining user_data with aggregated features.\n",
      "PROGRESS: Not enough data to make predictions for 4506 user(s). \n",
      "PROGRESS: Making a churn forecast for the time window:\n",
      "PROGRESS: --------------------------------------------------\n",
      "PROGRESS:  Start : 2016-04-01 00:00:00\n",
      "PROGRESS:  End   : 2016-04-08 00:00:00\n",
      "PROGRESS: --------------------------------------------------\n",
      "PROGRESS: Grouping dataset by user.\n",
      "PROGRESS: Resampling grouped observation_data by time-period 1 day, 0:00:00.\n"
     ]
    },
    {
     "data": {
      "text/html": [
       "<pre>next_event_time is a categorical variable with too many different values (204030) and will be ignored.</pre>"
      ],
      "text/plain": [
       "next_event_time is a categorical variable with too many different values (204030) and will be ignored."
      ]
     },
     "metadata": {},
     "output_type": "display_data"
    },
    {
     "data": {
      "text/html": [
       "<pre>previous_event_time is a categorical variable with too many different values (198209) and will be ignored.</pre>"
      ],
      "text/plain": [
       "previous_event_time is a categorical variable with too many different values (198209) and will be ignored."
      ]
     },
     "metadata": {},
     "output_type": "display_data"
    },
    {
     "data": {
      "text/html": [
       "<pre>last_event_time is a categorical variable with too many different values (15490) and will be ignored.</pre>"
      ],
      "text/plain": [
       "last_event_time is a categorical variable with too many different values (15490) and will be ignored."
      ]
     },
     "metadata": {},
     "output_type": "display_data"
    },
    {
     "data": {
      "text/html": [
       "<pre>first_event_time is a categorical variable with too many different values (15497) and will be ignored.</pre>"
      ],
      "text/plain": [
       "first_event_time is a categorical variable with too many different values (15497) and will be ignored."
      ]
     },
     "metadata": {},
     "output_type": "display_data"
    },
    {
     "name": "stdout",
     "output_type": "stream",
     "text": [
      "PROGRESS: Generating features for boundary 2016-04-01 00:00:00.\n",
      "PROGRESS: Joining user_data with aggregated features.\n",
      "PROGRESS: Not enough data to make predictions for 517 user(s). \n",
      "PROGRESS: Making a churn forecast for the time window:\n",
      "PROGRESS: --------------------------------------------------\n",
      "PROGRESS:  Start : 2016-04-01 00:00:00\n",
      "PROGRESS:  End   : 2016-04-08 00:00:00\n",
      "PROGRESS: --------------------------------------------------\n",
      "PROGRESS: Grouping dataset by user.\n",
      "PROGRESS: Resampling grouped observation_data by time-period 1 day, 0:00:00.\n"
     ]
    },
    {
     "data": {
      "text/html": [
       "<pre>next_event_time is a categorical variable with too many different values (204030) and will be ignored.</pre>"
      ],
      "text/plain": [
       "next_event_time is a categorical variable with too many different values (204030) and will be ignored."
      ]
     },
     "metadata": {},
     "output_type": "display_data"
    },
    {
     "data": {
      "text/html": [
       "<pre>previous_event_time is a categorical variable with too many different values (198209) and will be ignored.</pre>"
      ],
      "text/plain": [
       "previous_event_time is a categorical variable with too many different values (198209) and will be ignored."
      ]
     },
     "metadata": {},
     "output_type": "display_data"
    },
    {
     "data": {
      "text/html": [
       "<pre>last_event_time is a categorical variable with too many different values (15490) and will be ignored.</pre>"
      ],
      "text/plain": [
       "last_event_time is a categorical variable with too many different values (15490) and will be ignored."
      ]
     },
     "metadata": {},
     "output_type": "display_data"
    },
    {
     "data": {
      "text/html": [
       "<pre>first_event_time is a categorical variable with too many different values (15497) and will be ignored.</pre>"
      ],
      "text/plain": [
       "first_event_time is a categorical variable with too many different values (15497) and will be ignored."
      ]
     },
     "metadata": {},
     "output_type": "display_data"
    },
    {
     "name": "stdout",
     "output_type": "stream",
     "text": [
      "PROGRESS: Generating features for boundary 2016-04-01 00:00:00.\n",
      "PROGRESS: Joining user_data with aggregated features.\n",
      "PROGRESS: Not enough data to make predictions for 517 user(s). \n"
     ]
    }
   ],
   "source": [
    "v = model.views.overview(train, churn_period_apr, valid, user_data=users)\n",
    "v.show()"
   ]
  },
  {
   "cell_type": "markdown",
   "metadata": {},
   "source": [
    "### What are the key features that impact churn?"
   ]
  },
  {
   "cell_type": "code",
   "execution_count": 7,
   "metadata": {
    "collapsed": false
   },
   "outputs": [],
   "source": [
    "importance = model.get_feature_importance()"
   ]
  },
  {
   "cell_type": "code",
   "execution_count": 8,
   "metadata": {
    "collapsed": false
   },
   "outputs": [
    {
     "name": "stdout",
     "output_type": "stream",
     "text": [
      "What are the top 5 factors that impact predictions?\n",
      "----------------------------------------------------\n",
      "1. Days since most recent event\n",
      "2. Sum of \"rank_desc\" is  each day in the last 90 days\n",
      "3. Index 'California in feature 'region'\n",
      "4. Sum of \"rank_desc\" is  each day in the last 60 days\n",
      "5. Sum of \"rank_desc\" in the last 14 days\n"
     ]
    }
   ],
   "source": [
    "print \"What are the top 5 factors that impact predictions?\"\n",
    "print \"----------------------------------------------------\"\n",
    "print '\\n'.join([\"%s. %s\" % (i+1, x) for i,x in enumerate(importance['description'][0:5])])"
   ]
  },
  {
   "cell_type": "markdown",
   "metadata": {},
   "source": [
    "### Segmenting groups of users with similar churn explanations"
   ]
  },
  {
   "cell_type": "code",
   "execution_count": 11,
   "metadata": {
    "collapsed": false
   },
   "outputs": [
    {
     "name": "stdout",
     "output_type": "stream",
     "text": [
      "PROGRESS: Making a churn forecast for the time window:\n",
      "PROGRESS: --------------------------------------------------\n",
      "PROGRESS:  Start : 2016-04-01 00:00:00\n",
      "PROGRESS:  End   : 2016-04-08 00:00:00\n",
      "PROGRESS: --------------------------------------------------\n",
      "PROGRESS: Grouping dataset by user.\n",
      "PROGRESS: Resampling grouped observation_data by time-period 1 day, 0:00:00.\n"
     ]
    },
    {
     "data": {
      "text/html": [
       "<pre>next_event_time is a categorical variable with too many different values (204030) and will be ignored.</pre>"
      ],
      "text/plain": [
       "next_event_time is a categorical variable with too many different values (204030) and will be ignored."
      ]
     },
     "metadata": {},
     "output_type": "display_data"
    },
    {
     "data": {
      "text/html": [
       "<pre>previous_event_time is a categorical variable with too many different values (198209) and will be ignored.</pre>"
      ],
      "text/plain": [
       "previous_event_time is a categorical variable with too many different values (198209) and will be ignored."
      ]
     },
     "metadata": {},
     "output_type": "display_data"
    },
    {
     "data": {
      "text/html": [
       "<pre>last_event_time is a categorical variable with too many different values (15490) and will be ignored.</pre>"
      ],
      "text/plain": [
       "last_event_time is a categorical variable with too many different values (15490) and will be ignored."
      ]
     },
     "metadata": {},
     "output_type": "display_data"
    },
    {
     "data": {
      "text/html": [
       "<pre>first_event_time is a categorical variable with too many different values (15497) and will be ignored.</pre>"
      ],
      "text/plain": [
       "first_event_time is a categorical variable with too many different values (15497) and will be ignored."
      ]
     },
     "metadata": {},
     "output_type": "display_data"
    },
    {
     "name": "stdout",
     "output_type": "stream",
     "text": [
      "PROGRESS: Generating features for boundary 2016-04-01 00:00:00.\n",
      "PROGRESS: Joining user_data with aggregated features.\n",
      "PROGRESS: Not enough data to make predictions for 5023 user(s). \n"
     ]
    },
    {
     "data": {
      "text/html": [
       "<div style=\"max-height:1000px;max-width:1500px;overflow:auto;\"><table frame=\"box\" rules=\"cols\">\n",
       "    <tr>\n",
       "        <th style=\"padding-left: 1em; padding-right: 1em; text-align: center\">segment_id</th>\n",
       "        <th style=\"padding-left: 1em; padding-right: 1em; text-align: center\">num_users</th>\n",
       "        <th style=\"padding-left: 1em; padding-right: 1em; text-align: center\">num_users_percentage</th>\n",
       "        <th style=\"padding-left: 1em; padding-right: 1em; text-align: center\">explanation</th>\n",
       "        <th style=\"padding-left: 1em; padding-right: 1em; text-align: center\">avg_probability</th>\n",
       "        <th style=\"padding-left: 1em; padding-right: 1em; text-align: center\">stdv_probability</th>\n",
       "    </tr>\n",
       "    <tr>\n",
       "        <td style=\"padding-left: 1em; padding-right: 1em; text-align: center; vertical-align: top\">0</td>\n",
       "        <td style=\"padding-left: 1em; padding-right: 1em; text-align: center; vertical-align: top\">2328</td>\n",
       "        <td style=\"padding-left: 1em; padding-right: 1em; text-align: center; vertical-align: top\">19.0647776595</td>\n",
       "        <td style=\"padding-left: 1em; padding-right: 1em; text-align: center; vertical-align: top\">[Sum of \"rank_desc\" is<br>less than 1.50 each day ...</td>\n",
       "        <td style=\"padding-left: 1em; padding-right: 1em; text-align: center; vertical-align: top\">0.977488160133</td>\n",
       "        <td style=\"padding-left: 1em; padding-right: 1em; text-align: center; vertical-align: top\">0.0</td>\n",
       "    </tr>\n",
       "    <tr>\n",
       "        <td style=\"padding-left: 1em; padding-right: 1em; text-align: center; vertical-align: top\">1</td>\n",
       "        <td style=\"padding-left: 1em; padding-right: 1em; text-align: center; vertical-align: top\">1824</td>\n",
       "        <td style=\"padding-left: 1em; padding-right: 1em; text-align: center; vertical-align: top\">14.9373515683</td>\n",
       "        <td style=\"padding-left: 1em; padding-right: 1em; text-align: center; vertical-align: top\">[Sum of \"rank_desc\" is<br>less than 1.50 each day ...</td>\n",
       "        <td style=\"padding-left: 1em; padding-right: 1em; text-align: center; vertical-align: top\">0.977488160133</td>\n",
       "        <td style=\"padding-left: 1em; padding-right: 1em; text-align: center; vertical-align: top\">0.0</td>\n",
       "    </tr>\n",
       "    <tr>\n",
       "        <td style=\"padding-left: 1em; padding-right: 1em; text-align: center; vertical-align: top\">2</td>\n",
       "        <td style=\"padding-left: 1em; padding-right: 1em; text-align: center; vertical-align: top\">1662</td>\n",
       "        <td style=\"padding-left: 1em; padding-right: 1em; text-align: center; vertical-align: top\">13.6106788961</td>\n",
       "        <td style=\"padding-left: 1em; padding-right: 1em; text-align: center; vertical-align: top\">[Sum of \"rank_desc\" is<br>between 1.50 and 6.50 ...</td>\n",
       "        <td style=\"padding-left: 1em; padding-right: 1em; text-align: center; vertical-align: top\">0.836229081547</td>\n",
       "        <td style=\"padding-left: 1em; padding-right: 1em; text-align: center; vertical-align: top\">0.082644345636</td>\n",
       "    </tr>\n",
       "    <tr>\n",
       "        <td style=\"padding-left: 1em; padding-right: 1em; text-align: center; vertical-align: top\">3</td>\n",
       "        <td style=\"padding-left: 1em; padding-right: 1em; text-align: center; vertical-align: top\">427</td>\n",
       "        <td style=\"padding-left: 1em; padding-right: 1em; text-align: center; vertical-align: top\">3.49684710507</td>\n",
       "        <td style=\"padding-left: 1em; padding-right: 1em; text-align: center; vertical-align: top\">[No events in feature<br>\"credits\" in the last 14 ...</td>\n",
       "        <td style=\"padding-left: 1em; padding-right: 1em; text-align: center; vertical-align: top\">0.81698551952</td>\n",
       "        <td style=\"padding-left: 1em; padding-right: 1em; text-align: center; vertical-align: top\">0.0854538316213</td>\n",
       "    </tr>\n",
       "    <tr>\n",
       "        <td style=\"padding-left: 1em; padding-right: 1em; text-align: center; vertical-align: top\">4</td>\n",
       "        <td style=\"padding-left: 1em; padding-right: 1em; text-align: center; vertical-align: top\">423</td>\n",
       "        <td style=\"padding-left: 1em; padding-right: 1em; text-align: center; vertical-align: top\">3.46408975514</td>\n",
       "        <td style=\"padding-left: 1em; padding-right: 1em; text-align: center; vertical-align: top\">[Sum of \"rank_desc\" in<br>the last 21 days greater ...</td>\n",
       "        <td style=\"padding-left: 1em; padding-right: 1em; text-align: center; vertical-align: top\">0.0532949917441</td>\n",
       "        <td style=\"padding-left: 1em; padding-right: 1em; text-align: center; vertical-align: top\">0.036658112064</td>\n",
       "    </tr>\n",
       "    <tr>\n",
       "        <td style=\"padding-left: 1em; padding-right: 1em; text-align: center; vertical-align: top\">5</td>\n",
       "        <td style=\"padding-left: 1em; padding-right: 1em; text-align: center; vertical-align: top\">407</td>\n",
       "        <td style=\"padding-left: 1em; padding-right: 1em; text-align: center; vertical-align: top\">3.33306035542</td>\n",
       "        <td style=\"padding-left: 1em; padding-right: 1em; text-align: center; vertical-align: top\">[Sum of \"rank_desc\" is<br>between 1.50 and 6.50 ...</td>\n",
       "        <td style=\"padding-left: 1em; padding-right: 1em; text-align: center; vertical-align: top\">0.716619795458</td>\n",
       "        <td style=\"padding-left: 1em; padding-right: 1em; text-align: center; vertical-align: top\">0.106947842739</td>\n",
       "    </tr>\n",
       "    <tr>\n",
       "        <td style=\"padding-left: 1em; padding-right: 1em; text-align: center; vertical-align: top\">6</td>\n",
       "        <td style=\"padding-left: 1em; padding-right: 1em; text-align: center; vertical-align: top\">327</td>\n",
       "        <td style=\"padding-left: 1em; padding-right: 1em; text-align: center; vertical-align: top\">2.67791335681</td>\n",
       "        <td style=\"padding-left: 1em; padding-right: 1em; text-align: center; vertical-align: top\">[Less than 2.50 days<br>since most recent event, ...</td>\n",
       "        <td style=\"padding-left: 1em; padding-right: 1em; text-align: center; vertical-align: top\">0.14758957853</td>\n",
       "        <td style=\"padding-left: 1em; padding-right: 1em; text-align: center; vertical-align: top\">0.0815823337296</td>\n",
       "    </tr>\n",
       "    <tr>\n",
       "        <td style=\"padding-left: 1em; padding-right: 1em; text-align: center; vertical-align: top\">7</td>\n",
       "        <td style=\"padding-left: 1em; padding-right: 1em; text-align: center; vertical-align: top\">267</td>\n",
       "        <td style=\"padding-left: 1em; padding-right: 1em; text-align: center; vertical-align: top\">2.18655310785</td>\n",
       "        <td style=\"padding-left: 1em; padding-right: 1em; text-align: center; vertical-align: top\">[Average of \"txns_on_day\"<br>in the last 14 days less ...</td>\n",
       "        <td style=\"padding-left: 1em; padding-right: 1em; text-align: center; vertical-align: top\">0.276421949212</td>\n",
       "        <td style=\"padding-left: 1em; padding-right: 1em; text-align: center; vertical-align: top\">0.100203748211</td>\n",
       "    </tr>\n",
       "    <tr>\n",
       "        <td style=\"padding-left: 1em; padding-right: 1em; text-align: center; vertical-align: top\">8</td>\n",
       "        <td style=\"padding-left: 1em; padding-right: 1em; text-align: center; vertical-align: top\">265</td>\n",
       "        <td style=\"padding-left: 1em; padding-right: 1em; text-align: center; vertical-align: top\">2.17017443289</td>\n",
       "        <td style=\"padding-left: 1em; padding-right: 1em; text-align: center; vertical-align: top\">[Sum of \"rank_desc\" is<br>greater than (or equal ...</td>\n",
       "        <td style=\"padding-left: 1em; padding-right: 1em; text-align: center; vertical-align: top\">0.954297520754</td>\n",
       "        <td style=\"padding-left: 1em; padding-right: 1em; text-align: center; vertical-align: top\">0.0195304310583</td>\n",
       "    </tr>\n",
       "    <tr>\n",
       "        <td style=\"padding-left: 1em; padding-right: 1em; text-align: center; vertical-align: top\">9</td>\n",
       "        <td style=\"padding-left: 1em; padding-right: 1em; text-align: center; vertical-align: top\">241</td>\n",
       "        <td style=\"padding-left: 1em; padding-right: 1em; text-align: center; vertical-align: top\">1.97363033331</td>\n",
       "        <td style=\"padding-left: 1em; padding-right: 1em; text-align: center; vertical-align: top\">[Sum of \"rank_desc\" is<br>greater than (or equal ...</td>\n",
       "        <td style=\"padding-left: 1em; padding-right: 1em; text-align: center; vertical-align: top\">0.683529925297</td>\n",
       "        <td style=\"padding-left: 1em; padding-right: 1em; text-align: center; vertical-align: top\">0.107788700639</td>\n",
       "    </tr>\n",
       "</table>\n",
       "<table frame=\"box\" rules=\"cols\">\n",
       "    <tr>\n",
       "        <th style=\"padding-left: 1em; padding-right: 1em; text-align: center\">users</th>\n",
       "    </tr>\n",
       "    <tr>\n",
       "        <td style=\"padding-left: 1em; padding-right: 1em; text-align: center; vertical-align: top\">[0018750b-9aff-<br>3e46-8169-0a49cae70d6d, ...</td>\n",
       "    </tr>\n",
       "    <tr>\n",
       "        <td style=\"padding-left: 1em; padding-right: 1em; text-align: center; vertical-align: top\">[0009af2b-28ec-<br>39a8-ae38-4b77a92f959 ...</td>\n",
       "    </tr>\n",
       "    <tr>\n",
       "        <td style=\"padding-left: 1em; padding-right: 1em; text-align: center; vertical-align: top\">[00020bdc-2d35-371b-9212-<br>9f348bfeae41, 00341848 ...</td>\n",
       "    </tr>\n",
       "    <tr>\n",
       "        <td style=\"padding-left: 1em; padding-right: 1em; text-align: center; vertical-align: top\">[00827b92-efe9-3fcd-b481-<br>1212f3ee40fa, 021fd50e- ...</td>\n",
       "    </tr>\n",
       "    <tr>\n",
       "        <td style=\"padding-left: 1em; padding-right: 1em; text-align: center; vertical-align: top\">[001b4e2c-24a6-3c6c-<br>9ec8-c1c03946a8f6, ...</td>\n",
       "    </tr>\n",
       "    <tr>\n",
       "        <td style=\"padding-left: 1em; padding-right: 1em; text-align: center; vertical-align: top\">[001e0998-77d7-4db1-9cce-<br>7927ffa09056, ...</td>\n",
       "    </tr>\n",
       "    <tr>\n",
       "        <td style=\"padding-left: 1em; padding-right: 1em; text-align: center; vertical-align: top\">[01406fb3-5d9a-<br>4e91-9459-89ee820762de, ...</td>\n",
       "    </tr>\n",
       "    <tr>\n",
       "        <td style=\"padding-left: 1em; padding-right: 1em; text-align: center; vertical-align: top\">[020c2147-08d2-3f7b-809f-<br>40e7546d561c, 03480d2a- ...</td>\n",
       "    </tr>\n",
       "    <tr>\n",
       "        <td style=\"padding-left: 1em; padding-right: 1em; text-align: center; vertical-align: top\">[00adfd77-cd80-3e65-a30c-<br>0fde245b461e, 00bed819 ...</td>\n",
       "    </tr>\n",
       "    <tr>\n",
       "        <td style=\"padding-left: 1em; padding-right: 1em; text-align: center; vertical-align: top\">[001ef55f-b67a-<br>3ebb-b737-3906e87ab82e, ...</td>\n",
       "    </tr>\n",
       "</table>\n",
       "[82 rows x 7 columns]<br/>Note: Only the head of the SFrame is printed.<br/>You can use print_rows(num_rows=m, num_columns=n) to print more rows and columns.\n",
       "</div>"
      ],
      "text/plain": [
       "Columns:\n",
       "\tsegment_id\tstr\n",
       "\tnum_users\tint\n",
       "\tnum_users_percentage\tfloat\n",
       "\texplanation\tlist\n",
       "\tavg_probability\tfloat\n",
       "\tstdv_probability\tfloat\n",
       "\tusers\tlist\n",
       "\n",
       "Rows: 82\n",
       "\n",
       "Data:\n",
       "+------------+-----------+----------------------+-------------------------------+\n",
       "| segment_id | num_users | num_users_percentage |          explanation          |\n",
       "+------------+-----------+----------------------+-------------------------------+\n",
       "|     0      |    2328   |    19.0647776595     | [Sum of \"rank_desc\" is les... |\n",
       "|     1      |    1824   |    14.9373515683     | [Sum of \"rank_desc\" is les... |\n",
       "|     2      |    1662   |    13.6106788961     | [Sum of \"rank_desc\" is bet... |\n",
       "|     3      |    427    |    3.49684710507     | [No events in feature \"cre... |\n",
       "|     4      |    423    |    3.46408975514     | [Sum of \"rank_desc\" in the... |\n",
       "|     5      |    407    |    3.33306035542     | [Sum of \"rank_desc\" is bet... |\n",
       "|     6      |    327    |    2.67791335681     | [Less than 2.50 days since... |\n",
       "|     7      |    267    |    2.18655310785     | [Average of \"txns_on_day\" ... |\n",
       "|     8      |    265    |    2.17017443289     | [Sum of \"rank_desc\" is gre... |\n",
       "|     9      |    241    |    1.97363033331     | [Sum of \"rank_desc\" is gre... |\n",
       "+------------+-----------+----------------------+-------------------------------+\n",
       "+-----------------+------------------+-------------------------------+\n",
       "| avg_probability | stdv_probability |             users             |\n",
       "+-----------------+------------------+-------------------------------+\n",
       "|  0.977488160133 |       0.0        | [0018750b-9aff-3e46-8169-0... |\n",
       "|  0.977488160133 |       0.0        | [0009af2b-28ec-39a8-ae38-4... |\n",
       "|  0.836229081547 |  0.082644345636  | [00020bdc-2d35-371b-9212-9... |\n",
       "|  0.81698551952  | 0.0854538316213  | [00827b92-efe9-3fcd-b481-1... |\n",
       "| 0.0532949917441 |  0.036658112064  | [001b4e2c-24a6-3c6c-9ec8-c... |\n",
       "|  0.716619795458 |  0.106947842739  | [001e0998-77d7-4db1-9cce-7... |\n",
       "|  0.14758957853  | 0.0815823337296  | [01406fb3-5d9a-4e91-9459-8... |\n",
       "|  0.276421949212 |  0.100203748211  | [020c2147-08d2-3f7b-809f-4... |\n",
       "|  0.954297520754 | 0.0195304310583  | [00adfd77-cd80-3e65-a30c-0... |\n",
       "|  0.683529925297 |  0.107788700639  | [001ef55f-b67a-3ebb-b737-3... |\n",
       "+-----------------+------------------+-------------------------------+\n",
       "[82 rows x 7 columns]\n",
       "Note: Only the head of the SFrame is printed.\n",
       "You can use print_rows(num_rows=m, num_columns=n) to print more rows and columns."
      ]
     },
     "execution_count": 11,
     "metadata": {},
     "output_type": "execute_result"
    }
   ],
   "source": [
    "report = model.get_churn_report(interactions_ts, user_data=users, time_boundary=churn_period_apr)\n",
    "report"
   ]
  },
  {
   "cell_type": "code",
   "execution_count": 12,
   "metadata": {
    "collapsed": false
   },
   "outputs": [
    {
     "data": {
      "application/javascript": [
       "$(\"head\").append($(\"<link/>\").attr({\n",
       "  rel:  \"stylesheet\",\n",
       "  type: \"text/css\",\n",
       "  href: \"//cdnjs.cloudflare.com/ajax/libs/font-awesome/4.1.0/css/font-awesome.min.css\"\n",
       "}));\n",
       "$(\"head\").append($(\"<link/>\").attr({\n",
       "  rel:  \"stylesheet\",\n",
       "  type: \"text/css\",\n",
       "  href: \"https://static.turi.com/products/graphlab-create/2.0.1/canvas/css/canvas.css\"\n",
       "}));\n",
       "\n",
       "            (function(){\n",
       "\n",
       "                var e = null;\n",
       "                if (typeof element == 'undefined') {\n",
       "                    var scripts = document.getElementsByTagName('script');\n",
       "                    var thisScriptTag = scripts[scripts.length-1];\n",
       "                    var parentDiv = thisScriptTag.parentNode;\n",
       "                    e = document.createElement('div');\n",
       "                    parentDiv.appendChild(e);\n",
       "                } else {\n",
       "                    e = element[0];\n",
       "                }\n",
       "\n",
       "                if (typeof requirejs !== 'undefined') {\n",
       "                    // disable load timeout; ipython_app.js is large and can take a while to load.\n",
       "                    requirejs.config({waitSeconds: 0});\n",
       "                }\n",
       "\n",
       "                require(['https://static.turi.com/products/graphlab-create/2.0.1/canvas/js/ipython_app.js'], function(IPythonApp){\n",
       "                    var app = new IPythonApp();\n",
       "                    app.attachView('sarray','Numeric', {\"ipython\": true, \"sketch\": {\"std\": 367.98327113419475, \"complete\": true, \"min\": 1.0, \"max\": 2328.0, \"quantile\": [1.0, 1.0, 1.0, 1.0, 1.0, 1.0, 1.0, 1.0, 2.0, 2.0, 2.0, 2.0, 2.0, 2.0, 2.0, 2.0, 2.0, 2.0, 2.0, 2.0, 2.0, 2.0, 3.0, 3.0, 3.0, 4.0, 4.0, 5.0, 5.0, 5.0, 5.0, 6.0, 7.0, 7.0, 7.0, 8.0, 9.0, 11.0, 12.0, 12.0, 14.0, 14.0, 14.0, 15.0, 16.0, 16.0, 24.0, 27.0, 29.0, 41.0, 47.0, 47.0, 50.0, 52.0, 57.0, 58.0, 58.0, 60.0, 60.0, 61.0, 67.0, 70.0, 70.0, 71.0, 77.0, 80.0, 83.0, 83.0, 88.0, 93.0, 113.0, 114.0, 120.0, 120.0, 121.0, 146.0, 153.0, 168.0, 168.0, 191.0, 198.0, 201.0, 202.0, 218.0, 218.0, 230.0, 238.0, 240.0, 241.0, 241.0, 265.0, 267.0, 327.0, 407.0, 423.0, 423.0, 427.0, 1662.0, 1824.0, 2328.0, 2328.0], \"median\": 47.0, \"numeric\": true, \"num_unique\": 58, \"num_undefined\": 0, \"var\": 135411.68783462228, \"progress\": 1.0, \"size\": 82, \"frequent_items\": {\"1\": {\"frequency\": 6, \"value\": 1}, \"2\": {\"frequency\": 12, \"value\": 2}, \"3\": {\"frequency\": 2, \"value\": 3}, \"4\": {\"frequency\": 2, \"value\": 4}, \"5\": {\"frequency\": 3, \"value\": 5}, \"6\": {\"frequency\": 1, \"value\": 6}, \"7\": {\"frequency\": 2, \"value\": 7}, \"8\": {\"frequency\": 1, \"value\": 8}, \"265\": {\"frequency\": 1, \"value\": 265}, \"267\": {\"frequency\": 1, \"value\": 267}, \"12\": {\"frequency\": 1, \"value\": 12}, \"14\": {\"frequency\": 3, \"value\": 14}, \"15\": {\"frequency\": 1, \"value\": 15}, \"16\": {\"frequency\": 1, \"value\": 16}, \"24\": {\"frequency\": 1, \"value\": 24}, \"146\": {\"frequency\": 1, \"value\": 146}, \"407\": {\"frequency\": 1, \"value\": 407}, \"2328\": {\"frequency\": 1, \"value\": 2328}, \"153\": {\"frequency\": 1, \"value\": 153}, \"27\": {\"frequency\": 1, \"value\": 27}, \"29\": {\"frequency\": 1, \"value\": 29}, \"1824\": {\"frequency\": 1, \"value\": 1824}, \"70\": {\"frequency\": 1, \"value\": 70}, \"423\": {\"frequency\": 1, \"value\": 423}, \"168\": {\"frequency\": 1, \"value\": 168}, \"41\": {\"frequency\": 1, \"value\": 41}, \"427\": {\"frequency\": 1, \"value\": 427}, \"47\": {\"frequency\": 1, \"value\": 47}, \"50\": {\"frequency\": 1, \"value\": 50}, \"52\": {\"frequency\": 1, \"value\": 52}, \"9\": {\"frequency\": 1, \"value\": 9}, \"57\": {\"frequency\": 1, \"value\": 57}, \"58\": {\"frequency\": 1, \"value\": 58}, \"60\": {\"frequency\": 2, \"value\": 60}, \"61\": {\"frequency\": 1, \"value\": 61}, \"191\": {\"frequency\": 1, \"value\": 191}, \"67\": {\"frequency\": 1, \"value\": 67}, \"198\": {\"frequency\": 1, \"value\": 198}, \"71\": {\"frequency\": 1, \"value\": 71}, \"201\": {\"frequency\": 1, \"value\": 201}, \"202\": {\"frequency\": 1, \"value\": 202}, \"77\": {\"frequency\": 1, \"value\": 77}, \"80\": {\"frequency\": 1, \"value\": 80}, \"83\": {\"frequency\": 1, \"value\": 83}, \"11\": {\"frequency\": 1, \"value\": 11}, \"88\": {\"frequency\": 1, \"value\": 88}, \"218\": {\"frequency\": 1, \"value\": 218}, \"93\": {\"frequency\": 1, \"value\": 93}, \"327\": {\"frequency\": 1, \"value\": 327}, \"113\": {\"frequency\": 1, \"value\": 113}, \"230\": {\"frequency\": 1, \"value\": 230}, \"238\": {\"frequency\": 1, \"value\": 238}, \"240\": {\"frequency\": 1, \"value\": 240}, \"241\": {\"frequency\": 1, \"value\": 241}, \"114\": {\"frequency\": 1, \"value\": 114}, \"120\": {\"frequency\": 1, \"value\": 120}, \"121\": {\"frequency\": 1, \"value\": 121}, \"1662\": {\"frequency\": 1, \"value\": 1662}}, \"mean\": 148.91463414634148}, \"selected_variable\": {\"name\": [\"<SArray>\"], \"dtype\": \"int\", \"view_component\": \"Numeric\", \"view_file\": \"sarray\", \"descriptives\": {\"rows\": 82}, \"type\": \"SArray\", \"view_components\": [\"Numeric\", \"Categorical\"]}, \"histogram\": {\"progress\": 1.0, \"histogram\": {\"max\": 2374.3680000000004, \"bins\": [63, 13, 3, 0, 0, 0, 0, 0, 1, 1, 0, 1], \"min\": -44.83200000000011}, \"min\": 1, \"complete\": 1, \"max\": 2328}}, e);\n",
       "                });\n",
       "            })();\n",
       "        "
      ]
     },
     "metadata": {},
     "output_type": "display_data"
    }
   ],
   "source": [
    "report['num_users'].show()"
   ]
  },
  {
   "cell_type": "markdown",
   "metadata": {},
   "source": [
    "### What does a segment look like?"
   ]
  },
  {
   "cell_type": "code",
   "execution_count": 13,
   "metadata": {
    "collapsed": false
   },
   "outputs": [],
   "source": [
    "segment = report[report['segment_id'] == '2'][0]"
   ]
  },
  {
   "cell_type": "code",
   "execution_count": 14,
   "metadata": {
    "collapsed": false
   },
   "outputs": [
    {
     "name": "stdout",
     "output_type": "stream",
     "text": [
      "\n",
      "Segment 2\n",
      "---------------------------------------\n",
      "Segment size      : 13.61 % of users\n",
      "Churn probability : 0.836229081547\n",
      "\n",
      "Characteristics of users in segment 2?\n",
      "-----------------------------------------------\n",
      "1. Sum of \"rank_desc\" is between 1.50 and 6.50 each day in the last 60 days\n",
      "2. No events in feature \"credits\" in the last 14 days\n",
      "3. No \"txns_on_day\" events in the last 21 days\n",
      "4. No events in feature \"rank_desc\" in the last 14 days\n",
      "5. No \"rank_desc\" events in the last 21 days\n"
     ]
    }
   ],
   "source": [
    "print \"\"\n",
    "print \"Segment 2\"\n",
    "print \"---------------------------------------\"\n",
    "print 'Segment size      : %.2f %% of users' % segment[\"num_users_percentage\"]\n",
    "print 'Churn probability : %s' % segment[\"avg_probability\"]\n",
    "print \"\"\n",
    "print \"Characteristics of users in segment 2?\"\n",
    "print \"-----------------------------------------------\"\n",
    "print \"\\n\".join(['%s. %s' % (i + 1, x) for i, x in enumerate(segment[\"explanation\"])])"
   ]
  },
  {
   "cell_type": "markdown",
   "metadata": {
    "collapsed": false
   },
   "source": [
    "### Understanding individual predictions: Why did the model make a prediction?"
   ]
  },
  {
   "cell_type": "code",
   "execution_count": 22,
   "metadata": {
    "collapsed": false
   },
   "outputs": [
    {
     "data": {
      "text/plain": [
       "dtype: str\n",
       "Rows: 10\n",
       "['c796f7b5-69e0-3fa2-b4b5-a68e0877c70d', 'bbb1b843-7485-3cfb-837d-24573410bf3c', 'bbb1b843-7485-3cfb-837d-24573410bf3c', 'f9d1ddbc-0c3c-38c2-bd37-2e4f77c4a1e8', 'a33283b5-1450-398c-b25f-ecf125921d17', 'f9d1ddbc-0c3c-38c2-bd37-2e4f77c4a1e8', 'bbb1b843-7485-3cfb-837d-24573410bf3c', 'bbb1b843-7485-3cfb-837d-24573410bf3c', '8214ccb7-2eb5-45ea-a178-19be0b145268', '6cc11000-0f51-321c-8ba9-c149e8a0f786']"
      ]
     },
     "execution_count": 22,
     "metadata": {},
     "output_type": "execute_result"
    }
   ],
   "source": [
    "valid['user_id'].head()"
   ]
  },
  {
   "cell_type": "code",
   "execution_count": 23,
   "metadata": {
    "collapsed": false
   },
   "outputs": [
    {
     "data": {
      "text/html": [
       "<div style=\"max-height:1000px;max-width:1500px;overflow:auto;\"><table frame=\"box\" rules=\"cols\">\n",
       "    <tr>\n",
       "        <th style=\"padding-left: 1em; padding-right: 1em; text-align: center\">event_time</th>\n",
       "        <th style=\"padding-left: 1em; padding-right: 1em; text-align: center\">user_id</th>\n",
       "        <th style=\"padding-left: 1em; padding-right: 1em; text-align: center\">date</th>\n",
       "        <th style=\"padding-left: 1em; padding-right: 1em; text-align: center\">rev</th>\n",
       "        <th style=\"padding-left: 1em; padding-right: 1em; text-align: center\">e_purchaseamount</th>\n",
       "        <th style=\"padding-left: 1em; padding-right: 1em; text-align: center\">e_purchaseprice</th>\n",
       "        <th style=\"padding-left: 1em; padding-right: 1em; text-align: center\">hasemail</th>\n",
       "    </tr>\n",
       "    <tr>\n",
       "        <td style=\"padding-left: 1em; padding-right: 1em; text-align: center; vertical-align: top\">2016-01-01 00:00:49</td>\n",
       "        <td style=\"padding-left: 1em; padding-right: 1em; text-align: center; vertical-align: top\">c796f7b5-69e0-3fa2-b4b5-a<br>68e0877c70d ...</td>\n",
       "        <td style=\"padding-left: 1em; padding-right: 1em; text-align: center; vertical-align: top\">2016-01-01</td>\n",
       "        <td style=\"padding-left: 1em; padding-right: 1em; text-align: center; vertical-align: top\">0.99</td>\n",
       "        <td style=\"padding-left: 1em; padding-right: 1em; text-align: center; vertical-align: top\">2500.0</td>\n",
       "        <td style=\"padding-left: 1em; padding-right: 1em; text-align: center; vertical-align: top\">99</td>\n",
       "        <td style=\"padding-left: 1em; padding-right: 1em; text-align: center; vertical-align: top\">true</td>\n",
       "    </tr>\n",
       "    <tr>\n",
       "        <td style=\"padding-left: 1em; padding-right: 1em; text-align: center; vertical-align: top\">2016-01-01 07:52:10</td>\n",
       "        <td style=\"padding-left: 1em; padding-right: 1em; text-align: center; vertical-align: top\">c796f7b5-69e0-3fa2-b4b5-a<br>68e0877c70d ...</td>\n",
       "        <td style=\"padding-left: 1em; padding-right: 1em; text-align: center; vertical-align: top\">2016-01-01</td>\n",
       "        <td style=\"padding-left: 1em; padding-right: 1em; text-align: center; vertical-align: top\">0.99</td>\n",
       "        <td style=\"padding-left: 1em; padding-right: 1em; text-align: center; vertical-align: top\">2500.0</td>\n",
       "        <td style=\"padding-left: 1em; padding-right: 1em; text-align: center; vertical-align: top\">99</td>\n",
       "        <td style=\"padding-left: 1em; padding-right: 1em; text-align: center; vertical-align: top\">true</td>\n",
       "    </tr>\n",
       "    <tr>\n",
       "        <td style=\"padding-left: 1em; padding-right: 1em; text-align: center; vertical-align: top\">2016-01-01 21:41:34</td>\n",
       "        <td style=\"padding-left: 1em; padding-right: 1em; text-align: center; vertical-align: top\">c796f7b5-69e0-3fa2-b4b5-a<br>68e0877c70d ...</td>\n",
       "        <td style=\"padding-left: 1em; padding-right: 1em; text-align: center; vertical-align: top\">2016-01-01</td>\n",
       "        <td style=\"padding-left: 1em; padding-right: 1em; text-align: center; vertical-align: top\">0.99</td>\n",
       "        <td style=\"padding-left: 1em; padding-right: 1em; text-align: center; vertical-align: top\">2500.0</td>\n",
       "        <td style=\"padding-left: 1em; padding-right: 1em; text-align: center; vertical-align: top\">99</td>\n",
       "        <td style=\"padding-left: 1em; padding-right: 1em; text-align: center; vertical-align: top\">true</td>\n",
       "    </tr>\n",
       "    <tr>\n",
       "        <td style=\"padding-left: 1em; padding-right: 1em; text-align: center; vertical-align: top\">2016-01-03 03:33:06</td>\n",
       "        <td style=\"padding-left: 1em; padding-right: 1em; text-align: center; vertical-align: top\">c796f7b5-69e0-3fa2-b4b5-a<br>68e0877c70d ...</td>\n",
       "        <td style=\"padding-left: 1em; padding-right: 1em; text-align: center; vertical-align: top\">2016-01-03</td>\n",
       "        <td style=\"padding-left: 1em; padding-right: 1em; text-align: center; vertical-align: top\">0.99</td>\n",
       "        <td style=\"padding-left: 1em; padding-right: 1em; text-align: center; vertical-align: top\">2500.0</td>\n",
       "        <td style=\"padding-left: 1em; padding-right: 1em; text-align: center; vertical-align: top\">99</td>\n",
       "        <td style=\"padding-left: 1em; padding-right: 1em; text-align: center; vertical-align: top\">true</td>\n",
       "    </tr>\n",
       "    <tr>\n",
       "        <td style=\"padding-left: 1em; padding-right: 1em; text-align: center; vertical-align: top\">2016-01-05 04:14:22</td>\n",
       "        <td style=\"padding-left: 1em; padding-right: 1em; text-align: center; vertical-align: top\">c796f7b5-69e0-3fa2-b4b5-a<br>68e0877c70d ...</td>\n",
       "        <td style=\"padding-left: 1em; padding-right: 1em; text-align: center; vertical-align: top\">2016-01-05</td>\n",
       "        <td style=\"padding-left: 1em; padding-right: 1em; text-align: center; vertical-align: top\">0.99</td>\n",
       "        <td style=\"padding-left: 1em; padding-right: 1em; text-align: center; vertical-align: top\">2500.0</td>\n",
       "        <td style=\"padding-left: 1em; padding-right: 1em; text-align: center; vertical-align: top\">99</td>\n",
       "        <td style=\"padding-left: 1em; padding-right: 1em; text-align: center; vertical-align: top\">true</td>\n",
       "    </tr>\n",
       "    <tr>\n",
       "        <td style=\"padding-left: 1em; padding-right: 1em; text-align: center; vertical-align: top\">2016-01-06 12:22:17</td>\n",
       "        <td style=\"padding-left: 1em; padding-right: 1em; text-align: center; vertical-align: top\">c796f7b5-69e0-3fa2-b4b5-a<br>68e0877c70d ...</td>\n",
       "        <td style=\"padding-left: 1em; padding-right: 1em; text-align: center; vertical-align: top\">2016-01-06</td>\n",
       "        <td style=\"padding-left: 1em; padding-right: 1em; text-align: center; vertical-align: top\">0.99</td>\n",
       "        <td style=\"padding-left: 1em; padding-right: 1em; text-align: center; vertical-align: top\">2500.0</td>\n",
       "        <td style=\"padding-left: 1em; padding-right: 1em; text-align: center; vertical-align: top\">99</td>\n",
       "        <td style=\"padding-left: 1em; padding-right: 1em; text-align: center; vertical-align: top\">true</td>\n",
       "    </tr>\n",
       "    <tr>\n",
       "        <td style=\"padding-left: 1em; padding-right: 1em; text-align: center; vertical-align: top\">2016-01-10 20:11:32</td>\n",
       "        <td style=\"padding-left: 1em; padding-right: 1em; text-align: center; vertical-align: top\">c796f7b5-69e0-3fa2-b4b5-a<br>68e0877c70d ...</td>\n",
       "        <td style=\"padding-left: 1em; padding-right: 1em; text-align: center; vertical-align: top\">2016-01-10</td>\n",
       "        <td style=\"padding-left: 1em; padding-right: 1em; text-align: center; vertical-align: top\">0.99</td>\n",
       "        <td style=\"padding-left: 1em; padding-right: 1em; text-align: center; vertical-align: top\">2500.0</td>\n",
       "        <td style=\"padding-left: 1em; padding-right: 1em; text-align: center; vertical-align: top\">99</td>\n",
       "        <td style=\"padding-left: 1em; padding-right: 1em; text-align: center; vertical-align: top\">true</td>\n",
       "    </tr>\n",
       "    <tr>\n",
       "        <td style=\"padding-left: 1em; padding-right: 1em; text-align: center; vertical-align: top\">2016-01-13 08:42:59</td>\n",
       "        <td style=\"padding-left: 1em; padding-right: 1em; text-align: center; vertical-align: top\">c796f7b5-69e0-3fa2-b4b5-a<br>68e0877c70d ...</td>\n",
       "        <td style=\"padding-left: 1em; padding-right: 1em; text-align: center; vertical-align: top\">2016-01-13</td>\n",
       "        <td style=\"padding-left: 1em; padding-right: 1em; text-align: center; vertical-align: top\">0.99</td>\n",
       "        <td style=\"padding-left: 1em; padding-right: 1em; text-align: center; vertical-align: top\">2500.0</td>\n",
       "        <td style=\"padding-left: 1em; padding-right: 1em; text-align: center; vertical-align: top\">99</td>\n",
       "        <td style=\"padding-left: 1em; padding-right: 1em; text-align: center; vertical-align: top\">true</td>\n",
       "    </tr>\n",
       "    <tr>\n",
       "        <td style=\"padding-left: 1em; padding-right: 1em; text-align: center; vertical-align: top\">2016-01-13 09:21:18</td>\n",
       "        <td style=\"padding-left: 1em; padding-right: 1em; text-align: center; vertical-align: top\">c796f7b5-69e0-3fa2-b4b5-a<br>68e0877c70d ...</td>\n",
       "        <td style=\"padding-left: 1em; padding-right: 1em; text-align: center; vertical-align: top\">2016-01-13</td>\n",
       "        <td style=\"padding-left: 1em; padding-right: 1em; text-align: center; vertical-align: top\">0.99</td>\n",
       "        <td style=\"padding-left: 1em; padding-right: 1em; text-align: center; vertical-align: top\">2500.0</td>\n",
       "        <td style=\"padding-left: 1em; padding-right: 1em; text-align: center; vertical-align: top\">99</td>\n",
       "        <td style=\"padding-left: 1em; padding-right: 1em; text-align: center; vertical-align: top\">true</td>\n",
       "    </tr>\n",
       "    <tr>\n",
       "        <td style=\"padding-left: 1em; padding-right: 1em; text-align: center; vertical-align: top\">2016-01-13 11:50:57</td>\n",
       "        <td style=\"padding-left: 1em; padding-right: 1em; text-align: center; vertical-align: top\">c796f7b5-69e0-3fa2-b4b5-a<br>68e0877c70d ...</td>\n",
       "        <td style=\"padding-left: 1em; padding-right: 1em; text-align: center; vertical-align: top\">2016-01-13</td>\n",
       "        <td style=\"padding-left: 1em; padding-right: 1em; text-align: center; vertical-align: top\">0.99</td>\n",
       "        <td style=\"padding-left: 1em; padding-right: 1em; text-align: center; vertical-align: top\">2500.0</td>\n",
       "        <td style=\"padding-left: 1em; padding-right: 1em; text-align: center; vertical-align: top\">99</td>\n",
       "        <td style=\"padding-left: 1em; padding-right: 1em; text-align: center; vertical-align: top\">true</td>\n",
       "    </tr>\n",
       "</table>\n",
       "<table frame=\"box\" rules=\"cols\">\n",
       "    <tr>\n",
       "        <th style=\"padding-left: 1em; padding-right: 1em; text-align: center\">e_viptier</th>\n",
       "        <th style=\"padding-left: 1em; padding-right: 1em; text-align: center\">xrate</th>\n",
       "        <th style=\"padding-left: 1em; padding-right: 1em; text-align: center\">e_source</th>\n",
       "        <th style=\"padding-left: 1em; padding-right: 1em; text-align: center\">e_vip_boost</th>\n",
       "        <th style=\"padding-left: 1em; padding-right: 1em; text-align: center\">e_vip_points</th>\n",
       "        <th style=\"padding-left: 1em; padding-right: 1em; text-align: center\">e_creditsbeforepurchase</th>\n",
       "        <th style=\"padding-left: 1em; padding-right: 1em; text-align: center\">e_level</th>\n",
       "    </tr>\n",
       "    <tr>\n",
       "        <td style=\"padding-left: 1em; padding-right: 1em; text-align: center; vertical-align: top\">6</td>\n",
       "        <td style=\"padding-left: 1em; padding-right: 1em; text-align: center; vertical-align: top\">25.2525252525</td>\n",
       "        <td style=\"padding-left: 1em; padding-right: 1em; text-align: center; vertical-align: top\">VIPDialog</td>\n",
       "        <td style=\"padding-left: 1em; padding-right: 1em; text-align: center; vertical-align: top\">1.5</td>\n",
       "        <td style=\"padding-left: 1em; padding-right: 1em; text-align: center; vertical-align: top\">100</td>\n",
       "        <td style=\"padding-left: 1em; padding-right: 1em; text-align: center; vertical-align: top\">300001-1000000</td>\n",
       "        <td style=\"padding-left: 1em; padding-right: 1em; text-align: center; vertical-align: top\">1000</td>\n",
       "    </tr>\n",
       "    <tr>\n",
       "        <td style=\"padding-left: 1em; padding-right: 1em; text-align: center; vertical-align: top\">6</td>\n",
       "        <td style=\"padding-left: 1em; padding-right: 1em; text-align: center; vertical-align: top\">25.2525252525</td>\n",
       "        <td style=\"padding-left: 1em; padding-right: 1em; text-align: center; vertical-align: top\">VIPDialog</td>\n",
       "        <td style=\"padding-left: 1em; padding-right: 1em; text-align: center; vertical-align: top\">1.5</td>\n",
       "        <td style=\"padding-left: 1em; padding-right: 1em; text-align: center; vertical-align: top\">100</td>\n",
       "        <td style=\"padding-left: 1em; padding-right: 1em; text-align: center; vertical-align: top\">300001-1000000</td>\n",
       "        <td style=\"padding-left: 1em; padding-right: 1em; text-align: center; vertical-align: top\">1000</td>\n",
       "    </tr>\n",
       "    <tr>\n",
       "        <td style=\"padding-left: 1em; padding-right: 1em; text-align: center; vertical-align: top\">6</td>\n",
       "        <td style=\"padding-left: 1em; padding-right: 1em; text-align: center; vertical-align: top\">25.2525252525</td>\n",
       "        <td style=\"padding-left: 1em; padding-right: 1em; text-align: center; vertical-align: top\">VIPDialog</td>\n",
       "        <td style=\"padding-left: 1em; padding-right: 1em; text-align: center; vertical-align: top\">1.5</td>\n",
       "        <td style=\"padding-left: 1em; padding-right: 1em; text-align: center; vertical-align: top\">100</td>\n",
       "        <td style=\"padding-left: 1em; padding-right: 1em; text-align: center; vertical-align: top\">300001-1000000</td>\n",
       "        <td style=\"padding-left: 1em; padding-right: 1em; text-align: center; vertical-align: top\">1000</td>\n",
       "    </tr>\n",
       "    <tr>\n",
       "        <td style=\"padding-left: 1em; padding-right: 1em; text-align: center; vertical-align: top\">6</td>\n",
       "        <td style=\"padding-left: 1em; padding-right: 1em; text-align: center; vertical-align: top\">25.2525252525</td>\n",
       "        <td style=\"padding-left: 1em; padding-right: 1em; text-align: center; vertical-align: top\">VIPDialog</td>\n",
       "        <td style=\"padding-left: 1em; padding-right: 1em; text-align: center; vertical-align: top\">1.5</td>\n",
       "        <td style=\"padding-left: 1em; padding-right: 1em; text-align: center; vertical-align: top\">100</td>\n",
       "        <td style=\"padding-left: 1em; padding-right: 1em; text-align: center; vertical-align: top\">300001-1000000</td>\n",
       "        <td style=\"padding-left: 1em; padding-right: 1em; text-align: center; vertical-align: top\">1000</td>\n",
       "    </tr>\n",
       "    <tr>\n",
       "        <td style=\"padding-left: 1em; padding-right: 1em; text-align: center; vertical-align: top\">6</td>\n",
       "        <td style=\"padding-left: 1em; padding-right: 1em; text-align: center; vertical-align: top\">25.2525252525</td>\n",
       "        <td style=\"padding-left: 1em; padding-right: 1em; text-align: center; vertical-align: top\">VIPDialog</td>\n",
       "        <td style=\"padding-left: 1em; padding-right: 1em; text-align: center; vertical-align: top\">1.5</td>\n",
       "        <td style=\"padding-left: 1em; padding-right: 1em; text-align: center; vertical-align: top\">100</td>\n",
       "        <td style=\"padding-left: 1em; padding-right: 1em; text-align: center; vertical-align: top\">300001-1000000</td>\n",
       "        <td style=\"padding-left: 1em; padding-right: 1em; text-align: center; vertical-align: top\">1000</td>\n",
       "    </tr>\n",
       "    <tr>\n",
       "        <td style=\"padding-left: 1em; padding-right: 1em; text-align: center; vertical-align: top\">6</td>\n",
       "        <td style=\"padding-left: 1em; padding-right: 1em; text-align: center; vertical-align: top\">25.2525252525</td>\n",
       "        <td style=\"padding-left: 1em; padding-right: 1em; text-align: center; vertical-align: top\">VIPDialog</td>\n",
       "        <td style=\"padding-left: 1em; padding-right: 1em; text-align: center; vertical-align: top\">1.5</td>\n",
       "        <td style=\"padding-left: 1em; padding-right: 1em; text-align: center; vertical-align: top\">100</td>\n",
       "        <td style=\"padding-left: 1em; padding-right: 1em; text-align: center; vertical-align: top\">300001-1000000</td>\n",
       "        <td style=\"padding-left: 1em; padding-right: 1em; text-align: center; vertical-align: top\">1000</td>\n",
       "    </tr>\n",
       "    <tr>\n",
       "        <td style=\"padding-left: 1em; padding-right: 1em; text-align: center; vertical-align: top\">6</td>\n",
       "        <td style=\"padding-left: 1em; padding-right: 1em; text-align: center; vertical-align: top\">25.2525252525</td>\n",
       "        <td style=\"padding-left: 1em; padding-right: 1em; text-align: center; vertical-align: top\">VIPDialog</td>\n",
       "        <td style=\"padding-left: 1em; padding-right: 1em; text-align: center; vertical-align: top\">1.5</td>\n",
       "        <td style=\"padding-left: 1em; padding-right: 1em; text-align: center; vertical-align: top\">100</td>\n",
       "        <td style=\"padding-left: 1em; padding-right: 1em; text-align: center; vertical-align: top\">1000001-5000000</td>\n",
       "        <td style=\"padding-left: 1em; padding-right: 1em; text-align: center; vertical-align: top\">1000</td>\n",
       "    </tr>\n",
       "    <tr>\n",
       "        <td style=\"padding-left: 1em; padding-right: 1em; text-align: center; vertical-align: top\">6</td>\n",
       "        <td style=\"padding-left: 1em; padding-right: 1em; text-align: center; vertical-align: top\">25.2525252525</td>\n",
       "        <td style=\"padding-left: 1em; padding-right: 1em; text-align: center; vertical-align: top\">VIPDialog</td>\n",
       "        <td style=\"padding-left: 1em; padding-right: 1em; text-align: center; vertical-align: top\">1.5</td>\n",
       "        <td style=\"padding-left: 1em; padding-right: 1em; text-align: center; vertical-align: top\">100</td>\n",
       "        <td style=\"padding-left: 1em; padding-right: 1em; text-align: center; vertical-align: top\">300001-1000000</td>\n",
       "        <td style=\"padding-left: 1em; padding-right: 1em; text-align: center; vertical-align: top\">1000</td>\n",
       "    </tr>\n",
       "    <tr>\n",
       "        <td style=\"padding-left: 1em; padding-right: 1em; text-align: center; vertical-align: top\">6</td>\n",
       "        <td style=\"padding-left: 1em; padding-right: 1em; text-align: center; vertical-align: top\">25.2525252525</td>\n",
       "        <td style=\"padding-left: 1em; padding-right: 1em; text-align: center; vertical-align: top\">VIPDialog</td>\n",
       "        <td style=\"padding-left: 1em; padding-right: 1em; text-align: center; vertical-align: top\">1.5</td>\n",
       "        <td style=\"padding-left: 1em; padding-right: 1em; text-align: center; vertical-align: top\">100</td>\n",
       "        <td style=\"padding-left: 1em; padding-right: 1em; text-align: center; vertical-align: top\">300001-1000000</td>\n",
       "        <td style=\"padding-left: 1em; padding-right: 1em; text-align: center; vertical-align: top\">1000</td>\n",
       "    </tr>\n",
       "    <tr>\n",
       "        <td style=\"padding-left: 1em; padding-right: 1em; text-align: center; vertical-align: top\">6</td>\n",
       "        <td style=\"padding-left: 1em; padding-right: 1em; text-align: center; vertical-align: top\">25.2525252525</td>\n",
       "        <td style=\"padding-left: 1em; padding-right: 1em; text-align: center; vertical-align: top\">VIPDialog</td>\n",
       "        <td style=\"padding-left: 1em; padding-right: 1em; text-align: center; vertical-align: top\">1.5</td>\n",
       "        <td style=\"padding-left: 1em; padding-right: 1em; text-align: center; vertical-align: top\">100</td>\n",
       "        <td style=\"padding-left: 1em; padding-right: 1em; text-align: center; vertical-align: top\">300001-1000000</td>\n",
       "        <td style=\"padding-left: 1em; padding-right: 1em; text-align: center; vertical-align: top\">1000</td>\n",
       "    </tr>\n",
       "</table>\n",
       "<table frame=\"box\" rules=\"cols\">\n",
       "    <tr>\n",
       "        <th style=\"padding-left: 1em; padding-right: 1em; text-align: center\">e_machine</th>\n",
       "        <th style=\"padding-left: 1em; padding-right: 1em; text-align: center\">u_playertenure</th>\n",
       "        <th style=\"padding-left: 1em; padding-right: 1em; text-align: center\">u_fbstatus</th>\n",
       "        <th style=\"padding-left: 1em; padding-right: 1em; text-align: center\">u_totalcredits</th>\n",
       "        <th style=\"padding-left: 1em; padding-right: 1em; text-align: center\">credits</th>\n",
       "        <th style=\"padding-left: 1em; padding-right: 1em; text-align: center\">rn</th>\n",
       "        <th style=\"padding-left: 1em; padding-right: 1em; text-align: center\">rank</th>\n",
       "        <th style=\"padding-left: 1em; padding-right: 1em; text-align: center\">txns</th>\n",
       "        <th style=\"padding-left: 1em; padding-right: 1em; text-align: center\">txns_on_day</th>\n",
       "        <th style=\"padding-left: 1em; padding-right: 1em; text-align: center\">rank_desc</th>\n",
       "    </tr>\n",
       "    <tr>\n",
       "        <td style=\"padding-left: 1em; padding-right: 1em; text-align: center; vertical-align: top\">before_spin</td>\n",
       "        <td style=\"padding-left: 1em; padding-right: 1em; text-align: center; vertical-align: top\">102</td>\n",
       "        <td style=\"padding-left: 1em; padding-right: 1em; text-align: center; vertical-align: top\">True</td>\n",
       "        <td style=\"padding-left: 1em; padding-right: 1em; text-align: center; vertical-align: top\">751968</td>\n",
       "        <td style=\"padding-left: 1em; padding-right: 1em; text-align: center; vertical-align: top\">749468.0</td>\n",
       "        <td style=\"padding-left: 1em; padding-right: 1em; text-align: center; vertical-align: top\">1</td>\n",
       "        <td style=\"padding-left: 1em; padding-right: 1em; text-align: center; vertical-align: top\">1</td>\n",
       "        <td style=\"padding-left: 1em; padding-right: 1em; text-align: center; vertical-align: top\">57</td>\n",
       "        <td style=\"padding-left: 1em; padding-right: 1em; text-align: center; vertical-align: top\">3</td>\n",
       "        <td style=\"padding-left: 1em; padding-right: 1em; text-align: center; vertical-align: top\">27</td>\n",
       "    </tr>\n",
       "    <tr>\n",
       "        <td style=\"padding-left: 1em; padding-right: 1em; text-align: center; vertical-align: top\">SimpleWild5x</td>\n",
       "        <td style=\"padding-left: 1em; padding-right: 1em; text-align: center; vertical-align: top\">102</td>\n",
       "        <td style=\"padding-left: 1em; padding-right: 1em; text-align: center; vertical-align: top\">True</td>\n",
       "        <td style=\"padding-left: 1em; padding-right: 1em; text-align: center; vertical-align: top\">885468</td>\n",
       "        <td style=\"padding-left: 1em; padding-right: 1em; text-align: center; vertical-align: top\">882968.0</td>\n",
       "        <td style=\"padding-left: 1em; padding-right: 1em; text-align: center; vertical-align: top\">2</td>\n",
       "        <td style=\"padding-left: 1em; padding-right: 1em; text-align: center; vertical-align: top\">1</td>\n",
       "        <td style=\"padding-left: 1em; padding-right: 1em; text-align: center; vertical-align: top\">57</td>\n",
       "        <td style=\"padding-left: 1em; padding-right: 1em; text-align: center; vertical-align: top\">3</td>\n",
       "        <td style=\"padding-left: 1em; padding-right: 1em; text-align: center; vertical-align: top\">27</td>\n",
       "    </tr>\n",
       "    <tr>\n",
       "        <td style=\"padding-left: 1em; padding-right: 1em; text-align: center; vertical-align: top\">SimpleCrazySevens</td>\n",
       "        <td style=\"padding-left: 1em; padding-right: 1em; text-align: center; vertical-align: top\">103</td>\n",
       "        <td style=\"padding-left: 1em; padding-right: 1em; text-align: center; vertical-align: top\">True</td>\n",
       "        <td style=\"padding-left: 1em; padding-right: 1em; text-align: center; vertical-align: top\">812818</td>\n",
       "        <td style=\"padding-left: 1em; padding-right: 1em; text-align: center; vertical-align: top\">810318.0</td>\n",
       "        <td style=\"padding-left: 1em; padding-right: 1em; text-align: center; vertical-align: top\">3</td>\n",
       "        <td style=\"padding-left: 1em; padding-right: 1em; text-align: center; vertical-align: top\">1</td>\n",
       "        <td style=\"padding-left: 1em; padding-right: 1em; text-align: center; vertical-align: top\">57</td>\n",
       "        <td style=\"padding-left: 1em; padding-right: 1em; text-align: center; vertical-align: top\">3</td>\n",
       "        <td style=\"padding-left: 1em; padding-right: 1em; text-align: center; vertical-align: top\">27</td>\n",
       "    </tr>\n",
       "    <tr>\n",
       "        <td style=\"padding-left: 1em; padding-right: 1em; text-align: center; vertical-align: top\">SimpleWild5x</td>\n",
       "        <td style=\"padding-left: 1em; padding-right: 1em; text-align: center; vertical-align: top\">104</td>\n",
       "        <td style=\"padding-left: 1em; padding-right: 1em; text-align: center; vertical-align: top\">True</td>\n",
       "        <td style=\"padding-left: 1em; padding-right: 1em; text-align: center; vertical-align: top\">751268</td>\n",
       "        <td style=\"padding-left: 1em; padding-right: 1em; text-align: center; vertical-align: top\">748768.0</td>\n",
       "        <td style=\"padding-left: 1em; padding-right: 1em; text-align: center; vertical-align: top\">4</td>\n",
       "        <td style=\"padding-left: 1em; padding-right: 1em; text-align: center; vertical-align: top\">2</td>\n",
       "        <td style=\"padding-left: 1em; padding-right: 1em; text-align: center; vertical-align: top\">57</td>\n",
       "        <td style=\"padding-left: 1em; padding-right: 1em; text-align: center; vertical-align: top\">1</td>\n",
       "        <td style=\"padding-left: 1em; padding-right: 1em; text-align: center; vertical-align: top\">26</td>\n",
       "    </tr>\n",
       "    <tr>\n",
       "        <td style=\"padding-left: 1em; padding-right: 1em; text-align: center; vertical-align: top\">SimpleWild5x</td>\n",
       "        <td style=\"padding-left: 1em; padding-right: 1em; text-align: center; vertical-align: top\">106</td>\n",
       "        <td style=\"padding-left: 1em; padding-right: 1em; text-align: center; vertical-align: top\">True</td>\n",
       "        <td style=\"padding-left: 1em; padding-right: 1em; text-align: center; vertical-align: top\">749568</td>\n",
       "        <td style=\"padding-left: 1em; padding-right: 1em; text-align: center; vertical-align: top\">747068.0</td>\n",
       "        <td style=\"padding-left: 1em; padding-right: 1em; text-align: center; vertical-align: top\">5</td>\n",
       "        <td style=\"padding-left: 1em; padding-right: 1em; text-align: center; vertical-align: top\">3</td>\n",
       "        <td style=\"padding-left: 1em; padding-right: 1em; text-align: center; vertical-align: top\">57</td>\n",
       "        <td style=\"padding-left: 1em; padding-right: 1em; text-align: center; vertical-align: top\">1</td>\n",
       "        <td style=\"padding-left: 1em; padding-right: 1em; text-align: center; vertical-align: top\">25</td>\n",
       "    </tr>\n",
       "    <tr>\n",
       "        <td style=\"padding-left: 1em; padding-right: 1em; text-align: center; vertical-align: top\">SimpleRespinRedHot</td>\n",
       "        <td style=\"padding-left: 1em; padding-right: 1em; text-align: center; vertical-align: top\">108</td>\n",
       "        <td style=\"padding-left: 1em; padding-right: 1em; text-align: center; vertical-align: top\">True</td>\n",
       "        <td style=\"padding-left: 1em; padding-right: 1em; text-align: center; vertical-align: top\">798318</td>\n",
       "        <td style=\"padding-left: 1em; padding-right: 1em; text-align: center; vertical-align: top\">795818.0</td>\n",
       "        <td style=\"padding-left: 1em; padding-right: 1em; text-align: center; vertical-align: top\">6</td>\n",
       "        <td style=\"padding-left: 1em; padding-right: 1em; text-align: center; vertical-align: top\">4</td>\n",
       "        <td style=\"padding-left: 1em; padding-right: 1em; text-align: center; vertical-align: top\">57</td>\n",
       "        <td style=\"padding-left: 1em; padding-right: 1em; text-align: center; vertical-align: top\">1</td>\n",
       "        <td style=\"padding-left: 1em; padding-right: 1em; text-align: center; vertical-align: top\">24</td>\n",
       "    </tr>\n",
       "    <tr>\n",
       "        <td style=\"padding-left: 1em; padding-right: 1em; text-align: center; vertical-align: top\">SimpleWild5x</td>\n",
       "        <td style=\"padding-left: 1em; padding-right: 1em; text-align: center; vertical-align: top\">112</td>\n",
       "        <td style=\"padding-left: 1em; padding-right: 1em; text-align: center; vertical-align: top\">True</td>\n",
       "        <td style=\"padding-left: 1em; padding-right: 1em; text-align: center; vertical-align: top\">1594318</td>\n",
       "        <td style=\"padding-left: 1em; padding-right: 1em; text-align: center; vertical-align: top\">1591818.0</td>\n",
       "        <td style=\"padding-left: 1em; padding-right: 1em; text-align: center; vertical-align: top\">7</td>\n",
       "        <td style=\"padding-left: 1em; padding-right: 1em; text-align: center; vertical-align: top\">5</td>\n",
       "        <td style=\"padding-left: 1em; padding-right: 1em; text-align: center; vertical-align: top\">57</td>\n",
       "        <td style=\"padding-left: 1em; padding-right: 1em; text-align: center; vertical-align: top\">1</td>\n",
       "        <td style=\"padding-left: 1em; padding-right: 1em; text-align: center; vertical-align: top\">23</td>\n",
       "    </tr>\n",
       "    <tr>\n",
       "        <td style=\"padding-left: 1em; padding-right: 1em; text-align: center; vertical-align: top\">before_spin</td>\n",
       "        <td style=\"padding-left: 1em; padding-right: 1em; text-align: center; vertical-align: top\">114</td>\n",
       "        <td style=\"padding-left: 1em; padding-right: 1em; text-align: center; vertical-align: top\">True</td>\n",
       "        <td style=\"padding-left: 1em; padding-right: 1em; text-align: center; vertical-align: top\">772068</td>\n",
       "        <td style=\"padding-left: 1em; padding-right: 1em; text-align: center; vertical-align: top\">769568.0</td>\n",
       "        <td style=\"padding-left: 1em; padding-right: 1em; text-align: center; vertical-align: top\">8</td>\n",
       "        <td style=\"padding-left: 1em; padding-right: 1em; text-align: center; vertical-align: top\">6</td>\n",
       "        <td style=\"padding-left: 1em; padding-right: 1em; text-align: center; vertical-align: top\">57</td>\n",
       "        <td style=\"padding-left: 1em; padding-right: 1em; text-align: center; vertical-align: top\">4</td>\n",
       "        <td style=\"padding-left: 1em; padding-right: 1em; text-align: center; vertical-align: top\">22</td>\n",
       "    </tr>\n",
       "    <tr>\n",
       "        <td style=\"padding-left: 1em; padding-right: 1em; text-align: center; vertical-align: top\">before_spin</td>\n",
       "        <td style=\"padding-left: 1em; padding-right: 1em; text-align: center; vertical-align: top\">114</td>\n",
       "        <td style=\"padding-left: 1em; padding-right: 1em; text-align: center; vertical-align: top\">True</td>\n",
       "        <td style=\"padding-left: 1em; padding-right: 1em; text-align: center; vertical-align: top\">778318</td>\n",
       "        <td style=\"padding-left: 1em; padding-right: 1em; text-align: center; vertical-align: top\">775818.0</td>\n",
       "        <td style=\"padding-left: 1em; padding-right: 1em; text-align: center; vertical-align: top\">9</td>\n",
       "        <td style=\"padding-left: 1em; padding-right: 1em; text-align: center; vertical-align: top\">6</td>\n",
       "        <td style=\"padding-left: 1em; padding-right: 1em; text-align: center; vertical-align: top\">57</td>\n",
       "        <td style=\"padding-left: 1em; padding-right: 1em; text-align: center; vertical-align: top\">4</td>\n",
       "        <td style=\"padding-left: 1em; padding-right: 1em; text-align: center; vertical-align: top\">22</td>\n",
       "    </tr>\n",
       "    <tr>\n",
       "        <td style=\"padding-left: 1em; padding-right: 1em; text-align: center; vertical-align: top\">MultiWild5x</td>\n",
       "        <td style=\"padding-left: 1em; padding-right: 1em; text-align: center; vertical-align: top\">115</td>\n",
       "        <td style=\"padding-left: 1em; padding-right: 1em; text-align: center; vertical-align: top\">True</td>\n",
       "        <td style=\"padding-left: 1em; padding-right: 1em; text-align: center; vertical-align: top\">760568</td>\n",
       "        <td style=\"padding-left: 1em; padding-right: 1em; text-align: center; vertical-align: top\">758068.0</td>\n",
       "        <td style=\"padding-left: 1em; padding-right: 1em; text-align: center; vertical-align: top\">10</td>\n",
       "        <td style=\"padding-left: 1em; padding-right: 1em; text-align: center; vertical-align: top\">6</td>\n",
       "        <td style=\"padding-left: 1em; padding-right: 1em; text-align: center; vertical-align: top\">57</td>\n",
       "        <td style=\"padding-left: 1em; padding-right: 1em; text-align: center; vertical-align: top\">4</td>\n",
       "        <td style=\"padding-left: 1em; padding-right: 1em; text-align: center; vertical-align: top\">22</td>\n",
       "    </tr>\n",
       "</table>\n",
       "<table frame=\"box\" rules=\"cols\">\n",
       "    <tr>\n",
       "        <th style=\"padding-left: 1em; padding-right: 1em; text-align: center\">next_event_time</th>\n",
       "        <th style=\"padding-left: 1em; padding-right: 1em; text-align: center\">previous_event_time</th>\n",
       "        <th style=\"padding-left: 1em; padding-right: 1em; text-align: center\">last_event_time</th>\n",
       "        <th style=\"padding-left: 1em; padding-right: 1em; text-align: center\">first_event_time</th>\n",
       "    </tr>\n",
       "    <tr>\n",
       "        <td style=\"padding-left: 1em; padding-right: 1em; text-align: center; vertical-align: top\">2016-01-01 07:52:10</td>\n",
       "        <td style=\"padding-left: 1em; padding-right: 1em; text-align: center; vertical-align: top\">(null)</td>\n",
       "        <td style=\"padding-left: 1em; padding-right: 1em; text-align: center; vertical-align: top\">2016-04-23 04:16:25</td>\n",
       "        <td style=\"padding-left: 1em; padding-right: 1em; text-align: center; vertical-align: top\">2016-01-01 00:00:49</td>\n",
       "    </tr>\n",
       "    <tr>\n",
       "        <td style=\"padding-left: 1em; padding-right: 1em; text-align: center; vertical-align: top\">2016-01-01 21:41:34</td>\n",
       "        <td style=\"padding-left: 1em; padding-right: 1em; text-align: center; vertical-align: top\">2016-01-01 00:00:49</td>\n",
       "        <td style=\"padding-left: 1em; padding-right: 1em; text-align: center; vertical-align: top\">2016-04-23 04:16:25</td>\n",
       "        <td style=\"padding-left: 1em; padding-right: 1em; text-align: center; vertical-align: top\">2016-01-01 00:00:49</td>\n",
       "    </tr>\n",
       "    <tr>\n",
       "        <td style=\"padding-left: 1em; padding-right: 1em; text-align: center; vertical-align: top\">2016-01-03 03:33:06</td>\n",
       "        <td style=\"padding-left: 1em; padding-right: 1em; text-align: center; vertical-align: top\">2016-01-01 07:52:10</td>\n",
       "        <td style=\"padding-left: 1em; padding-right: 1em; text-align: center; vertical-align: top\">2016-04-23 04:16:25</td>\n",
       "        <td style=\"padding-left: 1em; padding-right: 1em; text-align: center; vertical-align: top\">2016-01-01 00:00:49</td>\n",
       "    </tr>\n",
       "    <tr>\n",
       "        <td style=\"padding-left: 1em; padding-right: 1em; text-align: center; vertical-align: top\">2016-01-05 04:14:22</td>\n",
       "        <td style=\"padding-left: 1em; padding-right: 1em; text-align: center; vertical-align: top\">2016-01-01 21:41:34</td>\n",
       "        <td style=\"padding-left: 1em; padding-right: 1em; text-align: center; vertical-align: top\">2016-04-23 04:16:25</td>\n",
       "        <td style=\"padding-left: 1em; padding-right: 1em; text-align: center; vertical-align: top\">2016-01-01 00:00:49</td>\n",
       "    </tr>\n",
       "    <tr>\n",
       "        <td style=\"padding-left: 1em; padding-right: 1em; text-align: center; vertical-align: top\">2016-01-06 12:22:17</td>\n",
       "        <td style=\"padding-left: 1em; padding-right: 1em; text-align: center; vertical-align: top\">2016-01-03 03:33:06</td>\n",
       "        <td style=\"padding-left: 1em; padding-right: 1em; text-align: center; vertical-align: top\">2016-04-23 04:16:25</td>\n",
       "        <td style=\"padding-left: 1em; padding-right: 1em; text-align: center; vertical-align: top\">2016-01-01 00:00:49</td>\n",
       "    </tr>\n",
       "    <tr>\n",
       "        <td style=\"padding-left: 1em; padding-right: 1em; text-align: center; vertical-align: top\">2016-01-10 20:11:32</td>\n",
       "        <td style=\"padding-left: 1em; padding-right: 1em; text-align: center; vertical-align: top\">2016-01-05 04:14:22</td>\n",
       "        <td style=\"padding-left: 1em; padding-right: 1em; text-align: center; vertical-align: top\">2016-04-23 04:16:25</td>\n",
       "        <td style=\"padding-left: 1em; padding-right: 1em; text-align: center; vertical-align: top\">2016-01-01 00:00:49</td>\n",
       "    </tr>\n",
       "    <tr>\n",
       "        <td style=\"padding-left: 1em; padding-right: 1em; text-align: center; vertical-align: top\">2016-01-13 08:42:59</td>\n",
       "        <td style=\"padding-left: 1em; padding-right: 1em; text-align: center; vertical-align: top\">2016-01-06 12:22:17</td>\n",
       "        <td style=\"padding-left: 1em; padding-right: 1em; text-align: center; vertical-align: top\">2016-04-23 04:16:25</td>\n",
       "        <td style=\"padding-left: 1em; padding-right: 1em; text-align: center; vertical-align: top\">2016-01-01 00:00:49</td>\n",
       "    </tr>\n",
       "    <tr>\n",
       "        <td style=\"padding-left: 1em; padding-right: 1em; text-align: center; vertical-align: top\">2016-01-13 09:21:18</td>\n",
       "        <td style=\"padding-left: 1em; padding-right: 1em; text-align: center; vertical-align: top\">2016-01-10 20:11:32</td>\n",
       "        <td style=\"padding-left: 1em; padding-right: 1em; text-align: center; vertical-align: top\">2016-04-23 04:16:25</td>\n",
       "        <td style=\"padding-left: 1em; padding-right: 1em; text-align: center; vertical-align: top\">2016-01-01 00:00:49</td>\n",
       "    </tr>\n",
       "    <tr>\n",
       "        <td style=\"padding-left: 1em; padding-right: 1em; text-align: center; vertical-align: top\">2016-01-13 11:50:57</td>\n",
       "        <td style=\"padding-left: 1em; padding-right: 1em; text-align: center; vertical-align: top\">2016-01-13 08:42:59</td>\n",
       "        <td style=\"padding-left: 1em; padding-right: 1em; text-align: center; vertical-align: top\">2016-04-23 04:16:25</td>\n",
       "        <td style=\"padding-left: 1em; padding-right: 1em; text-align: center; vertical-align: top\">2016-01-01 00:00:49</td>\n",
       "    </tr>\n",
       "    <tr>\n",
       "        <td style=\"padding-left: 1em; padding-right: 1em; text-align: center; vertical-align: top\">2016-01-13 19:26:23</td>\n",
       "        <td style=\"padding-left: 1em; padding-right: 1em; text-align: center; vertical-align: top\">2016-01-13 09:21:18</td>\n",
       "        <td style=\"padding-left: 1em; padding-right: 1em; text-align: center; vertical-align: top\">2016-04-23 04:16:25</td>\n",
       "        <td style=\"padding-left: 1em; padding-right: 1em; text-align: center; vertical-align: top\">2016-01-01 00:00:49</td>\n",
       "    </tr>\n",
       "</table>\n",
       "[57 rows x 28 columns]<br/>Note: Only the head of the TimeSeries is printed.<br/>You can use print_rows(num_rows=m, num_columns=n) to print more rows and columns.\n",
       "</div>"
      ],
      "text/plain": [
       "Columns:\n",
       "\tevent_time\tdatetime (index column)\n",
       "\tuser_id\tstr\n",
       "\tdate\tstr\n",
       "\trev\tfloat\n",
       "\te_purchaseamount\tfloat\n",
       "\te_purchaseprice\tint\n",
       "\thasemail\tstr\n",
       "\te_viptier\tint\n",
       "\txrate\tfloat\n",
       "\te_source\tstr\n",
       "\te_vip_boost\tfloat\n",
       "\te_vip_points\tint\n",
       "\te_creditsbeforepurchase\tstr\n",
       "\te_level\tint\n",
       "\te_machine\tstr\n",
       "\tu_playertenure\tint\n",
       "\tu_fbstatus\tstr\n",
       "\tu_totalcredits\tint\n",
       "\tcredits\tfloat\n",
       "\trn\tint\n",
       "\trank\tint\n",
       "\ttxns\tint\n",
       "\ttxns_on_day\tint\n",
       "\trank_desc\tint\n",
       "\tnext_event_time\tstr\n",
       "\tprevious_event_time\tstr\n",
       "\tlast_event_time\tstr\n",
       "\tfirst_event_time\tstr\n",
       "\n",
       "Rows: 57\n",
       "\n",
       "Data:\n",
       "+---------------------+-------------------------------+------------+------+\n",
       "|      event_time     |            user_id            |    date    | rev  |\n",
       "+---------------------+-------------------------------+------------+------+\n",
       "| 2016-01-01 00:00:49 | c796f7b5-69e0-3fa2-b4b5-a6... | 2016-01-01 | 0.99 |\n",
       "| 2016-01-01 07:52:10 | c796f7b5-69e0-3fa2-b4b5-a6... | 2016-01-01 | 0.99 |\n",
       "| 2016-01-01 21:41:34 | c796f7b5-69e0-3fa2-b4b5-a6... | 2016-01-01 | 0.99 |\n",
       "| 2016-01-03 03:33:06 | c796f7b5-69e0-3fa2-b4b5-a6... | 2016-01-03 | 0.99 |\n",
       "| 2016-01-05 04:14:22 | c796f7b5-69e0-3fa2-b4b5-a6... | 2016-01-05 | 0.99 |\n",
       "| 2016-01-06 12:22:17 | c796f7b5-69e0-3fa2-b4b5-a6... | 2016-01-06 | 0.99 |\n",
       "| 2016-01-10 20:11:32 | c796f7b5-69e0-3fa2-b4b5-a6... | 2016-01-10 | 0.99 |\n",
       "| 2016-01-13 08:42:59 | c796f7b5-69e0-3fa2-b4b5-a6... | 2016-01-13 | 0.99 |\n",
       "| 2016-01-13 09:21:18 | c796f7b5-69e0-3fa2-b4b5-a6... | 2016-01-13 | 0.99 |\n",
       "| 2016-01-13 11:50:57 | c796f7b5-69e0-3fa2-b4b5-a6... | 2016-01-13 | 0.99 |\n",
       "+---------------------+-------------------------------+------------+------+\n",
       "+------------------+-----------------+----------+-----------+---------------+\n",
       "| e_purchaseamount | e_purchaseprice | hasemail | e_viptier |     xrate     |\n",
       "+------------------+-----------------+----------+-----------+---------------+\n",
       "|      2500.0      |        99       |   true   |     6     | 25.2525252525 |\n",
       "|      2500.0      |        99       |   true   |     6     | 25.2525252525 |\n",
       "|      2500.0      |        99       |   true   |     6     | 25.2525252525 |\n",
       "|      2500.0      |        99       |   true   |     6     | 25.2525252525 |\n",
       "|      2500.0      |        99       |   true   |     6     | 25.2525252525 |\n",
       "|      2500.0      |        99       |   true   |     6     | 25.2525252525 |\n",
       "|      2500.0      |        99       |   true   |     6     | 25.2525252525 |\n",
       "|      2500.0      |        99       |   true   |     6     | 25.2525252525 |\n",
       "|      2500.0      |        99       |   true   |     6     | 25.2525252525 |\n",
       "|      2500.0      |        99       |   true   |     6     | 25.2525252525 |\n",
       "+------------------+-----------------+----------+-----------+---------------+\n",
       "+-----------+-------------+--------------+-------------------------+---------+\n",
       "|  e_source | e_vip_boost | e_vip_points | e_creditsbeforepurchase | e_level |\n",
       "+-----------+-------------+--------------+-------------------------+---------+\n",
       "| VIPDialog |     1.5     |     100      |      300001-1000000     |   1000  |\n",
       "| VIPDialog |     1.5     |     100      |      300001-1000000     |   1000  |\n",
       "| VIPDialog |     1.5     |     100      |      300001-1000000     |   1000  |\n",
       "| VIPDialog |     1.5     |     100      |      300001-1000000     |   1000  |\n",
       "| VIPDialog |     1.5     |     100      |      300001-1000000     |   1000  |\n",
       "| VIPDialog |     1.5     |     100      |      300001-1000000     |   1000  |\n",
       "| VIPDialog |     1.5     |     100      |     1000001-5000000     |   1000  |\n",
       "| VIPDialog |     1.5     |     100      |      300001-1000000     |   1000  |\n",
       "| VIPDialog |     1.5     |     100      |      300001-1000000     |   1000  |\n",
       "| VIPDialog |     1.5     |     100      |      300001-1000000     |   1000  |\n",
       "+-----------+-------------+--------------+-------------------------+---------+\n",
       "+--------------------+----------------+------------+----------------+-----------+\n",
       "|     e_machine      | u_playertenure | u_fbstatus | u_totalcredits |  credits  |\n",
       "+--------------------+----------------+------------+----------------+-----------+\n",
       "|    before_spin     |      102       |    True    |     751968     |  749468.0 |\n",
       "|    SimpleWild5x    |      102       |    True    |     885468     |  882968.0 |\n",
       "| SimpleCrazySevens  |      103       |    True    |     812818     |  810318.0 |\n",
       "|    SimpleWild5x    |      104       |    True    |     751268     |  748768.0 |\n",
       "|    SimpleWild5x    |      106       |    True    |     749568     |  747068.0 |\n",
       "| SimpleRespinRedHot |      108       |    True    |     798318     |  795818.0 |\n",
       "|    SimpleWild5x    |      112       |    True    |    1594318     | 1591818.0 |\n",
       "|    before_spin     |      114       |    True    |     772068     |  769568.0 |\n",
       "|    before_spin     |      114       |    True    |     778318     |  775818.0 |\n",
       "|    MultiWild5x     |      115       |    True    |     760568     |  758068.0 |\n",
       "+--------------------+----------------+------------+----------------+-----------+\n",
       "+----+-----+\n",
       "| rn | ... |\n",
       "+----+-----+\n",
       "| 1  | ... |\n",
       "| 2  | ... |\n",
       "| 3  | ... |\n",
       "| 4  | ... |\n",
       "| 5  | ... |\n",
       "| 6  | ... |\n",
       "| 7  | ... |\n",
       "| 8  | ... |\n",
       "| 9  | ... |\n",
       "| 10 | ... |\n",
       "+----+-----+\n",
       "[57 rows x 28 columns]\n",
       "Note: Only the head of the TimeSeries is printed.\n",
       "You can use print_rows(num_rows=m, num_columns=n) to print more rows and columns."
      ]
     },
     "execution_count": 23,
     "metadata": {},
     "output_type": "execute_result"
    }
   ],
   "source": [
    "particular_user = valid[valid['user_id'] == 'c796f7b5-69e0-3fa2-b4b5-a68e0877c70d']\n",
    "particular_user\n"
   ]
  },
  {
   "cell_type": "code",
   "execution_count": 24,
   "metadata": {
    "collapsed": false
   },
   "outputs": [
    {
     "name": "stdout",
     "output_type": "stream",
     "text": [
      "PROGRESS: Making a churn forecast for the time window:\n",
      "PROGRESS: --------------------------------------------------\n",
      "PROGRESS:  Start : 2016-04-23 04:16:25\n",
      "PROGRESS:  End   : 2016-04-30 04:16:25\n",
      "PROGRESS: --------------------------------------------------\n",
      "PROGRESS: Grouping dataset by user.\n",
      "PROGRESS: Resampling grouped observation_data by time-period 1 day, 0:00:00.\n"
     ]
    },
    {
     "data": {
      "text/html": [
       "<pre>next_event_time is a categorical variable with too many different values (204030) and will be ignored.</pre>"
      ],
      "text/plain": [
       "next_event_time is a categorical variable with too many different values (204030) and will be ignored."
      ]
     },
     "metadata": {},
     "output_type": "display_data"
    },
    {
     "data": {
      "text/html": [
       "<pre>previous_event_time is a categorical variable with too many different values (198209) and will be ignored.</pre>"
      ],
      "text/plain": [
       "previous_event_time is a categorical variable with too many different values (198209) and will be ignored."
      ]
     },
     "metadata": {},
     "output_type": "display_data"
    },
    {
     "data": {
      "text/html": [
       "<pre>last_event_time is a categorical variable with too many different values (15490) and will be ignored.</pre>"
      ],
      "text/plain": [
       "last_event_time is a categorical variable with too many different values (15490) and will be ignored."
      ]
     },
     "metadata": {},
     "output_type": "display_data"
    },
    {
     "data": {
      "text/html": [
       "<pre>first_event_time is a categorical variable with too many different values (15497) and will be ignored.</pre>"
      ],
      "text/plain": [
       "first_event_time is a categorical variable with too many different values (15497) and will be ignored."
      ]
     },
     "metadata": {},
     "output_type": "display_data"
    },
    {
     "name": "stdout",
     "output_type": "stream",
     "text": [
      "PROGRESS: Generating features for boundary 2016-04-23 04:16:25.\n",
      "PROGRESS: Joining user_data with aggregated features.\n"
     ]
    }
   ],
   "source": [
    "explanations = model.explain(particular_user, user_data=users)"
   ]
  },
  {
   "cell_type": "code",
   "execution_count": 25,
   "metadata": {
    "collapsed": false
   },
   "outputs": [
    {
     "name": "stdout",
     "output_type": "stream",
     "text": [
      "\n",
      "Model explanations\n",
      "---------------------------------------\n",
      "Customer ID       : ['c796f7b5-69e0-3fa2-b4b5-a68e0877c70d']\n",
      "Churn probability : [0.9774881601333618]\n",
      "\n",
      "Why did the model make this prediction?\n",
      "---------------------------------------\n",
      "1. Sum of \"rank_desc\" is less than 1.50 each day in the last 60 days\n",
      "2. Sum of \"rank_desc\" is less than 4.50 each day in the last 14 days\n"
     ]
    }
   ],
   "source": [
    "print \"\"\n",
    "print \"Model explanations\"\n",
    "print \"---------------------------------------\"\n",
    "print 'Customer ID       : %s' % explanations[\"user_id\"]\n",
    "print 'Churn probability : %s' % explanations[\"probability\"]\n",
    "print \"\"\n",
    "print \"Why did the model make this prediction?\"\n",
    "print \"---------------------------------------\"\n",
    "print \"\\n\".join(['%s. %s' % (i + 1, x) for i, x in enumerate(explanations[\"explanation\"][0])])"
   ]
  }
 ],
 "metadata": {
  "kernelspec": {
   "display_name": "Python [gl-env]",
   "language": "python",
   "name": "Python [gl-env]"
  },
  "language_info": {
   "codemirror_mode": {
    "name": "ipython",
    "version": 2
   },
   "file_extension": ".py",
   "mimetype": "text/x-python",
   "name": "python",
   "nbconvert_exporter": "python",
   "pygments_lexer": "ipython2",
   "version": "2.7.12"
  }
 },
 "nbformat": 4,
 "nbformat_minor": 0
}
